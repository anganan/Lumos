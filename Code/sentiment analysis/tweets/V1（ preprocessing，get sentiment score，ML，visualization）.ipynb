{
 "cells": [
  {
   "cell_type": "markdown",
   "id": "18c243d0",
   "metadata": {},
   "source": [
    "Supporting materials：\n",
    "1. https://www.kaggle.com/code/scchuy/kaggle-book-sentiment-analysis))\n",
    "2. https://www.kaggle.com/competitions/tweet-sentiment-extraction/code\n",
    "3. https://www.kaggle.com/code/tanulsingh077/twitter-sentiment-extaction-analysis-eda-and-model"
   ]
  },
  {
   "cell_type": "markdown",
   "id": "f0c6791c",
   "metadata": {},
   "source": [
    "# goal for this code：\n",
    "1. using NLP techniques to transform text into words(stemming only for verbs)\n",
    "\n",
    "1.1 use them as input for textblob to analysis the sentiment score,bucketing it into 3 groups\n",
    "\n",
    "1.2 use the results as labels and use randomforest to do the ML tasks\n",
    "\n",
    "2.  use cleaned words to calculate the frequency(using tf-idf) and creat wordcloud\n",
    "(also use in creating wordclouds in comments and hashtags respectively)  \n",
    "\n",
    "techniques involved: \n",
    "basic cleaning->Tokenization->Remove stopwords, Punctiuation marks->Normalization ->lowercasing->Spelling correction->singualrize\n",
    "lemmatization or Stemmting"
   ]
  },
  {
   "cell_type": "code",
   "execution_count": 39,
   "id": "86aaaadd",
   "metadata": {
    "scrolled": true
   },
   "outputs": [],
   "source": [
    "from plotly import graph_objs as go\n",
    "import plotly.express as px\n",
    "import plotly.figure_factory as ff\n",
    "\n",
    "from tqdm.notebook import tqdm\n",
    "import re\n",
    "from transformers import BertModel, BertTokenizer\n",
    "import transformers\n",
    "from tokenizers import BertWordPieceTokenizer\n",
    "import string\n",
    "import numpy as np \n",
    "import random\n",
    "import pandas as pd \n",
    "import matplotlib.pyplot as plt\n",
    "import seaborn as sns\n",
    "%matplotlib inline\n",
    "\n",
    "from collections import Counter\n",
    "\n",
    "from PIL import Image\n",
    "from wordcloud import WordCloud, STOPWORDS, ImageColorGenerator\n",
    "\n",
    "\n",
    "import os\n",
    "import nltk\n",
    "import spacy\n",
    "import wordnet\n",
    "import random\n",
    "from spacy.util import compounding\n",
    "from spacy.util import minibatch\n",
    "\n",
    "import warnings\n",
    "warnings.filterwarnings(\"ignore\")\n",
    "\n",
    "import nltk\n",
    "from nltk.tokenize import sent_tokenize, word_tokenize\n",
    "from nltk.corpus import stopwords\n",
    "from collections import defaultdict\n",
    "from string import punctuation\n",
    "from heapq import nlargest\n",
    "\n",
    "import nltk\n",
    "from nltk.stem import WordNetLemmatizer\n",
    "from nltk.stem.porter import PorterStemmer\n",
    "from nltk.corpus.reader import wordnet\n",
    "\n",
    "from nltk import word_tokenize\n",
    "from nltk import tokenize"
   ]
  },
  {
   "cell_type": "markdown",
   "id": "1fcc4867",
   "metadata": {},
   "source": [
    "## explore data"
   ]
  },
  {
   "cell_type": "code",
   "execution_count": 14,
   "id": "f0aea6a6",
   "metadata": {
    "scrolled": true
   },
   "outputs": [
    {
     "name": "stdout",
     "output_type": "stream",
     "text": [
      "<class 'pandas.core.frame.DataFrame'>\n",
      "RangeIndex: 6838 entries, 0 to 6837\n",
      "Data columns (total 35 columns):\n",
      " #   Column                      Non-Null Count  Dtype  \n",
      "---  ------                      --------------  -----  \n",
      " 0   coordinates                 0 non-null      float64\n",
      " 1   created_at                  6838 non-null   object \n",
      " 2   hashtags                    526 non-null    object \n",
      " 3   media                       927 non-null    object \n",
      " 4   urls                        1195 non-null   object \n",
      " 5   favorite_count              6838 non-null   int64  \n",
      " 6   id                          6838 non-null   int64  \n",
      " 7   in_reply_to_screen_name     2716 non-null   object \n",
      " 8   in_reply_to_status_id       2620 non-null   float64\n",
      " 9   in_reply_to_user_id         2716 non-null   float64\n",
      " 10  lang                        6838 non-null   object \n",
      " 11  place                       129 non-null    object \n",
      " 12  possibly_sensitive          2006 non-null   object \n",
      " 13  quote_id                    658 non-null    float64\n",
      " 14  retweet_count               6838 non-null   int64  \n",
      " 15  retweet_id                  0 non-null      float64\n",
      " 16  retweet_screen_name         0 non-null      float64\n",
      " 17  source                      6838 non-null   object \n",
      " 18  text                        6838 non-null   object \n",
      " 19  tweet_url                   6838 non-null   object \n",
      " 20  user_created_at             6838 non-null   object \n",
      " 21  user_id                     6838 non-null   int64  \n",
      " 22  user_default_profile_image  6838 non-null   bool   \n",
      " 23  user_description            5973 non-null   object \n",
      " 24  user_favourites_count       6838 non-null   int64  \n",
      " 25  user_followers_count        6838 non-null   int64  \n",
      " 26  user_friends_count          6838 non-null   int64  \n",
      " 27  user_listed_count           6838 non-null   int64  \n",
      " 28  user_location               4364 non-null   object \n",
      " 29  user_name                   6838 non-null   object \n",
      " 30  user_screen_name            6838 non-null   object \n",
      " 31  user_statuses_count         6838 non-null   int64  \n",
      " 32  user_time_zone              0 non-null      float64\n",
      " 33  user_urls                   1552 non-null   object \n",
      " 34  user_verified               6838 non-null   bool   \n",
      "dtypes: bool(2), float64(7), int64(9), object(17)\n",
      "memory usage: 1.7+ MB\n"
     ]
    }
   ],
   "source": [
    "df = pd.read_csv('C:/Users/86180/Desktop/IC-DS/GROUP PROJECT/review_data/TweetIDs_Part1.csv')\n",
    "df.info()"
   ]
  },
  {
   "cell_type": "code",
   "execution_count": 15,
   "id": "f80d48bb",
   "metadata": {},
   "outputs": [
    {
     "data": {
      "text/plain": [
       "5906    @iHM01myself Then you should probably find a m...\n",
       "4494    Monkey pox is spreading  you wait when we find...\n",
       "3285               Ian Brown looks like he has monkey pox\n",
       "2189    @GBNEWS With a face like that, are you sure it...\n",
       "1020    No-one should be surprised we apparently have ...\n",
       "2601    $AEMD still unfound on #MonkeyPox $TNXP $GOVX ...\n",
       "156     You know how I know this country is dying? The...\n",
       "32      @Jerryhomesweet @JamieSale @TruegritG Monkey p...\n",
       "2940    The Centers for Disease Control and Prevention...\n",
       "4913    @ReutersWorld “Monkey Pox” is a racist insult ...\n",
       "4481    #billgates you can see b gates warning of a sm...\n",
       "3476                   Monkey pox https://t.co/shPQXowJxx\n",
       "3737    @Incindery1 Example of scarring due to Small P...\n",
       "6477      So, when are we getting the Monkey Pox vaccine?\n",
       "2960    oh wowowow.............. so is the phrase  \"un...\n",
       "5969    Mystery solved!  This is how we ended up with ...\n",
       "5880    @mattsledge @SFGate Invasive jumping works, mo...\n",
       "1731    @marionkoopmans\\n@ministerVWS \\n@the_stinging ...\n",
       "4962    @FoxNews Given unrestricted migration what is ...\n",
       "4685    Outbreak is on BBC at 5 pst, in case you’re no...\n",
       "Name: text, dtype: object"
      ]
     },
     "execution_count": 15,
     "metadata": {},
     "output_type": "execute_result"
    }
   ],
   "source": [
    "df['text'].sample(20)"
   ]
  },
  {
   "cell_type": "markdown",
   "id": "662d151f",
   "metadata": {},
   "source": [
    "### extract the txt column and drop duplicated txt"
   ]
  },
  {
   "cell_type": "code",
   "execution_count": 18,
   "id": "af46d88e",
   "metadata": {},
   "outputs": [
    {
     "name": "stdout",
     "output_type": "stream",
     "text": [
      "(6838, 35)\n",
      "(6529, 1)\n",
      "null 0\n",
      "duplicates 36\n"
     ]
    }
   ],
   "source": [
    "content = pd.DataFrame(df[df.lang=='en']['text'])\n",
    "print(df.shape)\n",
    "print(content.shape)\n",
    "print('null',sum(df[df.lang=='en']['text'].isnull()))\n",
    "print('duplicates',content.duplicated().sum())"
   ]
  },
  {
   "cell_type": "code",
   "execution_count": 22,
   "id": "7c68fec6",
   "metadata": {},
   "outputs": [
    {
     "name": "stdout",
     "output_type": "stream",
     "text": [
      "duplicates 0\n"
     ]
    }
   ],
   "source": [
    "content .drop_duplicates(keep=\"first\",inplace = True)\n",
    "print('duplicates',content.duplicated().sum())"
   ]
  },
  {
   "cell_type": "code",
   "execution_count": 24,
   "id": "6d03bf55",
   "metadata": {},
   "outputs": [],
   "source": [
    "# import nltk\n",
    "# nltk.download()\n",
    "# 下载完语料库☞    C:\\Users\\86180\\AppData\\Roaming\\nltk_data"
   ]
  },
  {
   "cell_type": "markdown",
   "id": "b4c6a5f7",
   "metadata": {},
   "source": [
    "# to do\n",
    "1. basic cleaning\n",
    "2. Tokenization\n",
    "3. Remove stopwords, Punctiuation marks\n",
    "4. Normalization - lowercasing\n",
    "5. Spelling correction, singualrize\n",
    "6. lemmatization or Stemmting\n",
    "7. Textblob.sentiment - Subjective Score, Polarity Score\n",
    "8. BOW - TfIDF , CountVectorizer - numerical form\n",
    "9. ML/DL model inorder to make classification/ regression model"
   ]
  },
  {
   "cell_type": "markdown",
   "id": "0d5eea0f",
   "metadata": {},
   "source": [
    "## 1. basic cleaning"
   ]
  },
  {
   "cell_type": "code",
   "execution_count": 27,
   "id": "88c18fa7",
   "metadata": {},
   "outputs": [],
   "source": [
    "def basic_cleaning(text):\n",
    "    # clear url\n",
    "    text = re.sub(\"(http|https|ftp)://[a-zA-Z0-9\\\\./]+\", '', text)\n",
    "    # clear fuck-bitch swear\n",
    "    # we can decide whether or not to delete swear(eg. if for Vader，we don't need to do this)\n",
    "    text = re.sub(r'\\*+', 'swear', text)\n",
    "    # remove tags\n",
    "    text = re.sub(\"#(\\w+)\", \" \", text)\n",
    "    # remove @xxx \n",
    "    text = re.sub(\"(@[A-Za-z0-9]+)|(\\w+:\\/\\/\\S+)\", \" \", text)\n",
    "    \n",
    "    # clear not alpha\n",
    "    text = re.sub(r'[^a-zA-Z|\\s]', '', text)\n",
    "    \n",
    "    return text\n",
    "\n",
    "def remove_html(text):\n",
    "    html = re.compile(r'<.*?>')\n",
    "    return html.sub(r'',text)\n",
    "\n",
    "# remove repeated characters(over 3 times)\n",
    "def remove_multiplechars(text):\n",
    "    \"\"\"\n",
    "    for example, so we have “way” instead of “waaaayyyyy”\n",
    "    \"\"\"\n",
    "    text = re.sub(r'(.)\\1{1,}', r'\\1', text)\n",
    "    return text\n",
    "\n",
    "def remove_emoji(text):\n",
    "    #emoticons\n",
    "    #symbols & pictographs\n",
    "    #transport & map symbols\n",
    "    #flags (iOS)\n",
    "    emoji_pattern = re.compile(\"[\"\\\n",
    "        u\"\\U0001F600-\\U0001F64F|\"\\\n",
    "        u\"\\U0001F300-\\U0001F5FF|\"\\\n",
    "        u\"\\U0001F680-\\U0001F6FF|\"\\\n",
    "        u\"\\U0001F1E0-\\U0001F1FF|\"\\\n",
    "        u\"\\U00002702-\\U000027B0|\"\\\n",
    "        u\"\\U000024C2-\\U0001F251\"\\\n",
    "        \"]+\", flags=re.UNICODE)\n",
    "    return emoji_pattern.sub(r'', text)"
   ]
  },
  {
   "cell_type": "code",
   "execution_count": 28,
   "id": "c9110494",
   "metadata": {},
   "outputs": [
    {
     "data": {
      "text/plain": [
       "'@TheRebelRise We are already seeing some travel restrictions to certain countries due to covid and advisory for monkey pox.'"
      ]
     },
     "execution_count": 28,
     "metadata": {},
     "output_type": "execute_result"
    }
   ],
   "source": [
    "content['text'][1567] # use this as an example to test our cleaning method"
   ]
  },
  {
   "cell_type": "code",
   "execution_count": 29,
   "id": "08696e6d",
   "metadata": {
    "scrolled": true
   },
   "outputs": [
    {
     "data": {
      "text/plain": [
       "' We are already seing some travel restrictions to certain countries due to covid and advisory for monkey pox'"
      ]
     },
     "execution_count": 29,
     "metadata": {},
     "output_type": "execute_result"
    }
   ],
   "source": [
    "def clean(df):\n",
    "    for col in ['text']:\n",
    "        df[col] = df[col].astype(str).apply(lambda x:basic_cleaning(x))\n",
    "        # we can decide whether or not to delete multiplechars(eg. if for Vader，we don't need to do this)\n",
    "        df[col] = df[col].astype(str).apply(lambda x:remove_multiplechars(x))\n",
    "        # we can decide whether or not to delete emoji(eg. if for Vader，we don't need to do this)\n",
    "        df[col] = df[col].astype(str).apply(lambda x:remove_emoji(x)) \n",
    "        df[col] = df[col].astype(str).apply(lambda x:remove_html(x))\n",
    "    return df\n",
    "\n",
    "content = clean(content)\n",
    "content['text'][1567]"
   ]
  },
  {
   "cell_type": "markdown",
   "id": "7c89c0a0",
   "metadata": {},
   "source": [
    "## 2. lemmatizer with POS tags"
   ]
  },
  {
   "cell_type": "markdown",
   "id": "e46cebfa",
   "metadata": {},
   "source": [
    "### 2.1 use nltk package \"pos_tags\" to annotate the  Part-of-Speech"
   ]
  },
  {
   "cell_type": "code",
   "execution_count": 30,
   "id": "9983303f",
   "metadata": {},
   "outputs": [],
   "source": [
    "import nltk\n",
    "from nltk.stem import WordNetLemmatizer\n",
    "from nltk.stem.porter import PorterStemmer\n",
    "from nltk.corpus.reader import wordnet\n",
    "\n",
    "# 实例化\n",
    "ps=nltk.stem.porter.PorterStemmer()\n",
    "lemmatizer = WordNetLemmatizer()"
   ]
  },
  {
   "cell_type": "code",
   "execution_count": 31,
   "id": "e56722de",
   "metadata": {},
   "outputs": [
    {
     "data": {
      "text/plain": [
       "[('Jogging', 'VBG'), ('Delhi', 'NNP')]"
      ]
     },
     "execution_count": 31,
     "metadata": {},
     "output_type": "execute_result"
    }
   ],
   "source": [
    "# return a 2-dim array\n",
    "# we can select the tag we want and store it in a list\n",
    "# example\n",
    "nltk.pos_tag(['Jogging','Delhi'])\n",
    "\n",
    "# here N means Noun"
   ]
  },
  {
   "cell_type": "markdown",
   "id": "c764793c",
   "metadata": {},
   "source": [
    "A POS tag (or part-of-speech tag) is a special label assigned to each token (word) in a text corpus to indicate the part of speech and often also other grammatical categories such as tense, number (plural/singular), case etc.\n",
    "\n",
    "POS tags are used in corpus searches and in text analysis tools and algorithms."
   ]
  },
  {
   "cell_type": "code",
   "execution_count": 32,
   "id": "14f682df",
   "metadata": {},
   "outputs": [],
   "source": [
    "# function to convert nltk tag to wordnet tag\n",
    "# we just select 4 main big tags \n",
    "def nltk_tag_to_wordnet_tag(nltk_tag):\n",
    "    \n",
    "    if nltk_tag.startswith('J'):\n",
    "        return wordnet.ADJ\n",
    "    elif nltk_tag.startswith('V'):\n",
    "        return wordnet.VERB\n",
    "    elif nltk_tag.startswith('N'):\n",
    "        return wordnet.NOUN\n",
    "    elif nltk_tag.startswith('R'):\n",
    "        return wordnet.ADV\n",
    "    else:          \n",
    "        return None"
   ]
  },
  {
   "cell_type": "markdown",
   "id": "0c0a8c17",
   "metadata": {},
   "source": [
    "## 2.2 lemmatizer with POS tags"
   ]
  },
  {
   "cell_type": "code",
   "execution_count": 47,
   "id": "4692994e",
   "metadata": {},
   "outputs": [
    {
     "name": "stdout",
     "output_type": "stream",
     "text": [
      "i have be work on my skill\n"
     ]
    }
   ],
   "source": [
    "# # defining lemmatizer which will take POS tags into consideration before performing lemmatization\n",
    "from nltk.corpus.reader import wordnet\n",
    "# note that this package != wordnet itself\n",
    "def lemmatize_sentence(sentence):   \n",
    "    \n",
    "    #tokenize the sentence and find the POS tag for each token\n",
    "    # return token and its nltk_tag for each token in the sentence\n",
    "    nltk_tagged = nltk.pos_tag(nltk.word_tokenize(sentence))  \n",
    "    \n",
    "#     print(list(nltk_tagged))\n",
    "    \n",
    "    #tuple of (token, wordnet_tag) using the map function\n",
    "    wordnet_tagged = map(lambda x: (x[0], nltk_tag_to_wordnet_tag(x[1])), nltk_tagged)\n",
    "        \n",
    "    lemmatized_sentence = []       \n",
    "    for word, tag in wordnet_tagged:\n",
    "        if tag is None:\n",
    "            #if there is no available tag, append the token as is\n",
    "            lemmatized_sentence.append(word)\n",
    "#             print('IN CASE OF NONE: ', lemmatized_sentence)\n",
    "        \n",
    "        else:        \n",
    "            #else use the tag to lemmatize the token\n",
    "            lemmatized_sentence.append(lemmatizer.lemmatize(word, tag))\n",
    "            \n",
    "            \n",
    "#             print('IN CASE OF ELSE : ',lemmatized_sentence)\n",
    "\n",
    "    \n",
    "    return \" \".join(lemmatized_sentence)\n",
    "\n",
    "print(lemmatize_sentence(\" i have been working on my skills \")) \n",
    "# i have be work on my skill"
   ]
  },
  {
   "cell_type": "code",
   "execution_count": null,
   "id": "16de41f2",
   "metadata": {},
   "outputs": [],
   "source": []
  },
  {
   "cell_type": "markdown",
   "id": "47678525",
   "metadata": {},
   "source": [
    "## 3. remove stopwords&punctuation"
   ]
  },
  {
   "cell_type": "code",
   "execution_count": 42,
   "id": "8c215f45",
   "metadata": {},
   "outputs": [],
   "source": [
    "from nltk.corpus import stopwords\n",
    "from collections import defaultdict\n",
    "from string import punctuation"
   ]
  },
  {
   "cell_type": "markdown",
   "id": "ef8dd1bc",
   "metadata": {},
   "source": [
    "stopwords 是一个列表，包含了英文中那些频繁出现的词，如am, is, are。\n",
    "\n",
    "defaultdict 是一个带有默认值的字典容器。\n",
    "\n",
    "puctuation 是一个列表，包含了英文中的标点和符号。\n"
   ]
  },
  {
   "cell_type": "markdown",
   "id": "ff4536bf",
   "metadata": {},
   "source": [
    "### 3.1 combining  them into a list"
   ]
  },
  {
   "cell_type": "code",
   "execution_count": 40,
   "id": "aa355675",
   "metadata": {},
   "outputs": [
    {
     "name": "stdout",
     "output_type": "stream",
     "text": [
      "Number of Stopwords::  179\n",
      "Not is present in Stopwords::  True\n"
     ]
    }
   ],
   "source": [
    "stopwords1 = list(stopwords.words('english'))\n",
    "print('Number of Stopwords:: ', len(stopwords1))\n",
    "print('Not is present in Stopwords:: ','not' in stopwords1)"
   ]
  },
  {
   "cell_type": "code",
   "execution_count": 41,
   "id": "110d5889",
   "metadata": {},
   "outputs": [
    {
     "data": {
      "text/plain": [
       "'!\"#$%&\\'()*+,-./:;<=>?@[\\\\]^_`{|}~'"
      ]
     },
     "execution_count": 41,
     "metadata": {},
     "output_type": "execute_result"
    }
   ],
   "source": [
    "punctuation"
   ]
  },
  {
   "cell_type": "code",
   "execution_count": 44,
   "id": "c838f8a4",
   "metadata": {
    "scrolled": true
   },
   "outputs": [
    {
     "name": "stdout",
     "output_type": "stream",
     "text": [
      "211\n",
      "\n",
      "['i', 'me', 'my', 'myself', 'we', 'our', 'ours', 'ourselves', 'you', \"you're\", \"you've\", \"you'll\", \"you'd\", 'your', 'yours', 'yourself', 'yourselves', 'he', 'him', 'his', 'himself', 'she', \"she's\", 'her', 'hers', 'herself', 'it', \"it's\", 'its', 'itself', 'they', 'them', 'their', 'theirs', 'themselves', 'what', 'which', 'who', 'whom', 'this', 'that', \"that'll\", 'these', 'those', 'am', 'is', 'are', 'was', 'were', 'be', 'been', 'being', 'have', 'has', 'had', 'having', 'do', 'does', 'did', 'doing', 'a', 'an', 'the', 'and', 'but', 'if', 'or', 'because', 'as', 'until', 'while', 'of', 'at', 'by', 'for', 'with', 'about', 'against', 'between', 'into', 'through', 'during', 'before', 'after', 'above', 'below', 'to', 'from', 'up', 'down', 'in', 'out', 'on', 'off', 'over', 'under', 'again', 'further', 'then', 'once', 'here', 'there', 'when', 'where', 'why', 'how', 'all', 'any', 'both', 'each', 'few', 'more', 'most', 'other', 'some', 'such', 'no', 'nor', 'not', 'only', 'own', 'same', 'so', 'than', 'too', 'very', 's', 't', 'can', 'will', 'just', 'don', \"don't\", 'should', \"should've\", 'now', 'd', 'll', 'm', 'o', 're', 've', 'y', 'ain', 'aren', \"aren't\", 'couldn', \"couldn't\", 'didn', \"didn't\", 'doesn', \"doesn't\", 'hadn', \"hadn't\", 'hasn', \"hasn't\", 'haven', \"haven't\", 'isn', \"isn't\", 'ma', 'mightn', \"mightn't\", 'mustn', \"mustn't\", 'needn', \"needn't\", 'shan', \"shan't\", 'shouldn', \"shouldn't\", 'wasn', \"wasn't\", 'weren', \"weren't\", 'won', \"won't\", 'wouldn', \"wouldn't\", '!', '\"', '#', '$', '%', '&', \"'\", '(', ')', '*', '+', ',', '-', '.', '/', ':', ';', '<', '=', '>', '?', '@', '[', '\\\\', ']', '^', '_', '`', '{', '|', '}', '~']\n"
     ]
    }
   ],
   "source": [
    "stopwords1 = list(stopwords.words('english'))+list(punctuation)\n",
    "print(len(stopwords1),stopwords1,sep='\\n\\n')"
   ]
  },
  {
   "cell_type": "markdown",
   "id": "ee7f4fb7",
   "metadata": {},
   "source": [
    "### 3.2 Removing Stopwords and punctuatons"
   ]
  },
  {
   "cell_type": "code",
   "execution_count": 48,
   "id": "94d57d76",
   "metadata": {},
   "outputs": [],
   "source": [
    "from nltk import word_tokenize\n",
    "from nltk import tokenize"
   ]
  },
  {
   "cell_type": "markdown",
   "id": "62ee9aa9",
   "metadata": {},
   "source": [
    "nltk.tokenize 是NLTK提供的分词工具包。\n",
    "\n",
    "所谓的分词 (tokenize) 实际就是把段落分成句子，把句子分成一个个单词的过程\n",
    "\n",
    "sent_tokenize() 函数对应的是分段为句\n",
    "\n",
    "word_tokenize()函数对应的是分句为词。"
   ]
  },
  {
   "cell_type": "code",
   "execution_count": 49,
   "id": "b10e1ed5",
   "metadata": {},
   "outputs": [],
   "source": [
    "def clean_text_1(a):\n",
    "    return  ' '.join([i.lower() for i in tokenize.word_tokenize(a) if i.lower() not in stopwords1])\n",
    "    \n",
    "    # Refraning the data having less than 2 tokens\n",
    "    if len(ls)>2:\n",
    "        val= ' '.join(ls)\n",
    "        return val\n",
    "    else :\n",
    "        return None"
   ]
  },
  {
   "cell_type": "code",
   "execution_count": 50,
   "id": "6c046e86",
   "metadata": {},
   "outputs": [],
   "source": [
    "def clean_text_2(a):\n",
    "    return  [i.lower() for i in tokenize.word_tokenize(a) if i.lower() not in stopwords1]"
   ]
  },
  {
   "cell_type": "code",
   "execution_count": 52,
   "id": "1cce2843",
   "metadata": {},
   "outputs": [
    {
     "data": {
      "text/html": [
       "<div>\n",
       "<style scoped>\n",
       "    .dataframe tbody tr th:only-of-type {\n",
       "        vertical-align: middle;\n",
       "    }\n",
       "\n",
       "    .dataframe tbody tr th {\n",
       "        vertical-align: top;\n",
       "    }\n",
       "\n",
       "    .dataframe thead th {\n",
       "        text-align: right;\n",
       "    }\n",
       "</style>\n",
       "<table border=\"1\" class=\"dataframe\">\n",
       "  <thead>\n",
       "    <tr style=\"text-align: right;\">\n",
       "      <th></th>\n",
       "      <th>text</th>\n",
       "      <th>clean_txt</th>\n",
       "    </tr>\n",
       "  </thead>\n",
       "  <tbody>\n",
       "    <tr>\n",
       "      <th>5402</th>\n",
       "      <td>NOT THEM TALKING ABOUT MONKEY POX ON THE NEWS ...</td>\n",
       "      <td>[talking, monkey, pox, news, im, serious, wil,...</td>\n",
       "    </tr>\n",
       "    <tr>\n",
       "      <th>3943</th>\n",
       "      <td>And they rol out the next health emergency ak...</td>\n",
       "      <td>[rol, next, health, emergency, aka, monkey, po...</td>\n",
       "    </tr>\n",
       "    <tr>\n",
       "      <th>3739</th>\n",
       "      <td>ctmarkets Monkey pox is bulish no They wil pr...</td>\n",
       "      <td>[ctmarkets, monkey, pox, bulish, wil, print, m...</td>\n",
       "    </tr>\n",
       "    <tr>\n",
       "      <th>6164</th>\n",
       "      <td>Monkey pox</td>\n",
       "      <td>[monkey, pox]</td>\n",
       "    </tr>\n",
       "    <tr>\n",
       "      <th>6071</th>\n",
       "      <td>Dont forget the monkey pox</td>\n",
       "      <td>[dont, forget, monkey, pox]</td>\n",
       "    </tr>\n",
       "    <tr>\n",
       "      <th>3966</th>\n",
       "      <td>Fabricant The Guys at Rainbow may have Monkey...</td>\n",
       "      <td>[fabricant, guys, rainbow, may, monkey, pox, z...</td>\n",
       "    </tr>\n",
       "    <tr>\n",
       "      <th>62</th>\n",
       "      <td>Are you talking about monkey pox or Covid</td>\n",
       "      <td>[talking, monkey, pox, covid]</td>\n",
       "    </tr>\n",
       "    <tr>\n",
       "      <th>6014</th>\n",
       "      <td>I got moneypox the way my funds be spreading</td>\n",
       "      <td>[got, moneypox, way, funds, spreading]</td>\n",
       "    </tr>\n",
       "    <tr>\n",
       "      <th>4258</th>\n",
       "      <td>More monkey busines</td>\n",
       "      <td>[monkey, busines]</td>\n",
       "    </tr>\n",
       "    <tr>\n",
       "      <th>263</th>\n",
       "      <td>Sory smalpox vacine efective against monkey pox</td>\n",
       "      <td>[sory, smalpox, vacine, efective, monkey, pox]</td>\n",
       "    </tr>\n",
       "  </tbody>\n",
       "</table>\n",
       "</div>"
      ],
      "text/plain": [
       "                                                   text  \\\n",
       "5402  NOT THEM TALKING ABOUT MONKEY POX ON THE NEWS ...   \n",
       "3943   And they rol out the next health emergency ak...   \n",
       "3739   ctmarkets Monkey pox is bulish no They wil pr...   \n",
       "6164                                         Monkey pox   \n",
       "6071                         Dont forget the monkey pox   \n",
       "3966   Fabricant The Guys at Rainbow may have Monkey...   \n",
       "62           Are you talking about monkey pox or Covid    \n",
       "6014      I got moneypox the way my funds be spreading    \n",
       "4258                               More monkey busines    \n",
       "263     Sory smalpox vacine efective against monkey pox   \n",
       "\n",
       "                                              clean_txt  \n",
       "5402  [talking, monkey, pox, news, im, serious, wil,...  \n",
       "3943  [rol, next, health, emergency, aka, monkey, po...  \n",
       "3739  [ctmarkets, monkey, pox, bulish, wil, print, m...  \n",
       "6164                                      [monkey, pox]  \n",
       "6071                        [dont, forget, monkey, pox]  \n",
       "3966  [fabricant, guys, rainbow, may, monkey, pox, z...  \n",
       "62                        [talking, monkey, pox, covid]  \n",
       "6014             [got, moneypox, way, funds, spreading]  \n",
       "4258                                  [monkey, busines]  \n",
       "263      [sory, smalpox, vacine, efective, monkey, pox]  "
      ]
     },
     "execution_count": 52,
     "metadata": {},
     "output_type": "execute_result"
    }
   ],
   "source": [
    "content['clean_txt'] = content['text'].apply(clean_text_2)\n",
    "# performing tokenization -> stopword removal -> normalization -> allowing sentences having more than 3 tokens\n",
    "content.sample(10)"
   ]
  },
  {
   "cell_type": "markdown",
   "id": "70990cf0",
   "metadata": {},
   "source": [
    "## 4. Lemmatization "
   ]
  },
  {
   "cell_type": "code",
   "execution_count": 53,
   "id": "8938502e",
   "metadata": {},
   "outputs": [],
   "source": [
    "# Lemmatization by only considering Verb for the clean data\n",
    "def clean_text_lemma(a):\n",
    "    val= ' '.join([lemmatizer.lemmatize(i.lower(),pos = 'v') for i in tokenize.word_tokenize(a) if i.lower() not in stopwords1])\n",
    "    return val\n",
    "\n",
    "# Stemming on clean data\n",
    "def clean_text_stem(a):  \n",
    "    \n",
    "    val= ' '.join([ps.stem(i.lower()) for i in tokenize.word_tokenize(a) if i.lower() not in stopwords1])\n",
    "    return val"
   ]
  },
  {
   "cell_type": "code",
   "execution_count": 54,
   "id": "80d8c4b4",
   "metadata": {},
   "outputs": [],
   "source": [
    "# Lemmatization by only considering Verb for the clean data\n",
    "content['clean_lemma'] = content['clean_txt'].apply (lambda x:' '.join(x)).apply(clean_text_lemma)\n",
    "\n",
    "# Lemmatization by considering respective POS tags\n",
    "content['clean_lemma_pos'] = content['clean_txt'].apply (lambda x:' '.join(x)).apply(lemmatize_sentence)\n",
    "\n",
    "# Stemming on clean data\n",
    "content['clean_stem_txt'] = content['clean_txt'].apply (lambda x:' '.join(x)).apply(clean_text_stem)"
   ]
  },
  {
   "cell_type": "code",
   "execution_count": 55,
   "id": "e4cd2496",
   "metadata": {},
   "outputs": [
    {
     "data": {
      "text/html": [
       "<div>\n",
       "<style scoped>\n",
       "    .dataframe tbody tr th:only-of-type {\n",
       "        vertical-align: middle;\n",
       "    }\n",
       "\n",
       "    .dataframe tbody tr th {\n",
       "        vertical-align: top;\n",
       "    }\n",
       "\n",
       "    .dataframe thead th {\n",
       "        text-align: right;\n",
       "    }\n",
       "</style>\n",
       "<table border=\"1\" class=\"dataframe\">\n",
       "  <thead>\n",
       "    <tr style=\"text-align: right;\">\n",
       "      <th></th>\n",
       "      <th>text</th>\n",
       "      <th>clean_txt</th>\n",
       "      <th>clean_lemma</th>\n",
       "      <th>clean_lemma_pos</th>\n",
       "      <th>clean_stem_txt</th>\n",
       "    </tr>\n",
       "  </thead>\n",
       "  <tbody>\n",
       "    <tr>\n",
       "      <th>0</th>\n",
       "      <td>Watch the progresive monkeys run out screaming...</td>\n",
       "      <td>[watch, progresive, monkeys, run, screaming, p...</td>\n",
       "      <td>watch progresive monkey run scream pfizerpoxga...</td>\n",
       "      <td>watch progresive monkey run scream pfizerpoxga...</td>\n",
       "      <td>watch progres monkey run scream pfizerpoxgates...</td>\n",
       "    </tr>\n",
       "    <tr>\n",
       "      <th>1</th>\n",
       "      <td>When you have Bil Gates shorting Tesla for ha...</td>\n",
       "      <td>[bil, gates, shorting, tesla, half, bilion, me...</td>\n",
       "      <td>bil gate short tesla half bilion media monkey ...</td>\n",
       "      <td>bil gate short tesla half bilion medium monkey...</td>\n",
       "      <td>bil gate short tesla half bilion media monkey ...</td>\n",
       "    </tr>\n",
       "    <tr>\n",
       "      <th>2</th>\n",
       "      <td>Monkey pox as reported by Reuters \\n\\nGay bise...</td>\n",
       "      <td>[monkey, pox, reported, reuters, gay, bisexual...</td>\n",
       "      <td>monkey pox report reuters gay bisexual men sex...</td>\n",
       "      <td>monkey pox report reuters gay bisexual men sex...</td>\n",
       "      <td>monkey pox report reuter gay bisexu men sex me...</td>\n",
       "    </tr>\n",
       "    <tr>\n",
       "      <th>3</th>\n",
       "      <td>Hey Pete\\nPeople are crazy Busy\\nWe cant expe...</td>\n",
       "      <td>[hey, pete, people, crazy, busy, cant, expect,...</td>\n",
       "      <td>hey pete people crazy busy cant expect worying...</td>\n",
       "      <td>hey pete people crazy busy cant expect worying...</td>\n",
       "      <td>hey pete peopl crazi busi cant expect wori cov...</td>\n",
       "    </tr>\n",
       "    <tr>\n",
       "      <th>4</th>\n",
       "      <td>tx FDA Wel you know the new thing is monkey p...</td>\n",
       "      <td>[tx, fda, wel, know, new, thing, monkey, pox, ...</td>\n",
       "      <td>tx fda wel know new thing monkey pox right vac...</td>\n",
       "      <td>tx fda wel know new thing monkey pox right vac...</td>\n",
       "      <td>tx fda wel know new thing monkey pox right vac...</td>\n",
       "    </tr>\n",
       "    <tr>\n",
       "      <th>5</th>\n",
       "      <td>Disease Detection Laboratories on the front li...</td>\n",
       "      <td>[disease, detection, laboratories, front, line...</td>\n",
       "      <td>disease detection laboratories front line blog...</td>\n",
       "      <td>disease detection laboratories front line blog...</td>\n",
       "      <td>diseas detect laboratori front line blog cdc m...</td>\n",
       "    </tr>\n",
       "    <tr>\n",
       "      <th>7</th>\n",
       "      <td>This monkey pox is starting to give me early C...</td>\n",
       "      <td>[monkey, pox, starting, give, early, covid, vi...</td>\n",
       "      <td>monkey pox start give early covid vibes</td>\n",
       "      <td>monkey pox start give early covid vibe</td>\n",
       "      <td>monkey pox start give earli covid vibe</td>\n",
       "    </tr>\n",
       "    <tr>\n",
       "      <th>8</th>\n",
       "      <td>So reading on how this monkey pox virus spread...</td>\n",
       "      <td>[reading, monkey, pox, virus, spreads, wouldnt...</td>\n",
       "      <td>read monkey pox virus spread wouldnt surprise ...</td>\n",
       "      <td>read monkey pox virus spread wouldnt surprise ...</td>\n",
       "      <td>read monkey pox viru spread wouldnt surpris se...</td>\n",
       "    </tr>\n",
       "    <tr>\n",
       "      <th>9</th>\n",
       "      <td>Monkey pox</td>\n",
       "      <td>[monkey, pox]</td>\n",
       "      <td>monkey pox</td>\n",
       "      <td>monkey pox</td>\n",
       "      <td>monkey pox</td>\n",
       "    </tr>\n",
       "    <tr>\n",
       "      <th>10</th>\n",
       "      <td>Monkey Pox by</td>\n",
       "      <td>[monkey, pox]</td>\n",
       "      <td>monkey pox</td>\n",
       "      <td>monkey pox</td>\n",
       "      <td>monkey pox</td>\n",
       "    </tr>\n",
       "    <tr>\n",
       "      <th>11</th>\n",
       "      <td>Are yal woried about the monkey pox</td>\n",
       "      <td>[yal, woried, monkey, pox]</td>\n",
       "      <td>yal woried monkey pox</td>\n",
       "      <td>yal woried monkey pox</td>\n",
       "      <td>yal wori monkey pox</td>\n",
       "    </tr>\n",
       "    <tr>\n",
       "      <th>12</th>\n",
       "      <td>Id probs get monkey pox ngl I think God wants ...</td>\n",
       "      <td>[id, probs, get, monkey, pox, ngl, think, god,...</td>\n",
       "      <td>id probs get monkey pox ngl think god want dea...</td>\n",
       "      <td>id probs get monkey pox ngl think god want dea...</td>\n",
       "      <td>id prob get monkey pox ngl think god want dead...</td>\n",
       "    </tr>\n",
       "    <tr>\n",
       "      <th>13</th>\n",
       "      <td>Not to mention that the monkey pox is realy sh...</td>\n",
       "      <td>[mention, monkey, pox, realy, shingles, plant,...</td>\n",
       "      <td>mention monkey pox realy shingle plant enhance...</td>\n",
       "      <td>mention monkey pox realy shingle plant enhance...</td>\n",
       "      <td>mention monkey pox reali shingl plant enhanc s...</td>\n",
       "    </tr>\n",
       "    <tr>\n",
       "      <th>14</th>\n",
       "      <td>Maybe worth asking some questions about Monke...</td>\n",
       "      <td>[maybe, worth, asking, questions, monkey, pox]</td>\n",
       "      <td>maybe worth ask question monkey pox</td>\n",
       "      <td>maybe worth ask question monkey pox</td>\n",
       "      <td>mayb worth ask question monkey pox</td>\n",
       "    </tr>\n",
       "    <tr>\n",
       "      <th>15</th>\n",
       "      <td>VYNT idiot ceo should send out something about...</td>\n",
       "      <td>[vynt, idiot, ceo, send, something, monkey, pox]</td>\n",
       "      <td>vynt idiot ceo send something monkey pox</td>\n",
       "      <td>vynt idiot ceo send something monkey pox</td>\n",
       "      <td>vynt idiot ceo send someth monkey pox</td>\n",
       "    </tr>\n",
       "    <tr>\n",
       "      <th>16</th>\n",
       "      <td>I truly hope that monkey pox hasnt evolved to ...</td>\n",
       "      <td>[truly, hope, monkey, pox, hasnt, evolved, lik...</td>\n",
       "      <td>truly hope monkey pox hasnt evolve like hiv so...</td>\n",
       "      <td>truly hope monkey pox hasnt evolve like hiv so...</td>\n",
       "      <td>truli hope monkey pox hasnt evolv like hiv someth</td>\n",
       "    </tr>\n",
       "    <tr>\n",
       "      <th>17</th>\n",
       "      <td>bUt he pRedIcTed tHe mOnKey PoX\\n\\nThe Bil an...</td>\n",
       "      <td>[predicted, monkey, pox, bil, melinda, gates, ...</td>\n",
       "      <td>predict monkey pox bil melinda gate foundation...</td>\n",
       "      <td>predict monkey pox bil melinda gate foundation...</td>\n",
       "      <td>predict monkey pox bil melinda gate foundat fu...</td>\n",
       "    </tr>\n",
       "    <tr>\n",
       "      <th>18</th>\n",
       "      <td>Its anoys me how they use pictures of black pe...</td>\n",
       "      <td>[anoys, use, pictures, black, peoples, hands, ...</td>\n",
       "      <td>anoys use picture black people hand discus mon...</td>\n",
       "      <td>anoys use picture black people hand discus mon...</td>\n",
       "      <td>anoy use pictur black peopl hand discu monkey pox</td>\n",
       "    </tr>\n",
       "    <tr>\n",
       "      <th>19</th>\n",
       "      <td>The pics of monkey pox loks exactly like shing...</td>\n",
       "      <td>[pics, monkey, pox, loks, exactly, like, shing...</td>\n",
       "      <td>pics monkey pox loks exactly like shingle</td>\n",
       "      <td>pic monkey pox loks exactly like shingle</td>\n",
       "      <td>pic monkey pox lok exactli like shingl</td>\n",
       "    </tr>\n",
       "    <tr>\n",
       "      <th>20</th>\n",
       "      <td>Has the risk of Covid now gone away Now taken ...</td>\n",
       "      <td>[risk, covid, gone, away, taken, monkey, pox]</td>\n",
       "      <td>risk covid go away take monkey pox</td>\n",
       "      <td>risk covid go away take monkey pox</td>\n",
       "      <td>risk covid gone away taken monkey pox</td>\n",
       "    </tr>\n",
       "  </tbody>\n",
       "</table>\n",
       "</div>"
      ],
      "text/plain": [
       "                                                 text  \\\n",
       "0   Watch the progresive monkeys run out screaming...   \n",
       "1    When you have Bil Gates shorting Tesla for ha...   \n",
       "2   Monkey pox as reported by Reuters \\n\\nGay bise...   \n",
       "3    Hey Pete\\nPeople are crazy Busy\\nWe cant expe...   \n",
       "4    tx FDA Wel you know the new thing is monkey p...   \n",
       "5   Disease Detection Laboratories on the front li...   \n",
       "7   This monkey pox is starting to give me early C...   \n",
       "8   So reading on how this monkey pox virus spread...   \n",
       "9                                          Monkey pox   \n",
       "10                                     Monkey Pox by    \n",
       "11               Are yal woried about the monkey pox    \n",
       "12  Id probs get monkey pox ngl I think God wants ...   \n",
       "13  Not to mention that the monkey pox is realy sh...   \n",
       "14   Maybe worth asking some questions about Monke...   \n",
       "15  VYNT idiot ceo should send out something about...   \n",
       "16  I truly hope that monkey pox hasnt evolved to ...   \n",
       "17   bUt he pRedIcTed tHe mOnKey PoX\\n\\nThe Bil an...   \n",
       "18  Its anoys me how they use pictures of black pe...   \n",
       "19  The pics of monkey pox loks exactly like shing...   \n",
       "20  Has the risk of Covid now gone away Now taken ...   \n",
       "\n",
       "                                            clean_txt  \\\n",
       "0   [watch, progresive, monkeys, run, screaming, p...   \n",
       "1   [bil, gates, shorting, tesla, half, bilion, me...   \n",
       "2   [monkey, pox, reported, reuters, gay, bisexual...   \n",
       "3   [hey, pete, people, crazy, busy, cant, expect,...   \n",
       "4   [tx, fda, wel, know, new, thing, monkey, pox, ...   \n",
       "5   [disease, detection, laboratories, front, line...   \n",
       "7   [monkey, pox, starting, give, early, covid, vi...   \n",
       "8   [reading, monkey, pox, virus, spreads, wouldnt...   \n",
       "9                                       [monkey, pox]   \n",
       "10                                      [monkey, pox]   \n",
       "11                         [yal, woried, monkey, pox]   \n",
       "12  [id, probs, get, monkey, pox, ngl, think, god,...   \n",
       "13  [mention, monkey, pox, realy, shingles, plant,...   \n",
       "14     [maybe, worth, asking, questions, monkey, pox]   \n",
       "15   [vynt, idiot, ceo, send, something, monkey, pox]   \n",
       "16  [truly, hope, monkey, pox, hasnt, evolved, lik...   \n",
       "17  [predicted, monkey, pox, bil, melinda, gates, ...   \n",
       "18  [anoys, use, pictures, black, peoples, hands, ...   \n",
       "19  [pics, monkey, pox, loks, exactly, like, shing...   \n",
       "20      [risk, covid, gone, away, taken, monkey, pox]   \n",
       "\n",
       "                                          clean_lemma  \\\n",
       "0   watch progresive monkey run scream pfizerpoxga...   \n",
       "1   bil gate short tesla half bilion media monkey ...   \n",
       "2   monkey pox report reuters gay bisexual men sex...   \n",
       "3   hey pete people crazy busy cant expect worying...   \n",
       "4   tx fda wel know new thing monkey pox right vac...   \n",
       "5   disease detection laboratories front line blog...   \n",
       "7             monkey pox start give early covid vibes   \n",
       "8   read monkey pox virus spread wouldnt surprise ...   \n",
       "9                                          monkey pox   \n",
       "10                                         monkey pox   \n",
       "11                              yal woried monkey pox   \n",
       "12  id probs get monkey pox ngl think god want dea...   \n",
       "13  mention monkey pox realy shingle plant enhance...   \n",
       "14                maybe worth ask question monkey pox   \n",
       "15           vynt idiot ceo send something monkey pox   \n",
       "16  truly hope monkey pox hasnt evolve like hiv so...   \n",
       "17  predict monkey pox bil melinda gate foundation...   \n",
       "18  anoys use picture black people hand discus mon...   \n",
       "19          pics monkey pox loks exactly like shingle   \n",
       "20                 risk covid go away take monkey pox   \n",
       "\n",
       "                                      clean_lemma_pos  \\\n",
       "0   watch progresive monkey run scream pfizerpoxga...   \n",
       "1   bil gate short tesla half bilion medium monkey...   \n",
       "2   monkey pox report reuters gay bisexual men sex...   \n",
       "3   hey pete people crazy busy cant expect worying...   \n",
       "4   tx fda wel know new thing monkey pox right vac...   \n",
       "5   disease detection laboratories front line blog...   \n",
       "7              monkey pox start give early covid vibe   \n",
       "8   read monkey pox virus spread wouldnt surprise ...   \n",
       "9                                          monkey pox   \n",
       "10                                         monkey pox   \n",
       "11                              yal woried monkey pox   \n",
       "12  id probs get monkey pox ngl think god want dea...   \n",
       "13  mention monkey pox realy shingle plant enhance...   \n",
       "14                maybe worth ask question monkey pox   \n",
       "15           vynt idiot ceo send something monkey pox   \n",
       "16  truly hope monkey pox hasnt evolve like hiv so...   \n",
       "17  predict monkey pox bil melinda gate foundation...   \n",
       "18  anoys use picture black people hand discus mon...   \n",
       "19           pic monkey pox loks exactly like shingle   \n",
       "20                 risk covid go away take monkey pox   \n",
       "\n",
       "                                       clean_stem_txt  \n",
       "0   watch progres monkey run scream pfizerpoxgates...  \n",
       "1   bil gate short tesla half bilion media monkey ...  \n",
       "2   monkey pox report reuter gay bisexu men sex me...  \n",
       "3   hey pete peopl crazi busi cant expect wori cov...  \n",
       "4   tx fda wel know new thing monkey pox right vac...  \n",
       "5   diseas detect laboratori front line blog cdc m...  \n",
       "7              monkey pox start give earli covid vibe  \n",
       "8   read monkey pox viru spread wouldnt surpris se...  \n",
       "9                                          monkey pox  \n",
       "10                                         monkey pox  \n",
       "11                                yal wori monkey pox  \n",
       "12  id prob get monkey pox ngl think god want dead...  \n",
       "13  mention monkey pox reali shingl plant enhanc s...  \n",
       "14                 mayb worth ask question monkey pox  \n",
       "15              vynt idiot ceo send someth monkey pox  \n",
       "16  truli hope monkey pox hasnt evolv like hiv someth  \n",
       "17  predict monkey pox bil melinda gate foundat fu...  \n",
       "18  anoy use pictur black peopl hand discu monkey pox  \n",
       "19             pic monkey pox lok exactli like shingl  \n",
       "20              risk covid gone away taken monkey pox  "
      ]
     },
     "execution_count": 55,
     "metadata": {},
     "output_type": "execute_result"
    }
   ],
   "source": [
    "content.head(20)"
   ]
  },
  {
   "cell_type": "code",
   "execution_count": 27,
   "id": "ef0f45b7",
   "metadata": {},
   "outputs": [],
   "source": [
    "#content.to_csv(\"C:/Users/86180/Desktop/IC-DS/GROUP PROJECT/clean_without_num.csv\", index=False)"
   ]
  },
  {
   "cell_type": "markdown",
   "id": "76365df1",
   "metadata": {},
   "source": [
    "#### extract feature below(useless for final goal)"
   ]
  },
  {
   "cell_type": "code",
   "execution_count": 57,
   "id": "e14c58f1",
   "metadata": {
    "scrolled": true
   },
   "outputs": [
    {
     "name": "stdout",
     "output_type": "stream",
     "text": [
      "['aah', 'aand', 'aap', 'aardvark', 'ab', 'abandon', 'abc', 'abeg', 'abil', 'abl', 'ablaz', 'abnorm', 'abort', 'abound', 'aboutlos', 'abrevi', 'absc', 'absenc', 'absolut', 'absurd']\n"
     ]
    }
   ],
   "source": [
    "##  Vectorize\n",
    "import sklearn\n",
    "from sklearn.feature_extraction.text import CountVectorizer\n",
    "\n",
    "vect = CountVectorizer()\n",
    "vect.fit_transform(content['clean_stem_txt'])\n",
    "print(vect.get_feature_names()[:20])"
   ]
  },
  {
   "cell_type": "markdown",
   "id": "10e2d050",
   "metadata": {},
   "source": [
    "## 5. Calculating Sentiment Score&bucketing into 3 groups"
   ]
  },
  {
   "cell_type": "markdown",
   "id": "bf81d13b",
   "metadata": {},
   "source": [
    "for textblob:\n",
    "Polarity Score is float which lies in the range of [-1,1] \n",
    "\n",
    "Subjectivity is also a float which lies in the range of [0,1]\n",
    "\n",
    "0--- personal\n",
    "1---factual"
   ]
  },
  {
   "cell_type": "code",
   "execution_count": 58,
   "id": "49246a49",
   "metadata": {},
   "outputs": [],
   "source": [
    "from textblob import TextBlob\n",
    "from textblob_fr import PatternTagger, PatternAnalyzer\n",
    "# Using Textblob.Sentiment to calculate the sentiment score w.r.t to every cusotmer review\n",
    "content['sentiment'] = content['clean_lemma_pos'].apply(lambda reveiw: TextBlob(reveiw).sentiment)"
   ]
  },
  {
   "cell_type": "code",
   "execution_count": 59,
   "id": "33ff038f",
   "metadata": {},
   "outputs": [
    {
     "name": "stdout",
     "output_type": "stream",
     "text": [
      "6838\n"
     ]
    },
    {
     "data": {
      "text/plain": [
       "negative    58.308948\n",
       "nuetral     21.346065\n",
       "positive    20.344987\n",
       "Name: Polarity_buckets, dtype: float64"
      ]
     },
     "execution_count": 59,
     "metadata": {},
     "output_type": "execute_result"
    }
   ],
   "source": [
    "content['sent_text'] = content['text'].apply(lambda reveiw: TextBlob(reveiw).sentiment)\n",
    "content['Polarity'] = content['sentiment'].apply(lambda x: round(x[0],2)) \n",
    "content['Subjectivity'] = content['sentiment'].apply(lambda x: round(x[1],2)) \n",
    "# use threshold 0.05 as example\n",
    "content['Polarity_buckets'] = content['Polarity'].apply(lambda x: 'negative' if x<=-0.05 else 'nuetral' if (x<=0.05) else 'positive')\n",
    "#print(df.shape[0])\n",
    "content['Polarity_buckets'].value_counts(normalize = True)*100"
   ]
  },
  {
   "cell_type": "code",
   "execution_count": 60,
   "id": "50df7284",
   "metadata": {},
   "outputs": [
    {
     "name": "stdout",
     "output_type": "stream",
     "text": [
      "6838\n"
     ]
    },
    {
     "data": {
      "text/plain": [
       "negative    55.629139\n",
       "positive    22.762976\n",
       "nuetral     21.607885\n",
       "Name: Po_buckets, dtype: float64"
      ]
     },
     "execution_count": 60,
     "metadata": {},
     "output_type": "execute_result"
    }
   ],
   "source": [
    "# compare with the whole sentence \n",
    "content['txt_Polarity'] = content['sent_text'].apply(lambda x: round(x[0],2)) \n",
    "content['txt_Subjectivity'] = content['sent_text'].apply(lambda x: round(x[1],2)) \n",
    "# use threshold 0.05 as example\n",
    "content['Po_buckets'] = content['txt_Polarity'].apply(lambda x: 'negative' if x<=-0.05 else 'nuetral' if (x<=0.05) else 'positive')\n",
    "# print(df.shape[0])\n",
    "content['Po_buckets'].value_counts(normalize = True)*100"
   ]
  },
  {
   "cell_type": "code",
   "execution_count": 61,
   "id": "7c777edb",
   "metadata": {},
   "outputs": [],
   "source": [
    "del content['sentiment']\n",
    "del content['sent_text']"
   ]
  },
  {
   "cell_type": "code",
   "execution_count": 64,
   "id": "70cb118b",
   "metadata": {
    "scrolled": true
   },
   "outputs": [
    {
     "name": "stdout",
     "output_type": "stream",
     "text": [
      "MonkeyPox Sentiment(polarity=0.0, subjectivity=0.0)\n",
      "monkey pox Sentiment(polarity=-0.05, subjectivity=0.0)\n",
      "Watch the progresive monkeys run out screaming for their PfizerpoxGatespox poison and redouble their myocarditis In other news after they are dead fewer people grabing for fod and fuel \n",
      "\n",
      "\n",
      "Polarity  -0.15\n",
      "Subjectivity  0.17\n",
      "txt_Polarity  -0.16\n",
      "txt_Subjectivity  0.39\n",
      "Po_buckets  negative\n",
      "Polarity_buckets  negative\n"
     ]
    }
   ],
   "source": [
    "print('MonkeyPox',TextBlob('MonkeyPox').sentiment)\n",
    "print('monkey pox',TextBlob('monkey pox').sentiment)\n",
    "\n",
    "print(content['text'].iloc[0])\n",
    "print('Polarity ',content['Polarity'].iloc[0])\n",
    "print('Subjectivity ',content['Subjectivity'].iloc[0])\n",
    "print('txt_Polarity ',content['txt_Polarity'].iloc[0])\n",
    "print('txt_Subjectivity ',content['txt_Subjectivity'].iloc[0])\n",
    "print('Po_buckets ',content['Po_buckets'].iloc[0])\n",
    "print('Polarity_buckets ',content['Polarity_buckets'].iloc[0])\n",
    "\n",
    "pd.set_option('display.width',10000) # display full length"
   ]
  },
  {
   "cell_type": "code",
   "execution_count": 66,
   "id": "ba081b3d",
   "metadata": {},
   "outputs": [
    {
     "data": {
      "text/plain": [
       "0      -1\n",
       "1      -1\n",
       "2       1\n",
       "3      -1\n",
       "4       1\n",
       "       ..\n",
       "6833   -1\n",
       "6834    0\n",
       "6835   -1\n",
       "6836   -1\n",
       "6837    1\n",
       "Name: Score, Length: 6493, dtype: int64"
      ]
     },
     "execution_count": 66,
     "metadata": {},
     "output_type": "execute_result"
    }
   ],
   "source": [
    "content['Score']=content['Polarity_buckets'].apply(lambda x:1 if x=='positive' else -1 if x=='negative' else 0)\n",
    "content['Score']"
   ]
  },
  {
   "cell_type": "markdown",
   "id": "6378de77",
   "metadata": {},
   "source": [
    "## 6. ML-training"
   ]
  },
  {
   "cell_type": "code",
   "execution_count": 67,
   "id": "162271ca",
   "metadata": {},
   "outputs": [],
   "source": [
    "# Creating Training and Testng Data\n",
    "from sklearn.model_selection import train_test_split\n",
    "\n",
    "x_train, x_test, y_train, y_test = train_test_split(content['clean_lemma_pos'],\n",
    "                                                    content['Score'],\n",
    "                                                    test_size = 0.2,\n",
    "                                                    random_state = 37)"
   ]
  },
  {
   "cell_type": "code",
   "execution_count": 68,
   "id": "cf8f1dbf",
   "metadata": {},
   "outputs": [
    {
     "name": "stdout",
     "output_type": "stream",
     "text": [
      "length of training data 5194\n",
      "length of y_training data 5194\n",
      "length of X_training data 1299\n"
     ]
    }
   ],
   "source": [
    "print('length of training data',len(x_train))\n",
    "print('length of y_training data',len(y_train))\n",
    "print('length of X_training data',len(x_test))"
   ]
  },
  {
   "cell_type": "markdown",
   "id": "586c2607",
   "metadata": {},
   "source": [
    "### 6.1 using tf-idf to calculate the frequency of words\n",
    "1) Count vectorizer - give only count --> tfidf transformer ---> tf *idf\n",
    "\n",
    "2) Tf-idfVectorizer - tf , idf"
   ]
  },
  {
   "cell_type": "code",
   "execution_count": 69,
   "id": "b4a21a14",
   "metadata": {},
   "outputs": [
    {
     "data": {
      "text/plain": [
       "array([[0.        , 0.52481909, 0.        , ..., 0.        , 0.        ,\n",
       "        0.        ],\n",
       "       [0.        , 0.64799231, 0.        , ..., 0.        , 0.        ,\n",
       "        0.        ],\n",
       "       [0.        , 0.        , 0.        , ..., 0.        , 0.        ,\n",
       "        0.        ],\n",
       "       ...,\n",
       "       [0.        , 0.        , 0.        , ..., 0.        , 0.        ,\n",
       "        0.        ],\n",
       "       [0.        , 0.        , 0.        , ..., 0.        , 0.        ,\n",
       "        0.        ],\n",
       "       [0.        , 0.        , 0.        , ..., 0.        , 0.        ,\n",
       "        0.        ]])"
      ]
     },
     "metadata": {},
     "output_type": "display_data"
    },
    {
     "data": {
      "text/plain": [
       "(5194, 146)"
      ]
     },
     "metadata": {},
     "output_type": "display_data"
    }
   ],
   "source": [
    "from sklearn.feature_extraction.text import TfidfVectorizer\n",
    "tf_idf = TfidfVectorizer(min_df = 0.01)\n",
    "tf_idf.fit_transform(x_train)\n",
    "tf_idf_x_train = tf_idf.fit_transform(x_train).toarray() \n",
    "# to have sparse matrix converted in form of array\n",
    "tf_idf_x_test = tf_idf.transform(x_test).toarray()\n",
    "\n",
    "display( tf_idf_x_train, tf_idf_x_train.shape)"
   ]
  },
  {
   "cell_type": "code",
   "execution_count": 70,
   "id": "f7af9343",
   "metadata": {},
   "outputs": [
    {
     "name": "stdout",
     "output_type": "stream",
     "text": [
      "0.5248190901469434\n",
      "1\n"
     ]
    }
   ],
   "source": [
    "print(max(tf_idf_x_train[0]))\n",
    "print(np.argmax(tf_idf_x_train[0]))"
   ]
  },
  {
   "cell_type": "code",
   "execution_count": 71,
   "id": "0f126cff",
   "metadata": {},
   "outputs": [
    {
     "data": {
      "text/plain": [
       "146"
      ]
     },
     "execution_count": 71,
     "metadata": {},
     "output_type": "execute_result"
    }
   ],
   "source": [
    "# lenght of tfidf vocalbulary/ features\n",
    "len(tf_idf.vocabulary_)"
   ]
  },
  {
   "cell_type": "code",
   "execution_count": 72,
   "id": "7d13b0ed",
   "metadata": {
    "scrolled": false
   },
   "outputs": [
    {
     "data": {
      "text/plain": [
       "{'wil': 136,\n",
       " 'se': 99,\n",
       " 'us': 123,\n",
       " 'lockdown': 62,\n",
       " 'monkey': 76,\n",
       " 'pox': 91,\n",
       " 'al': 1,\n",
       " 'covid': 24,\n",
       " 'get': 42,\n",
       " 'moneypox': 75,\n",
       " 'know': 58,\n",
       " 'one': 85,\n",
       " 'think': 117,\n",
       " 'sure': 110,\n",
       " 'something': 105,\n",
       " 'cant': 16,\n",
       " 'pandemic': 87,\n",
       " 'might': 74,\n",
       " 'wel': 134,\n",
       " 'god': 45,\n",
       " 'way': 132,\n",
       " 'plan': 89,\n",
       " 'come': 20,\n",
       " 'smal': 103,\n",
       " 'back': 8,\n",
       " 'stil': 108,\n",
       " 'whats': 135,\n",
       " 'next': 82,\n",
       " 'mask': 69,\n",
       " 'go': 44,\n",
       " 'amp': 4,\n",
       " 'people': 88,\n",
       " 'dont': 30,\n",
       " 'give': 43,\n",
       " 'bad': 9,\n",
       " 'maybe': 71,\n",
       " 'shit': 101,\n",
       " 'isnt': 54,\n",
       " 'real': 94,\n",
       " 'even': 33,\n",
       " 'tel': 113,\n",
       " 'vacine': 125,\n",
       " 'case': 17,\n",
       " 'let': 60,\n",
       " 'wear': 133,\n",
       " 'long': 66,\n",
       " 'day': 25,\n",
       " 'smalpox': 104,\n",
       " 'fear': 36,\n",
       " 'yet': 145,\n",
       " 'kep': 57,\n",
       " 'disease': 28,\n",
       " 'doesnt': 29,\n",
       " 'fuck': 39,\n",
       " 'please': 90,\n",
       " 'im': 53,\n",
       " 'make': 67,\n",
       " 'put': 92,\n",
       " 'today': 119,\n",
       " 'year': 144,\n",
       " 'believe': 10,\n",
       " 'wory': 141,\n",
       " 'wtf': 143,\n",
       " 'like': 61,\n",
       " 'stop': 109,\n",
       " 'first': 38,\n",
       " 'lok': 63,\n",
       " 'loks': 64,\n",
       " 'thats': 115,\n",
       " 'bil': 14,\n",
       " 'gate': 40,\n",
       " 'country': 23,\n",
       " 'may': 70,\n",
       " 'outbreak': 86,\n",
       " 'virus': 128,\n",
       " 'try': 120,\n",
       " 'medium': 73,\n",
       " 'gay': 41,\n",
       " 'anyone': 6,\n",
       " 'another': 5,\n",
       " 'enough': 31,\n",
       " 'ben': 11,\n",
       " 'report': 96,\n",
       " 'news': 81,\n",
       " 'world': 140,\n",
       " 'realy': 95,\n",
       " 'use': 124,\n",
       " 'say': 98,\n",
       " 'never': 79,\n",
       " 'hear': 49,\n",
       " 'vacines': 126,\n",
       " 'vax': 127,\n",
       " 'monkeypox': 77,\n",
       " 'show': 102,\n",
       " 'catch': 18,\n",
       " 'ned': 78,\n",
       " 'talk': 112,\n",
       " 'time': 118,\n",
       " 'uk': 121,\n",
       " 'new': 80,\n",
       " 'africa': 0,\n",
       " 'spread': 106,\n",
       " 'want': 130,\n",
       " 'start': 107,\n",
       " 'oh': 84,\n",
       " 'health': 48,\n",
       " 'thing': 116,\n",
       " 'around': 7,\n",
       " 'shingle': 100,\n",
       " 'nothing': 83,\n",
       " 'wonder': 137,\n",
       " 'take': 111,\n",
       " 'right': 97,\n",
       " 'wont': 138,\n",
       " 'would': 142,\n",
       " 'gona': 46,\n",
       " 'ukraine': 122,\n",
       " 'work': 139,\n",
       " 'every': 34,\n",
       " 'hel': 50,\n",
       " 'find': 37,\n",
       " 'europe': 32,\n",
       " 'could': 22,\n",
       " 'ive': 55,\n",
       " 'die': 27,\n",
       " 'wait': 129,\n",
       " 'many': 68,\n",
       " 'beter': 12,\n",
       " 'watch': 131,\n",
       " 'guy': 47,\n",
       " 'big': 13,\n",
       " 'jab': 56,\n",
       " 'also': 3,\n",
       " 'break': 15,\n",
       " 'already': 2,\n",
       " 'mean': 72,\n",
       " 'last': 59,\n",
       " 'read': 93,\n",
       " 'control': 21,\n",
       " 'everyone': 35,\n",
       " 'human': 52,\n",
       " 'hope': 51,\n",
       " 'didnt': 26,\n",
       " 'lol': 65,\n",
       " 'test': 114,\n",
       " 'cause': 19}"
      ]
     },
     "execution_count": 72,
     "metadata": {},
     "output_type": "execute_result"
    }
   ],
   "source": [
    "# tfidf vocalbulary/ features\n",
    "tf_idf.vocabulary_"
   ]
  },
  {
   "cell_type": "markdown",
   "id": "13158f3d",
   "metadata": {},
   "source": [
    "#### 6.2 use randomforest to do the classification"
   ]
  },
  {
   "cell_type": "code",
   "execution_count": 73,
   "id": "b1096736",
   "metadata": {},
   "outputs": [
    {
     "name": "stdout",
     "output_type": "stream",
     "text": [
      "Random Forest Accuracy Score:   75.0\n"
     ]
    }
   ],
   "source": [
    "from sklearn.ensemble import RandomForestClassifier\n",
    "from sklearn.metrics import accuracy_score\n",
    "\n",
    "# compare with RandomForestClassifier \n",
    "rf_clf = RandomForestClassifier()\n",
    "rf_clf.fit(tf_idf_x_train, y_train)\n",
    "rf_pred = rf_clf.predict(tf_idf_x_test)\n",
    "\n",
    "print('Random Forest Accuracy Score:  ',np.round(accuracy_score(y_test,rf_pred)*100,0))"
   ]
  },
  {
   "cell_type": "markdown",
   "id": "b592c658",
   "metadata": {},
   "source": [
    "## 7. visualization: creating wordcloud "
   ]
  },
  {
   "cell_type": "code",
   "execution_count": 74,
   "id": "836b016e",
   "metadata": {},
   "outputs": [],
   "source": [
    "# Importing libraries for creating wordcloud\n",
    "from wordcloud import WordCloud, STOPWORDS, ImageColorGenerator\n",
    "from PIL import Image # The pillow library is a package that enables image reading\n",
    "import urllib # This is used for opening URLs\n",
    "import requests # Allows to Send requests"
   ]
  },
  {
   "cell_type": "code",
   "execution_count": 75,
   "id": "83374329",
   "metadata": {},
   "outputs": [],
   "source": [
    "# Creating Data with their respective Part of Speechs\n",
    "sentence = ' '.join(content.clean_lemma_pos.values)\n",
    "blob = TextBlob(sentence)\n",
    "tg = blob.tags\n",
    "# print(sentence,tg,sep='\\n\\n')"
   ]
  },
  {
   "cell_type": "code",
   "execution_count": 76,
   "id": "d2419864",
   "metadata": {},
   "outputs": [
    {
     "data": {
      "text/plain": [
       "<Figure size 1200x800 with 0 Axes>"
      ]
     },
     "metadata": {},
     "output_type": "display_data"
    },
    {
     "data": {
      "image/png": "[encoded data removed]",
      "text/plain": [
       "<Figure size 720x576 with 1 Axes>"
      ]
     },
     "metadata": {
      "needs_background": "light"
     },
     "output_type": "display_data"
    }
   ],
   "source": [
    "#Simple Word CLoud\n",
    "p=plt.figure(dpi=200) #调整像素\n",
    "#mask = plt.imread('/Users/86180/Desktop/泰迪杯--赛前培训/微信图片_20220409113338.jpg')\n",
    "wordcloud = WordCloud(max_font_size=50, \n",
    "                      max_words=150, \n",
    "                      background_color=\"white\",\n",
    "#                       color_func=lambda *args, **kwargs:(150,100,100),\n",
    "                      stopwords= STOPWORDS).generate(sentence)\n",
    "\n",
    "\n",
    "plt.figure(figsize=(10,8))\n",
    "\n",
    "plt.imshow(wordcloud) # Command to show the image\n",
    "plt.axis(\"off\") # to Turnoff the axis\n",
    "#plt.savefig('C:/Users/86180/Desktop/IC-DS/GROUP PROJECT/wordcloud')#保存图片\n",
    "plt.show()\n"
   ]
  }
 ],
 "metadata": {
  "kernelspec": {
   "display_name": "Python 3 (ipykernel)",
   "language": "python",
   "name": "python3"
  },
  "language_info": {
   "codemirror_mode": {
    "name": "ipython",
    "version": 3
   },
   "file_extension": ".py",
   "mimetype": "text/x-python",
   "name": "python",
   "nbconvert_exporter": "python",
   "pygments_lexer": "ipython3",
   "version": "3.9.7"
  }
 },
 "nbformat": 4,
 "nbformat_minor": 5
}
