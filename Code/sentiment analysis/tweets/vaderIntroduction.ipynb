{
 "cells": [
  {
   "cell_type": "markdown",
   "metadata": {},
   "source": [
    "# Vader Introduction\n",
    "- Make sure you install nltk before use vaderSentiment\n",
    "- Use pip to install vaderSentiment \"**pip install vaderSentiment**\"\n",
    "- If you use source code download, may need to import like \"**from vaderSentiment import SentimentIntensityAnalyzer**\""
   ]
  },
  {
   "cell_type": "markdown",
   "metadata": {},
   "source": [
    "## Importing Necesseties"
   ]
  },
  {
   "cell_type": "code",
   "execution_count": null,
   "metadata": {},
   "outputs": [],
   "source": [
    "import nltk\n",
    "from vaderSentiment.vaderSentiment import SentimentIntensityAnalyzer\n",
    "import pandas as pd\n",
    "import numpy as np\n",
    "import re"
   ]
  },
  {
   "cell_type": "markdown",
   "metadata": {},
   "source": [
    "- If it can't work, please try \"**python -m pip install vaderSentiment --no-cache-dir**\""
   ]
  },
  {
   "cell_type": "markdown",
   "metadata": {},
   "source": [
    "## Preprocessing"
   ]
  },
  {
   "cell_type": "code",
   "execution_count": null,
   "metadata": {},
   "outputs": [],
   "source": [
    "def basic_cleaning(text):\n",
    "    # clear url\n",
    "    text = re.sub(\"(http|https|ftp)://[a-zA-Z0-9\\\\./]+\", '', text)\n",
    "    # remove tags\n",
    "    text = re.sub(\"#(\\w+)\", \" \", text)\n",
    "    # remove @xxx \n",
    "    text = re.sub(\"(@[A-Za-z0-9]+)|(\\w+:\\/\\/\\S+)\", \" \", text)\n",
    "#     # clear not alpha\n",
    "#     text = re.sub(r'[^a-zA-Z|\\s]', '', text)\n",
    "    return text\n",
    "\n",
    "def remove_html(text):\n",
    "    html = re.compile(r'<.*?>')\n",
    "    return html.sub(r'',text)\n",
    "\n",
    "def clean(df):\n",
    "    for col in ['text']:\n",
    "        df[col] = df[col].astype(str).apply(lambda x:basic_cleaning(x))\n",
    "        df[col] = df[col].astype(str).apply(lambda x:remove_html(x))\n",
    "    return df"
   ]
  },
  {
   "cell_type": "code",
   "execution_count": null,
   "metadata": {},
   "outputs": [
    {
     "name": "stdout",
     "output_type": "stream",
     "text": [
      "<class 'pandas.core.frame.DataFrame'>\n",
      "RangeIndex: 10506 entries, 0 to 10505\n",
      "Data columns (total 35 columns):\n",
      " #   Column                      Non-Null Count  Dtype  \n",
      "---  ------                      --------------  -----  \n",
      " 0   coordinates                 3 non-null      object \n",
      " 1   created_at                  10506 non-null  object \n",
      " 2   hashtags                    703 non-null    object \n",
      " 3   media                       1120 non-null   object \n",
      " 4   urls                        2112 non-null   object \n",
      " 5   favorite_count              10506 non-null  int64  \n",
      " 6   id                          10506 non-null  int64  \n",
      " 7   in_reply_to_screen_name     5823 non-null   object \n",
      " 8   in_reply_to_status_id       5674 non-null   float64\n",
      " 9   in_reply_to_user_id         5823 non-null   float64\n",
      " 10  lang                        10506 non-null  object \n",
      " 11  place                       171 non-null    object \n",
      " 12  possibly_sensitive          3086 non-null   object \n",
      " 13  quote_id                    1045 non-null   float64\n",
      " 14  retweet_count               10506 non-null  int64  \n",
      " 15  retweet_id                  0 non-null      float64\n",
      " 16  retweet_screen_name         0 non-null      float64\n",
      " 17  source                      10506 non-null  object \n",
      " 18  text                        10506 non-null  object \n",
      " 19  tweet_url                   10506 non-null  object \n",
      " 20  user_created_at             10506 non-null  object \n",
      " 21  user_id                     10506 non-null  int64  \n",
      " 22  user_default_profile_image  10506 non-null  bool   \n",
      " 23  user_description            8922 non-null   object \n",
      " 24  user_favourites_count       10506 non-null  int64  \n",
      " 25  user_followers_count        10506 non-null  int64  \n",
      " 26  user_friends_count          10506 non-null  int64  \n",
      " 27  user_listed_count           10506 non-null  int64  \n",
      " 28  user_location               6526 non-null   object \n",
      " 29  user_name                   10503 non-null  object \n",
      " 30  user_screen_name            10506 non-null  object \n",
      " 31  user_statuses_count         10506 non-null  int64  \n",
      " 32  user_time_zone              0 non-null      float64\n",
      " 33  user_urls                   2088 non-null   object \n",
      " 34  user_verified               10506 non-null  bool   \n",
      "dtypes: bool(2), float64(6), int64(9), object(18)\n",
      "memory usage: 2.7+ MB\n"
     ]
    }
   ],
   "source": [
    "df = pd.read_csv('C:/Users/y/Desktop/TweetIDs_Part3.csv')\n",
    "df = clean(df)\n",
    "df.info()"
   ]
  },
  {
   "cell_type": "markdown",
   "metadata": {},
   "source": [
    "## Vader"
   ]
  },
  {
   "cell_type": "code",
   "execution_count": null,
   "metadata": {},
   "outputs": [],
   "source": [
    "def sentiment(df):\n",
    "          sid_obj = SentimentIntensityAnalyzer()\n",
    "          vader =[]\n",
    "          i=0\n",
    "          for col in df['text']:\n",
    "                    sentiment_dict = sid_obj.polarity_scores(col)\n",
    "                    compound = sentiment_dict['compound']\n",
    "                    vader.append(compound)\n",
    "          df.insert(df.shape[1], 'sentiment', vader)\n",
    "          return df"
   ]
  },
  {
   "cell_type": "code",
   "execution_count": null,
   "metadata": {},
   "outputs": [
    {
     "name": "stdout",
     "output_type": "stream",
     "text": [
      "<class 'pandas.core.frame.DataFrame'>\n",
      "RangeIndex: 10506 entries, 0 to 10505\n",
      "Data columns (total 36 columns):\n",
      " #   Column                      Non-Null Count  Dtype  \n",
      "---  ------                      --------------  -----  \n",
      " 0   coordinates                 3 non-null      object \n",
      " 1   created_at                  10506 non-null  object \n",
      " 2   hashtags                    703 non-null    object \n",
      " 3   media                       1120 non-null   object \n",
      " 4   urls                        2112 non-null   object \n",
      " 5   favorite_count              10506 non-null  int64  \n",
      " 6   id                          10506 non-null  int64  \n",
      " 7   in_reply_to_screen_name     5823 non-null   object \n",
      " 8   in_reply_to_status_id       5674 non-null   float64\n",
      " 9   in_reply_to_user_id         5823 non-null   float64\n",
      " 10  lang                        10506 non-null  object \n",
      " 11  place                       171 non-null    object \n",
      " 12  possibly_sensitive          3086 non-null   object \n",
      " 13  quote_id                    1045 non-null   float64\n",
      " 14  retweet_count               10506 non-null  int64  \n",
      " 15  retweet_id                  0 non-null      float64\n",
      " 16  retweet_screen_name         0 non-null      float64\n",
      " 17  source                      10506 non-null  object \n",
      " 18  text                        10506 non-null  object \n",
      " 19  tweet_url                   10506 non-null  object \n",
      " 20  user_created_at             10506 non-null  object \n",
      " 21  user_id                     10506 non-null  int64  \n",
      " 22  user_default_profile_image  10506 non-null  bool   \n",
      " 23  user_description            8922 non-null   object \n",
      " 24  user_favourites_count       10506 non-null  int64  \n",
      " 25  user_followers_count        10506 non-null  int64  \n",
      " 26  user_friends_count          10506 non-null  int64  \n",
      " 27  user_listed_count           10506 non-null  int64  \n",
      " 28  user_location               6526 non-null   object \n",
      " 29  user_name                   10503 non-null  object \n",
      " 30  user_screen_name            10506 non-null  object \n",
      " 31  user_statuses_count         10506 non-null  int64  \n",
      " 32  user_time_zone              0 non-null      float64\n",
      " 33  user_urls                   2088 non-null   object \n",
      " 34  user_verified               10506 non-null  bool   \n",
      " 35  sentiment                   10506 non-null  float64\n",
      "dtypes: bool(2), float64(7), int64(9), object(18)\n",
      "memory usage: 2.7+ MB\n"
     ]
    },
    {
     "data": {
      "text/plain": [
       "0    0.1511\n",
       "1    0.0000\n",
       "2    0.0000\n",
       "3    0.1280\n",
       "4    0.8908\n",
       "Name: sentiment, dtype: float64"
      ]
     },
     "execution_count": 56,
     "metadata": {},
     "output_type": "execute_result"
    }
   ],
   "source": [
    "df = sentiment(df)\n",
    "df.info()\n",
    "df['sentiment'].head(5)"
   ]
  }
 ],
 "metadata": {
  "kernelspec": {
   "display_name": "Python 3.10.6 64-bit",
   "language": "python",
   "name": "python3"
  },
  "language_info": {
   "codemirror_mode": {
    "name": "ipython",
    "version": 3
   },
   "file_extension": ".py",
   "mimetype": "text/x-python",
   "name": "python",
   "nbconvert_exporter": "python",
   "pygments_lexer": "ipython3",
   "version": "3.10.6"
  },
  "orig_nbformat": 4,
  "vscode": {
   "interpreter": {
    "hash": "eebb6a8040ced26c3912d1ebfa34b02a5f174f4a5bf99dee8a8f8392b94169a9"
   }
  }
 },
 "nbformat": 4,
 "nbformat_minor": 2
}
