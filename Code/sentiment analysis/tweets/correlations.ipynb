{
 "cells": [
  {
   "cell_type": "markdown",
   "id": "1845a703",
   "metadata": {},
   "source": [
    "# goal for this code：\n",
    "1. find the correlations between score(using textblob) and other information(user_favourites & time)"
   ]
  },
  {
   "cell_type": "markdown",
   "id": "3ab81b7e",
   "metadata": {},
   "source": [
    "## 'user_followers_count','user_friends_count','user_favourites_count' VS score"
   ]
  },
  {
   "cell_type": "code",
   "execution_count": 121,
   "id": "6d95fddc",
   "metadata": {},
   "outputs": [],
   "source": [
    "import scipy.stats as stats\n",
    "import matplotlib.pyplot as plt\n",
    "import seaborn as sns"
   ]
  },
  {
   "cell_type": "code",
   "execution_count": 122,
   "id": "fd1972eb",
   "metadata": {
    "scrolled": true
   },
   "outputs": [
    {
     "data": {
      "text/html": [
       "<div>\n",
       "<style scoped>\n",
       "    .dataframe tbody tr th:only-of-type {\n",
       "        vertical-align: middle;\n",
       "    }\n",
       "\n",
       "    .dataframe tbody tr th {\n",
       "        vertical-align: top;\n",
       "    }\n",
       "\n",
       "    .dataframe thead th {\n",
       "        text-align: right;\n",
       "    }\n",
       "</style>\n",
       "<table border=\"1\" class=\"dataframe\">\n",
       "  <thead>\n",
       "    <tr style=\"text-align: right;\">\n",
       "      <th></th>\n",
       "      <th>user_followers_count</th>\n",
       "      <th>user_friends_count</th>\n",
       "      <th>user_favourites_count</th>\n",
       "      <th>Polarity</th>\n",
       "      <th>Subjectivity</th>\n",
       "    </tr>\n",
       "  </thead>\n",
       "  <tbody>\n",
       "    <tr>\n",
       "      <th>5200</th>\n",
       "      <td>1356</td>\n",
       "      <td>2573</td>\n",
       "      <td>8328</td>\n",
       "      <td>0.15</td>\n",
       "      <td>0.33</td>\n",
       "    </tr>\n",
       "    <tr>\n",
       "      <th>4249</th>\n",
       "      <td>15050</td>\n",
       "      <td>1431</td>\n",
       "      <td>10826</td>\n",
       "      <td>0.15</td>\n",
       "      <td>0.56</td>\n",
       "    </tr>\n",
       "    <tr>\n",
       "      <th>5462</th>\n",
       "      <td>379</td>\n",
       "      <td>789</td>\n",
       "      <td>929</td>\n",
       "      <td>-0.01</td>\n",
       "      <td>0.20</td>\n",
       "    </tr>\n",
       "    <tr>\n",
       "      <th>1530</th>\n",
       "      <td>202</td>\n",
       "      <td>339</td>\n",
       "      <td>22441</td>\n",
       "      <td>-0.05</td>\n",
       "      <td>0.00</td>\n",
       "    </tr>\n",
       "    <tr>\n",
       "      <th>3784</th>\n",
       "      <td>1854</td>\n",
       "      <td>1805</td>\n",
       "      <td>8280</td>\n",
       "      <td>-0.17</td>\n",
       "      <td>0.20</td>\n",
       "    </tr>\n",
       "  </tbody>\n",
       "</table>\n",
       "</div>"
      ],
      "text/plain": [
       "      user_followers_count  user_friends_count  user_favourites_count  \\\n",
       "5200                  1356                2573                   8328   \n",
       "4249                 15050                1431                  10826   \n",
       "5462                   379                 789                    929   \n",
       "1530                   202                 339                  22441   \n",
       "3784                  1854                1805                   8280   \n",
       "\n",
       "      Polarity  Subjectivity  \n",
       "5200      0.15          0.33  \n",
       "4249      0.15          0.56  \n",
       "5462     -0.01          0.20  \n",
       "1530     -0.05          0.00  \n",
       "3784     -0.17          0.20  "
      ]
     },
     "execution_count": 122,
     "metadata": {},
     "output_type": "execute_result"
    }
   ],
   "source": [
    "df_cor = df_final[['user_followers_count','user_friends_count','user_favourites_count','Polarity','Subjectivity']]\n",
    "df_cor.sample(5)"
   ]
  },
  {
   "cell_type": "code",
   "execution_count": 123,
   "id": "bf85e8ac",
   "metadata": {},
   "outputs": [
    {
     "data": {
      "text/plain": [
       "user_followers_count     0\n",
       "user_friends_count       0\n",
       "user_favourites_count    0\n",
       "Polarity                 0\n",
       "Subjectivity             0\n",
       "dtype: int64"
      ]
     },
     "execution_count": 123,
     "metadata": {},
     "output_type": "execute_result"
    }
   ],
   "source": [
    "df_cor.isnull().sum()"
   ]
  },
  {
   "cell_type": "markdown",
   "id": "7cc99b51",
   "metadata": {},
   "source": [
    "### 先正态分布检验"
   ]
  },
  {
   "cell_type": "code",
   "execution_count": 124,
   "id": "3e11ad6d",
   "metadata": {},
   "outputs": [
    {
     "data": {
      "text/html": [
       "<div>\n",
       "<style scoped>\n",
       "    .dataframe tbody tr th:only-of-type {\n",
       "        vertical-align: middle;\n",
       "    }\n",
       "\n",
       "    .dataframe tbody tr th {\n",
       "        vertical-align: top;\n",
       "    }\n",
       "\n",
       "    .dataframe thead th {\n",
       "        text-align: right;\n",
       "    }\n",
       "</style>\n",
       "<table border=\"1\" class=\"dataframe\">\n",
       "  <thead>\n",
       "    <tr style=\"text-align: right;\">\n",
       "      <th></th>\n",
       "      <th>user_followers_count</th>\n",
       "      <th>user_friends_count</th>\n",
       "      <th>user_favourites_count</th>\n",
       "      <th>Polarity</th>\n",
       "      <th>Subjectivity</th>\n",
       "    </tr>\n",
       "  </thead>\n",
       "  <tbody>\n",
       "    <tr>\n",
       "      <th>count</th>\n",
       "      <td>6.528000e+03</td>\n",
       "      <td>6528.000000</td>\n",
       "      <td>6.528000e+03</td>\n",
       "      <td>6528.000000</td>\n",
       "      <td>6528.000000</td>\n",
       "    </tr>\n",
       "    <tr>\n",
       "      <th>mean</th>\n",
       "      <td>1.207172e+05</td>\n",
       "      <td>1952.749234</td>\n",
       "      <td>3.666834e+04</td>\n",
       "      <td>-0.022125</td>\n",
       "      <td>0.173381</td>\n",
       "    </tr>\n",
       "    <tr>\n",
       "      <th>std</th>\n",
       "      <td>2.210008e+06</td>\n",
       "      <td>6626.124028</td>\n",
       "      <td>6.946684e+04</td>\n",
       "      <td>0.151030</td>\n",
       "      <td>0.206546</td>\n",
       "    </tr>\n",
       "    <tr>\n",
       "      <th>min</th>\n",
       "      <td>0.000000e+00</td>\n",
       "      <td>0.000000</td>\n",
       "      <td>0.000000e+00</td>\n",
       "      <td>-1.000000</td>\n",
       "      <td>0.000000</td>\n",
       "    </tr>\n",
       "    <tr>\n",
       "      <th>25%</th>\n",
       "      <td>1.290000e+02</td>\n",
       "      <td>235.000000</td>\n",
       "      <td>2.562250e+03</td>\n",
       "      <td>-0.050000</td>\n",
       "      <td>0.000000</td>\n",
       "    </tr>\n",
       "    <tr>\n",
       "      <th>50%</th>\n",
       "      <td>5.160000e+02</td>\n",
       "      <td>639.500000</td>\n",
       "      <td>1.172500e+04</td>\n",
       "      <td>-0.050000</td>\n",
       "      <td>0.050000</td>\n",
       "    </tr>\n",
       "    <tr>\n",
       "      <th>75%</th>\n",
       "      <td>1.978500e+03</td>\n",
       "      <td>1793.000000</td>\n",
       "      <td>4.112500e+04</td>\n",
       "      <td>0.030000</td>\n",
       "      <td>0.330000</td>\n",
       "    </tr>\n",
       "    <tr>\n",
       "      <th>max</th>\n",
       "      <td>1.030626e+08</td>\n",
       "      <td>229046.000000</td>\n",
       "      <td>1.100976e+06</td>\n",
       "      <td>1.000000</td>\n",
       "      <td>1.000000</td>\n",
       "    </tr>\n",
       "  </tbody>\n",
       "</table>\n",
       "</div>"
      ],
      "text/plain": [
       "       user_followers_count  user_friends_count  user_favourites_count  \\\n",
       "count          6.528000e+03         6528.000000           6.528000e+03   \n",
       "mean           1.207172e+05         1952.749234           3.666834e+04   \n",
       "std            2.210008e+06         6626.124028           6.946684e+04   \n",
       "min            0.000000e+00            0.000000           0.000000e+00   \n",
       "25%            1.290000e+02          235.000000           2.562250e+03   \n",
       "50%            5.160000e+02          639.500000           1.172500e+04   \n",
       "75%            1.978500e+03         1793.000000           4.112500e+04   \n",
       "max            1.030626e+08       229046.000000           1.100976e+06   \n",
       "\n",
       "          Polarity  Subjectivity  \n",
       "count  6528.000000   6528.000000  \n",
       "mean     -0.022125      0.173381  \n",
       "std       0.151030      0.206546  \n",
       "min      -1.000000      0.000000  \n",
       "25%      -0.050000      0.000000  \n",
       "50%      -0.050000      0.050000  \n",
       "75%       0.030000      0.330000  \n",
       "max       1.000000      1.000000  "
      ]
     },
     "execution_count": 124,
     "metadata": {},
     "output_type": "execute_result"
    }
   ],
   "source": [
    "df_cor.describe()"
   ]
  },
  {
   "cell_type": "code",
   "execution_count": 125,
   "id": "f124b198",
   "metadata": {},
   "outputs": [
    {
     "data": {
      "text/plain": [
       "user_followers_count     35.949109\n",
       "user_friends_count       18.433673\n",
       "user_favourites_count     4.917701\n",
       "Polarity                  0.100018\n",
       "Subjectivity              0.987606\n",
       "dtype: float64"
      ]
     },
     "execution_count": 125,
     "metadata": {},
     "output_type": "execute_result"
    }
   ],
   "source": [
    "# 偏度\n",
    "df_cor.skew()"
   ]
  },
  {
   "cell_type": "code",
   "execution_count": 126,
   "id": "a1d8b73d",
   "metadata": {},
   "outputs": [
    {
     "data": {
      "text/plain": [
       "user_followers_count     1540.035378\n",
       "user_friends_count        505.779203\n",
       "user_favourites_count      37.617435\n",
       "Polarity                    4.550202\n",
       "Subjectivity                0.371489\n",
       "dtype: float64"
      ]
     },
     "execution_count": 126,
     "metadata": {},
     "output_type": "execute_result"
    }
   ],
   "source": [
    "# 峰度\n",
    "df_cor.kurtosis()"
   ]
  },
  {
   "cell_type": "markdown",
   "id": "6ee88072",
   "metadata": {},
   "source": [
    "如果峰度绝对值小于10并且偏度绝对值小于3，则说明数据虽然不是绝对正态，但基本可接受为正态分布。"
   ]
  },
  {
   "cell_type": "code",
   "execution_count": 127,
   "id": "a8476d6e",
   "metadata": {},
   "outputs": [
    {
     "data": {
      "text/html": [
       "<div>\n",
       "<style scoped>\n",
       "    .dataframe tbody tr th:only-of-type {\n",
       "        vertical-align: middle;\n",
       "    }\n",
       "\n",
       "    .dataframe tbody tr th {\n",
       "        vertical-align: top;\n",
       "    }\n",
       "\n",
       "    .dataframe thead th {\n",
       "        text-align: right;\n",
       "    }\n",
       "</style>\n",
       "<table border=\"1\" class=\"dataframe\">\n",
       "  <thead>\n",
       "    <tr style=\"text-align: right;\">\n",
       "      <th></th>\n",
       "      <th>user_followers_count</th>\n",
       "      <th>user_friends_count</th>\n",
       "      <th>user_favourites_count</th>\n",
       "      <th>Polarity</th>\n",
       "      <th>Subjectivity</th>\n",
       "    </tr>\n",
       "  </thead>\n",
       "  <tbody>\n",
       "    <tr>\n",
       "      <th>SW</th>\n",
       "      <td>0.0278</td>\n",
       "      <td>0.2101</td>\n",
       "      <td>0.5252</td>\n",
       "      <td>0.873</td>\n",
       "      <td>0.8103</td>\n",
       "    </tr>\n",
       "    <tr>\n",
       "      <th>pvalue</th>\n",
       "      <td>0.0000</td>\n",
       "      <td>0.0000</td>\n",
       "      <td>0.0000</td>\n",
       "      <td>0.000</td>\n",
       "      <td>0.0000</td>\n",
       "    </tr>\n",
       "  </tbody>\n",
       "</table>\n",
       "</div>"
      ],
      "text/plain": [
       "        user_followers_count  user_friends_count  user_favourites_count  \\\n",
       "SW                    0.0278              0.2101                 0.5252   \n",
       "pvalue                0.0000              0.0000                 0.0000   \n",
       "\n",
       "        Polarity  Subjectivity  \n",
       "SW         0.873        0.8103  \n",
       "pvalue     0.000        0.0000  "
      ]
     },
     "execution_count": 127,
     "metadata": {},
     "output_type": "execute_result"
    }
   ],
   "source": [
    "# Shapiro-Wilk检验(小样本  3⩽𝑛⩽50 )\n",
    "def SW(X):\n",
    "    result = stats.shapiro(X)\n",
    "    return pd.Series(result, index=['SW', 'pvalue']).round(4)\n",
    "df_test = df_cor.apply(SW)\n",
    "df_test"
   ]
  },
  {
   "cell_type": "code",
   "execution_count": 128,
   "id": "8bfa1db6",
   "metadata": {
    "scrolled": true
   },
   "outputs": [
    {
     "data": {
      "text/plain": [
       "user_followers_count     False\n",
       "user_friends_count       False\n",
       "user_favourites_count    False\n",
       "Polarity                 False\n",
       "Subjectivity             False\n",
       "Name: pvalue, dtype: bool"
      ]
     },
     "execution_count": 128,
     "metadata": {},
     "output_type": "execute_result"
    }
   ],
   "source": [
    "# 显著性检验，验证该随机变量是否符合正态分布\n",
    "# 将p值与0.05比较，小于则可拒绝原假设，否则不能拒绝原假设\n",
    "df_test.iloc[1,:] > 0.05"
   ]
  },
  {
   "cell_type": "markdown",
   "id": "07182d15",
   "metadata": {},
   "source": [
    "### 数据严重非正态，采用斯皮尔曼相关系数"
   ]
  },
  {
   "cell_type": "code",
   "execution_count": 129,
   "id": "e939fa34",
   "metadata": {},
   "outputs": [
    {
     "data": {
      "text/html": [
       "<div>\n",
       "<style scoped>\n",
       "    .dataframe tbody tr th:only-of-type {\n",
       "        vertical-align: middle;\n",
       "    }\n",
       "\n",
       "    .dataframe tbody tr th {\n",
       "        vertical-align: top;\n",
       "    }\n",
       "\n",
       "    .dataframe thead th {\n",
       "        text-align: right;\n",
       "    }\n",
       "</style>\n",
       "<table border=\"1\" class=\"dataframe\">\n",
       "  <thead>\n",
       "    <tr style=\"text-align: right;\">\n",
       "      <th></th>\n",
       "      <th>user_followers_count</th>\n",
       "      <th>user_friends_count</th>\n",
       "      <th>user_favourites_count</th>\n",
       "      <th>Polarity</th>\n",
       "      <th>Subjectivity</th>\n",
       "    </tr>\n",
       "  </thead>\n",
       "  <tbody>\n",
       "    <tr>\n",
       "      <th>user_followers_count</th>\n",
       "      <td>1.000000</td>\n",
       "      <td>0.770683</td>\n",
       "      <td>0.576522</td>\n",
       "      <td>0.050027</td>\n",
       "      <td>0.044800</td>\n",
       "    </tr>\n",
       "    <tr>\n",
       "      <th>user_friends_count</th>\n",
       "      <td>0.770683</td>\n",
       "      <td>1.000000</td>\n",
       "      <td>0.564361</td>\n",
       "      <td>0.026290</td>\n",
       "      <td>0.010066</td>\n",
       "    </tr>\n",
       "    <tr>\n",
       "      <th>user_favourites_count</th>\n",
       "      <td>0.576522</td>\n",
       "      <td>0.564361</td>\n",
       "      <td>1.000000</td>\n",
       "      <td>-0.017403</td>\n",
       "      <td>-0.004074</td>\n",
       "    </tr>\n",
       "    <tr>\n",
       "      <th>Polarity</th>\n",
       "      <td>0.050027</td>\n",
       "      <td>0.026290</td>\n",
       "      <td>-0.017403</td>\n",
       "      <td>1.000000</td>\n",
       "      <td>0.144181</td>\n",
       "    </tr>\n",
       "    <tr>\n",
       "      <th>Subjectivity</th>\n",
       "      <td>0.044800</td>\n",
       "      <td>0.010066</td>\n",
       "      <td>-0.004074</td>\n",
       "      <td>0.144181</td>\n",
       "      <td>1.000000</td>\n",
       "    </tr>\n",
       "  </tbody>\n",
       "</table>\n",
       "</div>"
      ],
      "text/plain": [
       "                       user_followers_count  user_friends_count  \\\n",
       "user_followers_count               1.000000            0.770683   \n",
       "user_friends_count                 0.770683            1.000000   \n",
       "user_favourites_count              0.576522            0.564361   \n",
       "Polarity                           0.050027            0.026290   \n",
       "Subjectivity                       0.044800            0.010066   \n",
       "\n",
       "                       user_favourites_count  Polarity  Subjectivity  \n",
       "user_followers_count                0.576522  0.050027      0.044800  \n",
       "user_friends_count                  0.564361  0.026290      0.010066  \n",
       "user_favourites_count               1.000000 -0.017403     -0.004074  \n",
       "Polarity                           -0.017403  1.000000      0.144181  \n",
       "Subjectivity                       -0.004074  0.144181      1.000000  "
      ]
     },
     "execution_count": 129,
     "metadata": {},
     "output_type": "execute_result"
    }
   ],
   "source": [
    "correlations = df_cor.corr('spearman')\n",
    "correlations"
   ]
  },
  {
   "cell_type": "code",
   "execution_count": 130,
   "id": "bb0329a2",
   "metadata": {},
   "outputs": [
    {
     "data": {
      "text/html": [
       "<div>\n",
       "<style scoped>\n",
       "    .dataframe tbody tr th:only-of-type {\n",
       "        vertical-align: middle;\n",
       "    }\n",
       "\n",
       "    .dataframe tbody tr th {\n",
       "        vertical-align: top;\n",
       "    }\n",
       "\n",
       "    .dataframe thead th {\n",
       "        text-align: right;\n",
       "    }\n",
       "</style>\n",
       "<table border=\"1\" class=\"dataframe\">\n",
       "  <thead>\n",
       "    <tr style=\"text-align: right;\">\n",
       "      <th></th>\n",
       "      <th>user_followers_count</th>\n",
       "      <th>user_friends_count</th>\n",
       "      <th>user_favourites_count</th>\n",
       "      <th>Polarity</th>\n",
       "      <th>Subjectivity</th>\n",
       "    </tr>\n",
       "  </thead>\n",
       "  <tbody>\n",
       "    <tr>\n",
       "      <th>user_followers_count</th>\n",
       "      <td>1.0000</td>\n",
       "      <td>0.0000</td>\n",
       "      <td>0.0000</td>\n",
       "      <td>0.0001</td>\n",
       "      <td>0.0003</td>\n",
       "    </tr>\n",
       "    <tr>\n",
       "      <th>user_friends_count</th>\n",
       "      <td>0.0000</td>\n",
       "      <td>1.0000</td>\n",
       "      <td>0.0000</td>\n",
       "      <td>0.0337</td>\n",
       "      <td>0.4161</td>\n",
       "    </tr>\n",
       "    <tr>\n",
       "      <th>user_favourites_count</th>\n",
       "      <td>0.0000</td>\n",
       "      <td>0.0000</td>\n",
       "      <td>1.0000</td>\n",
       "      <td>0.1598</td>\n",
       "      <td>0.7421</td>\n",
       "    </tr>\n",
       "    <tr>\n",
       "      <th>Polarity</th>\n",
       "      <td>0.0001</td>\n",
       "      <td>0.0337</td>\n",
       "      <td>0.1598</td>\n",
       "      <td>1.0000</td>\n",
       "      <td>0.0000</td>\n",
       "    </tr>\n",
       "    <tr>\n",
       "      <th>Subjectivity</th>\n",
       "      <td>0.0003</td>\n",
       "      <td>0.4161</td>\n",
       "      <td>0.7421</td>\n",
       "      <td>0.0000</td>\n",
       "      <td>1.0000</td>\n",
       "    </tr>\n",
       "  </tbody>\n",
       "</table>\n",
       "</div>"
      ],
      "text/plain": [
       "                       user_followers_count  user_friends_count  \\\n",
       "user_followers_count                 1.0000              0.0000   \n",
       "user_friends_count                   0.0000              1.0000   \n",
       "user_favourites_count                0.0000              0.0000   \n",
       "Polarity                             0.0001              0.0337   \n",
       "Subjectivity                         0.0003              0.4161   \n",
       "\n",
       "                       user_favourites_count  Polarity  Subjectivity  \n",
       "user_followers_count                  0.0000    0.0001        0.0003  \n",
       "user_friends_count                    0.0000    0.0337        0.4161  \n",
       "user_favourites_count                 1.0000    0.1598        0.7421  \n",
       "Polarity                              0.1598    1.0000        0.0000  \n",
       "Subjectivity                          0.7421    0.0000        1.0000  "
      ]
     },
     "execution_count": 130,
     "metadata": {},
     "output_type": "execute_result"
    }
   ],
   "source": [
    "def PvalueGetSpearman(X, Y):\n",
    "    return stats.spearmanr(X, Y)[1].round(4)\n",
    "df_cor.corr(method=PvalueGetSpearman)"
   ]
  },
  {
   "cell_type": "code",
   "execution_count": 131,
   "id": "b46a9af8",
   "metadata": {},
   "outputs": [
    {
     "data": {
      "text/html": [
       "<div>\n",
       "<style scoped>\n",
       "    .dataframe tbody tr th:only-of-type {\n",
       "        vertical-align: middle;\n",
       "    }\n",
       "\n",
       "    .dataframe tbody tr th {\n",
       "        vertical-align: top;\n",
       "    }\n",
       "\n",
       "    .dataframe thead th {\n",
       "        text-align: right;\n",
       "    }\n",
       "</style>\n",
       "<table border=\"1\" class=\"dataframe\">\n",
       "  <thead>\n",
       "    <tr style=\"text-align: right;\">\n",
       "      <th></th>\n",
       "      <th>user_followers_count</th>\n",
       "      <th>user_friends_count</th>\n",
       "      <th>user_favourites_count</th>\n",
       "      <th>Polarity</th>\n",
       "      <th>Subjectivity</th>\n",
       "    </tr>\n",
       "  </thead>\n",
       "  <tbody>\n",
       "    <tr>\n",
       "      <th>user_followers_count</th>\n",
       "      <td>True</td>\n",
       "      <td>False</td>\n",
       "      <td>False</td>\n",
       "      <td>False</td>\n",
       "      <td>False</td>\n",
       "    </tr>\n",
       "    <tr>\n",
       "      <th>user_friends_count</th>\n",
       "      <td>False</td>\n",
       "      <td>True</td>\n",
       "      <td>False</td>\n",
       "      <td>False</td>\n",
       "      <td>True</td>\n",
       "    </tr>\n",
       "    <tr>\n",
       "      <th>user_favourites_count</th>\n",
       "      <td>False</td>\n",
       "      <td>False</td>\n",
       "      <td>True</td>\n",
       "      <td>True</td>\n",
       "      <td>True</td>\n",
       "    </tr>\n",
       "    <tr>\n",
       "      <th>Polarity</th>\n",
       "      <td>False</td>\n",
       "      <td>False</td>\n",
       "      <td>True</td>\n",
       "      <td>True</td>\n",
       "      <td>False</td>\n",
       "    </tr>\n",
       "    <tr>\n",
       "      <th>Subjectivity</th>\n",
       "      <td>False</td>\n",
       "      <td>True</td>\n",
       "      <td>True</td>\n",
       "      <td>False</td>\n",
       "      <td>True</td>\n",
       "    </tr>\n",
       "  </tbody>\n",
       "</table>\n",
       "</div>"
      ],
      "text/plain": [
       "                       user_followers_count  user_friends_count  \\\n",
       "user_followers_count                   True               False   \n",
       "user_friends_count                    False                True   \n",
       "user_favourites_count                 False               False   \n",
       "Polarity                              False               False   \n",
       "Subjectivity                          False                True   \n",
       "\n",
       "                       user_favourites_count  Polarity  Subjectivity  \n",
       "user_followers_count                   False     False         False  \n",
       "user_friends_count                     False     False          True  \n",
       "user_favourites_count                   True      True          True  \n",
       "Polarity                                True      True         False  \n",
       "Subjectivity                            True     False          True  "
      ]
     },
     "execution_count": 131,
     "metadata": {},
     "output_type": "execute_result"
    }
   ],
   "source": [
    "df_cor.corr(method=PvalueGetSpearman) > 0.05"
   ]
  },
  {
   "cell_type": "markdown",
   "id": "b5b06b10",
   "metadata": {},
   "source": [
    "conclusion: CORRELATIONS exist in\n",
    "1. user_friends_count VS Subjectivity\n",
    "2. user_favourites_count VS Polarity\n",
    "3. user_favourites_count VS Subjectivity\t"
   ]
  },
  {
   "cell_type": "markdown",
   "id": "95f472ab",
   "metadata": {},
   "source": [
    "## 用seaborn绘制热力图"
   ]
  },
  {
   "cell_type": "code",
   "execution_count": 132,
   "id": "db2262ea",
   "metadata": {},
   "outputs": [
    {
     "data": {
      "image/png": "[encoded data removed]",
      "text/html": [
       "<div style=\"vertical-align: middle;\"><strong>blend</strong> </div><div class=\"cmap\"><img alt=\"blend colormap\" title=\"blend\" style=\"border: 1px solid #555;\" src=\"data:image/png;base64,iVBORw0KGgoAAAANSUhEUgAAAgAAAABACAYAAABsv8+/AAAAFHRFWHRUaXRsZQBibGVuZCBjb2xvcm1hcKH0gPAAAAAadEVYdERlc2NyaXB0aW9uAGJsZW5kIGNvbG9ybWFwX6spFgAAADB0RVh0QXV0aG9yAE1hdHBsb3RsaWIgdjMuNC4zLCBodHRwczovL21hdHBsb3RsaWIub3JnCV3z0wAAADJ0RVh0U29mdHdhcmUATWF0cGxvdGxpYiB2My40LjMsIGh0dHBzOi8vbWF0cGxvdGxpYi5vcmcn+2z0AAABzUlEQVR4nO3WQW6CQABA0dFD9kA9dJfShdBGDUGsNib/vY0CA8OAMf/w9fE5jTHGOBzGGGOM4/y5bM8fv9tr41bO2xq3enzcNW66ud7K/T553tvrbcz7pPmmm3GPzrtx/J/WszXf7ft9l/e283e+871Nr573eF74ad5xOv8LjNN0/jJv/uyf5v2nsWw/a/x0eXxcnb9cb+/4B+93ex1/vK/d46/XtYy/On9r/Mpz377uq34Pjz2Xh5/vm61je/y+93v/e7+8j+XvDwAIEQAAECQAACBIAABAkAAAgCABAABBAgAAggQAAAQJAAAIEgAAECQAACBIAABAkAAAgCABAABBAgAAggQAAAQJAAAIEgAAECQAACBIAABAkAAAgCABAABBAgAAggQAAAQJAAAIEgAAECQAACBIAABAkAAAgCABAABBAgAAggQAAAQJAAAIEgAAECQAACBIAABAkAAAgCABAABBAgAAggQAAAQJAAAIEgAAECQAACBIAABAkAAAgCABAABBAgAAggQAAAQJAAAIEgAAECQAACBIAABAkAAAgCABAABBAgAAggQAAAQJAAAIEgAAECQAACBIAABAkAAAgCABAABBAgAAgr4B6rsMHqJTxpUAAAAASUVORK5CYII=\"></div><div style=\"vertical-align: middle; max-width: 514px; display: flex; justify-content: space-between;\"><div style=\"float: left;\"><div title=\"#f75782ff\" style=\"display: inline-block; width: 1em; height: 1em; margin: 0; vertical-align: middle; border: 1px solid #555; background-color: #f75782ff;\"></div> under</div><div style=\"margin: 0 auto; display: inline-block;\">bad <div title=\"#00000000\" style=\"display: inline-block; width: 1em; height: 1em; margin: 0; vertical-align: middle; border: 1px solid #555; background-color: #00000000;\"></div></div><div style=\"float: right;\">over <div title=\"#329bc5ff\" style=\"display: inline-block; width: 1em; height: 1em; margin: 0; vertical-align: middle; border: 1px solid #555; background-color: #329bc5ff;\"></div></div>"
      ],
      "text/plain": [
       "<matplotlib.colors.LinearSegmentedColormap at 0x2f61cbe18e0>"
      ]
     },
     "execution_count": 132,
     "metadata": {},
     "output_type": "execute_result"
    }
   ],
   "source": [
    "# 正常显示汉字和负号\n",
    "plt.rcParams['font.sans-serif'] = ['SimHei']\n",
    "plt.rcParams['axes.unicode_minus'] = False\n",
    "\n",
    "sns.diverging_palette(0, 230, 90, 60, as_cmap=True)"
   ]
  },
  {
   "cell_type": "code",
   "execution_count": 133,
   "id": "bc2e11b3",
   "metadata": {},
   "outputs": [
    {
     "data": {
      "image/png": "[encoded data removed]",
      "text/html": [
       "<div style=\"vertical-align: middle;\"><strong>vlag</strong> </div><div class=\"cmap\"><img alt=\"vlag colormap\" title=\"vlag\" style=\"border: 1px solid #555;\" src=\"data:image/png;base64,iVBORw0KGgoAAAANSUhEUgAAAgAAAABACAYAAABsv8+/AAAAE3RFWHRUaXRsZQB2bGFnIGNvbG9ybWFwQ/+bDQAAABl0RVh0RGVzY3JpcHRpb24AdmxhZyBjb2xvcm1hcMhNC5UAAAAwdEVYdEF1dGhvcgBNYXRwbG90bGliIHYzLjQuMywgaHR0cHM6Ly9tYXRwbG90bGliLm9yZwld89MAAAAydEVYdFNvZnR3YXJlAE1hdHBsb3RsaWIgdjMuNC4zLCBodHRwczovL21hdHBsb3RsaWIub3JnJ/ts9AAAAhhJREFUeJzt1kFuqzAYhVGbLqWre3vs2qATnArDX0j1ZvecSYRjbEOj6uuf/7621lr76K1dfS6n6+14vVTz/tdn//X7Xt239Efz+u3619/X49O5l/fWOd1fzjuuP+bPz3net1+O96Wa9/v1eM+388b46bzFvqe/33Gd87mnfcr1qvc4n6f6+83PU41Xzz+f87h//d6v3/cY720e3z/b8Xr2Gt624xfjevrc5ut1nb5f9/Ex73g95o95bb2+72fdafx1Xd0/1t/3X6/vb9O8cr/5+ar15+d+un7xHqr3Ut9fnWva/+G6fz7n3f6v6/f2eX7Op/vP5336vt97vtvfefk7fXbu+vd2c659fP83BQAkEQAAEEgAAEAgAQAAgQQAAAQSAAAQSAAAQCABAACBBAAABBIAABBIAABAIAEAAIEEAAAEEgAAEEgAAEAgAQAAgQQAAAQSAAAQSAAAQCABAACBBAAABBIAABBIAABAIAEAAIEEAAAEEgAAEEgAAEAgAQAAgQQAAAQSAAAQSAAAQCABAACBBAAABBIAABBIAABAIAEAAIEEAAAEEgAAEEgAAEAgAQAAgQQAAAQSAAAQSAAAQCABAACBBAAABBIAABBIAABAIAEAAIEEAAAEEgAAEEgAAEAgAQAAgQQAAAQSAAAQSAAAQCABAACBBAAABBIAABBIAABAIAEAAIEEAAAEEgAAEEgAAECgb31CUaaV0kkSAAAAAElFTkSuQmCC\"></div><div style=\"vertical-align: middle; max-width: 514px; display: flex; justify-content: space-between;\"><div style=\"float: left;\"><div title=\"#2369bdff\" style=\"display: inline-block; width: 1em; height: 1em; margin: 0; vertical-align: middle; border: 1px solid #555; background-color: #2369bdff;\"></div> under</div><div style=\"margin: 0 auto; display: inline-block;\">bad <div title=\"#00000000\" style=\"display: inline-block; width: 1em; height: 1em; margin: 0; vertical-align: middle; border: 1px solid #555; background-color: #00000000;\"></div></div><div style=\"float: right;\">over <div title=\"#a9373bff\" style=\"display: inline-block; width: 1em; height: 1em; margin: 0; vertical-align: middle; border: 1px solid #555; background-color: #a9373bff;\"></div></div>"
      ],
      "text/plain": [
       "<matplotlib.colors.ListedColormap at 0x2f6788837f0>"
      ]
     },
     "execution_count": 133,
     "metadata": {},
     "output_type": "execute_result"
    }
   ],
   "source": [
    "sns.color_palette('vlag', as_cmap=True)"
   ]
  },
  {
   "cell_type": "code",
   "execution_count": 134,
   "id": "9c00a301",
   "metadata": {},
   "outputs": [
    {
     "data": {
      "image/png": "[encoded data removed]",
      "text/html": [
       "<div style=\"vertical-align: middle;\"><strong>coolwarm</strong> </div><div class=\"cmap\"><img alt=\"coolwarm colormap\" title=\"coolwarm\" style=\"border: 1px solid #555;\" src=\"data:image/png;base64,iVBORw0KGgoAAAANSUhEUgAAAgAAAABACAYAAABsv8+/AAAAF3RFWHRUaXRsZQBjb29sd2FybSBjb2xvcm1hcPHW9i4AAAAddEVYdERlc2NyaXB0aW9uAGNvb2x3YXJtIGNvbG9ybWFw2KgRBwAAADB0RVh0QXV0aG9yAE1hdHBsb3RsaWIgdjMuNC4zLCBodHRwczovL21hdHBsb3RsaWIub3JnCV3z0wAAADJ0RVh0U29mdHdhcmUATWF0cGxvdGxpYiB2My40LjMsIGh0dHBzOi8vbWF0cGxvdGxpYi5vcmcn+2z0AAACIUlEQVR4nO3WO3LbQBBF0QaW5TV40d6XTIwTCCo2MQQYOHrnJKr5NRip7vLr959RVbUsS1VVLetaVVXr+rzu50s7X2fnt+cu+/n5/nF+8Z315buz9/3310fzXvfrfP73nOn8mnzv+f7xfva9/bzPu9w/vnM+b36v3t+72J/fGxfvx739mt1v82tyXv13jPO5x7175y/fm53f3F/7fm333vf7o+2P7cP18371e+P9nOrvR/995/e+59ZkPZ17rN/fO+Zufe75vdr67znfv3o3tnv3Lt/t69HW3+fH/Zc579+/rLc2r82fzevf7/ePv+Pq3uTdf9rfHu/v/5y3e/v+1uc/tud3j8m84/0+72tf/x2frb+e/18BAEEEAAAEEgAAEEgAAEAgAQAAgQQAAAQSAAAQSAAAQCABAACBBAAABBIAABBIAABAIAEAAIEEAAAEEgAAEEgAAEAgAQAAgQQAAAQSAAAQSAAAQCABAACBBAAABBIAABBIAABAIAEAAIEEAAAEEgAAEEgAAEAgAQAAgQQAAAQSAAAQSAAAQCABAACBBAAABBIAABBIAABAIAEAAIEEAAAEEgAAEEgAAEAgAQAAgQQAAAQSAAAQSAAAQCABAACBBAAABBIAABBIAABAIAEAAIEEAAAEEgAAEEgAAEAgAQAAgQQAAAQSAAAQSAAAQCABAACBBAAABBIAABBIAABAIAEAAIEEAAAEEgAAEOgf6GZUalYlbg8AAAAASUVORK5CYII=\"></div><div style=\"vertical-align: middle; max-width: 514px; display: flex; justify-content: space-between;\"><div style=\"float: left;\"><div title=\"#3b4cc0ff\" style=\"display: inline-block; width: 1em; height: 1em; margin: 0; vertical-align: middle; border: 1px solid #555; background-color: #3b4cc0ff;\"></div> under</div><div style=\"margin: 0 auto; display: inline-block;\">bad <div title=\"#00000000\" style=\"display: inline-block; width: 1em; height: 1em; margin: 0; vertical-align: middle; border: 1px solid #555; background-color: #00000000;\"></div></div><div style=\"float: right;\">over <div title=\"#b40426ff\" style=\"display: inline-block; width: 1em; height: 1em; margin: 0; vertical-align: middle; border: 1px solid #555; background-color: #b40426ff;\"></div></div>"
      ],
      "text/plain": [
       "<matplotlib.colors.LinearSegmentedColormap at 0x2f6781bf730>"
      ]
     },
     "execution_count": 134,
     "metadata": {},
     "output_type": "execute_result"
    }
   ],
   "source": [
    "sns.color_palette('coolwarm', as_cmap=True)"
   ]
  },
  {
   "cell_type": "code",
   "execution_count": 135,
   "id": "6358243b",
   "metadata": {},
   "outputs": [],
   "source": [
    "# 绘制发散调色板用作cmap\n",
    "# cmap = sns.diverging_palette(0, 230, 90, 60, as_cmap=True)\n",
    "cmap = sns.color_palette('vlag', as_cmap=True)\n",
    "# cmap = sns.color_palette('coolwarm', as_cmap=True)"
   ]
  },
  {
   "cell_type": "code",
   "execution_count": 136,
   "id": "9c76191d",
   "metadata": {},
   "outputs": [
    {
     "data": {
      "image/png": "[encoded data removed]",
      "text/plain": [
       "<Figure size 1080x720 with 2 Axes>"
      ]
     },
     "metadata": {
      "needs_background": "light"
     },
     "output_type": "display_data"
    }
   ],
   "source": [
    "# 在heatmap(square=False)时可以调整图片大小，x、y轴标签的方向\n",
    "plt.figure(figsize=(15,10))\n",
    "ax = sns.heatmap(correlations, vmin=-1, vmax=1, cmap=cmap, annot=True, fmt='.3f')\n",
    "ax.set_xticklabels(df_cor.columns, rotation='horizontal')\n",
    "ax.set_yticklabels(df_cor.columns, rotation='horizontal')\n",
    "plt.savefig('C:/Users/86180/Desktop/IC-DS/GROUP PROJECT/image/cor_Part1')\n",
    "plt.show()"
   ]
  },
  {
   "cell_type": "markdown",
   "id": "1c2cc4a4",
   "metadata": {},
   "source": [
    "## 用定序数据"
   ]
  },
  {
   "cell_type": "code",
   "execution_count": 145,
   "id": "1a6e10e1",
   "metadata": {},
   "outputs": [
    {
     "data": {
      "text/plain": [
       "objective     50.122549\n",
       "subjective    49.877451\n",
       "Name: Subjectivity_buckets, dtype: float64"
      ]
     },
     "execution_count": 145,
     "metadata": {},
     "output_type": "execute_result"
    }
   ],
   "source": [
    "# Bucketing the Polarity scores into Medium, lower and Higher buckets using Lambda expresisno\n",
    "df_final['Subjectivity_buckets'] = df_final['Subjectivity'].apply(\n",
    "    lambda x: 'objective' if x<=0.05 else 'subjective')\n",
    "# print(df_final.shape[0])\n",
    "# calculate the portions of each busket\n",
    "df_final['Subjectivity_buckets'].value_counts(normalize = True)*100"
   ]
  },
  {
   "cell_type": "code",
   "execution_count": 148,
   "id": "6a1b0263",
   "metadata": {},
   "outputs": [
    {
     "data": {
      "text/plain": [
       "1154    1\n",
       "2283    1\n",
       "1218    0\n",
       "3265    0\n",
       "5731    0\n",
       "Name: Subscore, dtype: int64"
      ]
     },
     "execution_count": 148,
     "metadata": {},
     "output_type": "execute_result"
    }
   ],
   "source": [
    "df_final['Subscore']=df_final['Subjectivity_buckets'].apply(lambda x:1 if x=='subjective' else 0)\n",
    "df_final['Subscore'].sample(5)"
   ]
  },
  {
   "cell_type": "code",
   "execution_count": 158,
   "id": "44440267",
   "metadata": {},
   "outputs": [
    {
     "data": {
      "text/html": [
       "<div>\n",
       "<style scoped>\n",
       "    .dataframe tbody tr th:only-of-type {\n",
       "        vertical-align: middle;\n",
       "    }\n",
       "\n",
       "    .dataframe tbody tr th {\n",
       "        vertical-align: top;\n",
       "    }\n",
       "\n",
       "    .dataframe thead th {\n",
       "        text-align: right;\n",
       "    }\n",
       "</style>\n",
       "<table border=\"1\" class=\"dataframe\">\n",
       "  <thead>\n",
       "    <tr style=\"text-align: right;\">\n",
       "      <th></th>\n",
       "      <th>user_favourites_count</th>\n",
       "      <th>Score</th>\n",
       "      <th>Subscore</th>\n",
       "    </tr>\n",
       "  </thead>\n",
       "  <tbody>\n",
       "    <tr>\n",
       "      <th>user_favourites_count</th>\n",
       "      <td>1.000000</td>\n",
       "      <td>-0.017564</td>\n",
       "      <td>-0.010273</td>\n",
       "    </tr>\n",
       "    <tr>\n",
       "      <th>Score</th>\n",
       "      <td>-0.017564</td>\n",
       "      <td>1.000000</td>\n",
       "      <td>0.489013</td>\n",
       "    </tr>\n",
       "    <tr>\n",
       "      <th>Subscore</th>\n",
       "      <td>-0.010273</td>\n",
       "      <td>0.489013</td>\n",
       "      <td>1.000000</td>\n",
       "    </tr>\n",
       "  </tbody>\n",
       "</table>\n",
       "</div>"
      ],
      "text/plain": [
       "                       user_favourites_count     Score  Subscore\n",
       "user_favourites_count               1.000000 -0.017564 -0.010273\n",
       "Score                              -0.017564  1.000000  0.489013\n",
       "Subscore                           -0.010273  0.489013  1.000000"
      ]
     },
     "execution_count": 158,
     "metadata": {},
     "output_type": "execute_result"
    }
   ],
   "source": [
    "df_cor = df_final[['user_favourites_count','Score','Subscore']]\n",
    "\n",
    "corr = df_cor.corr('spearman')\n",
    "corr"
   ]
  },
  {
   "cell_type": "code",
   "execution_count": 156,
   "id": "3d471547",
   "metadata": {},
   "outputs": [
    {
     "data": {
      "text/html": [
       "<div>\n",
       "<style scoped>\n",
       "    .dataframe tbody tr th:only-of-type {\n",
       "        vertical-align: middle;\n",
       "    }\n",
       "\n",
       "    .dataframe tbody tr th {\n",
       "        vertical-align: top;\n",
       "    }\n",
       "\n",
       "    .dataframe thead th {\n",
       "        text-align: right;\n",
       "    }\n",
       "</style>\n",
       "<table border=\"1\" class=\"dataframe\">\n",
       "  <thead>\n",
       "    <tr style=\"text-align: right;\">\n",
       "      <th></th>\n",
       "      <th>user_favourites_count</th>\n",
       "      <th>Score</th>\n",
       "      <th>Subscore</th>\n",
       "    </tr>\n",
       "  </thead>\n",
       "  <tbody>\n",
       "    <tr>\n",
       "      <th>user_favourites_count</th>\n",
       "      <td>1.0000</td>\n",
       "      <td>0.1559</td>\n",
       "      <td>0.4066</td>\n",
       "    </tr>\n",
       "    <tr>\n",
       "      <th>Score</th>\n",
       "      <td>0.1559</td>\n",
       "      <td>1.0000</td>\n",
       "      <td>0.0000</td>\n",
       "    </tr>\n",
       "    <tr>\n",
       "      <th>Subscore</th>\n",
       "      <td>0.4066</td>\n",
       "      <td>0.0000</td>\n",
       "      <td>1.0000</td>\n",
       "    </tr>\n",
       "  </tbody>\n",
       "</table>\n",
       "</div>"
      ],
      "text/plain": [
       "                       user_favourites_count   Score  Subscore\n",
       "user_favourites_count                 1.0000  0.1559    0.4066\n",
       "Score                                 0.1559  1.0000    0.0000\n",
       "Subscore                              0.4066  0.0000    1.0000"
      ]
     },
     "execution_count": 156,
     "metadata": {},
     "output_type": "execute_result"
    }
   ],
   "source": [
    "def PvalueGetSpearman(X, Y):\n",
    "    return stats.spearmanr(X, Y)[1].round(4)\n",
    "df_cor.corr(method=PvalueGetSpearman)"
   ]
  },
  {
   "cell_type": "code",
   "execution_count": 157,
   "id": "56f87649",
   "metadata": {},
   "outputs": [
    {
     "data": {
      "text/html": [
       "<div>\n",
       "<style scoped>\n",
       "    .dataframe tbody tr th:only-of-type {\n",
       "        vertical-align: middle;\n",
       "    }\n",
       "\n",
       "    .dataframe tbody tr th {\n",
       "        vertical-align: top;\n",
       "    }\n",
       "\n",
       "    .dataframe thead th {\n",
       "        text-align: right;\n",
       "    }\n",
       "</style>\n",
       "<table border=\"1\" class=\"dataframe\">\n",
       "  <thead>\n",
       "    <tr style=\"text-align: right;\">\n",
       "      <th></th>\n",
       "      <th>user_favourites_count</th>\n",
       "      <th>Score</th>\n",
       "      <th>Subscore</th>\n",
       "    </tr>\n",
       "  </thead>\n",
       "  <tbody>\n",
       "    <tr>\n",
       "      <th>user_favourites_count</th>\n",
       "      <td>True</td>\n",
       "      <td>True</td>\n",
       "      <td>True</td>\n",
       "    </tr>\n",
       "    <tr>\n",
       "      <th>Score</th>\n",
       "      <td>True</td>\n",
       "      <td>True</td>\n",
       "      <td>False</td>\n",
       "    </tr>\n",
       "    <tr>\n",
       "      <th>Subscore</th>\n",
       "      <td>True</td>\n",
       "      <td>False</td>\n",
       "      <td>True</td>\n",
       "    </tr>\n",
       "  </tbody>\n",
       "</table>\n",
       "</div>"
      ],
      "text/plain": [
       "                       user_favourites_count  Score  Subscore\n",
       "user_favourites_count                   True   True      True\n",
       "Score                                   True   True     False\n",
       "Subscore                                True  False      True"
      ]
     },
     "execution_count": 157,
     "metadata": {},
     "output_type": "execute_result"
    }
   ],
   "source": [
    "df_cor.corr(method=PvalueGetSpearman)> 0.05"
   ]
  },
  {
   "cell_type": "code",
   "execution_count": 163,
   "id": "2381f67a",
   "metadata": {
    "scrolled": true
   },
   "outputs": [
    {
     "data": {
      "image/png": "[encoded data removed]",
      "text/plain": [
       "<Figure size 720x576 with 2 Axes>"
      ]
     },
     "metadata": {
      "needs_background": "light"
     },
     "output_type": "display_data"
    }
   ],
   "source": [
    "# 在heatmap(square=False)时可以调整图片大小，x、y轴标签的方向\n",
    "plt.figure(figsize=(10,8))\n",
    "ax = sns.heatmap(corr, vmin=-1, vmax=1, cmap=cmap, annot=True, fmt='.3f')\n",
    "ax.set_xticklabels(df_cor.columns, rotation='horizontal')\n",
    "ax.set_yticklabels(df_cor.columns, rotation='horizontal')\n",
    "plt.savefig('C:/Users/86180/Desktop/IC-DS/GROUP PROJECT/image/corr_Part1')\n",
    "plt.show()"
   ]
  },
  {
   "cell_type": "markdown",
   "id": "80245fee",
   "metadata": {},
   "source": [
    "# time vs score"
   ]
  },
  {
   "cell_type": "markdown",
   "id": "a4160ae0",
   "metadata": {},
   "source": [
    "## 1. combine all data"
   ]
  },
  {
   "cell_type": "code",
   "execution_count": 2,
   "id": "e4bcb5a8",
   "metadata": {},
   "outputs": [],
   "source": [
    "import pandas as pd\n",
    "\n",
    "df1 = pd.read_csv('C:/Users/86180/Desktop/IC-DS/GROUP PROJECT/cleaned_data/part1.csv')\n",
    "df2 = pd.read_csv('C:/Users/86180/Desktop/IC-DS/GROUP PROJECT/cleaned_data/part2.csv')\n",
    "df3 = pd.read_csv('C:/Users/86180/Desktop/IC-DS/GROUP PROJECT/cleaned_data/part3.csv')\n",
    "df4 = pd.read_csv('C:/Users/86180/Desktop/IC-DS/GROUP PROJECT/cleaned_data/part4.csv')\n",
    "df5 = pd.read_csv('C:/Users/86180/Desktop/IC-DS/GROUP PROJECT/cleaned_data/part5.csv'\n",
    "                  ,low_memory=False\n",
    "                 )\n",
    "df6 = pd.read_csv('C:/Users/86180/Desktop/IC-DS/GROUP PROJECT/cleaned_data/part6.csv')\n"
   ]
  },
  {
   "cell_type": "code",
   "execution_count": 59,
   "id": "032782cf",
   "metadata": {},
   "outputs": [
    {
     "data": {
      "text/html": [
       "<div>\n",
       "<style scoped>\n",
       "    .dataframe tbody tr th:only-of-type {\n",
       "        vertical-align: middle;\n",
       "    }\n",
       "\n",
       "    .dataframe tbody tr th {\n",
       "        vertical-align: top;\n",
       "    }\n",
       "\n",
       "    .dataframe thead th {\n",
       "        text-align: right;\n",
       "    }\n",
       "</style>\n",
       "<table border=\"1\" class=\"dataframe\">\n",
       "  <thead>\n",
       "    <tr style=\"text-align: right;\">\n",
       "      <th></th>\n",
       "      <th>coordinates</th>\n",
       "      <th>created_at</th>\n",
       "      <th>hashtags</th>\n",
       "      <th>media</th>\n",
       "      <th>urls</th>\n",
       "      <th>favorite_count</th>\n",
       "      <th>id</th>\n",
       "      <th>in_reply_to_screen_name</th>\n",
       "      <th>in_reply_to_status_id</th>\n",
       "      <th>in_reply_to_user_id</th>\n",
       "      <th>...</th>\n",
       "      <th>user_followers_count</th>\n",
       "      <th>user_friends_count</th>\n",
       "      <th>user_listed_count</th>\n",
       "      <th>user_location</th>\n",
       "      <th>user_name</th>\n",
       "      <th>user_screen_name</th>\n",
       "      <th>user_statuses_count</th>\n",
       "      <th>user_time_zone</th>\n",
       "      <th>user_urls</th>\n",
       "      <th>user_verified</th>\n",
       "    </tr>\n",
       "  </thead>\n",
       "  <tbody>\n",
       "    <tr>\n",
       "      <th>0</th>\n",
       "      <td>NaN</td>\n",
       "      <td>Sat May 21 21:51:16 +0000 2022</td>\n",
       "      <td>NaN</td>\n",
       "      <td>NaN</td>\n",
       "      <td>https://warroom.org/2022/05/21/episode-1874-wh...</td>\n",
       "      <td>28</td>\n",
       "      <td>1528131335742705665</td>\n",
       "      <td>NaN</td>\n",
       "      <td>NaN</td>\n",
       "      <td>NaN</td>\n",
       "      <td>...</td>\n",
       "      <td>57368</td>\n",
       "      <td>835</td>\n",
       "      <td>1453</td>\n",
       "      <td>Global -- Currently on Earth</td>\n",
       "      <td>Michael Yon</td>\n",
       "      <td>Michael_Yon</td>\n",
       "      <td>59871</td>\n",
       "      <td>NaN</td>\n",
       "      <td>http://www.michaelyon.com</td>\n",
       "      <td>False</td>\n",
       "    </tr>\n",
       "    <tr>\n",
       "      <th>1</th>\n",
       "      <td>NaN</td>\n",
       "      <td>Sat May 21 22:25:48 +0000 2022</td>\n",
       "      <td>NaN</td>\n",
       "      <td>NaN</td>\n",
       "      <td>NaN</td>\n",
       "      <td>0</td>\n",
       "      <td>1528140025623646208</td>\n",
       "      <td>imispgh</td>\n",
       "      <td>1.528139e+18</td>\n",
       "      <td>1.492808e+07</td>\n",
       "      <td>...</td>\n",
       "      <td>787</td>\n",
       "      <td>4852</td>\n",
       "      <td>9</td>\n",
       "      <td>Origin🌳US + in 155 countries.</td>\n",
       "      <td>@AILovesTech®️🔑🚘</td>\n",
       "      <td>AILoves_Jackie9</td>\n",
       "      <td>21789</td>\n",
       "      <td>NaN</td>\n",
       "      <td>https://twitter.com/@T_W_T_R_Wallet</td>\n",
       "      <td>False</td>\n",
       "    </tr>\n",
       "    <tr>\n",
       "      <th>2</th>\n",
       "      <td>NaN</td>\n",
       "      <td>Sat May 21 22:24:39 +0000 2022</td>\n",
       "      <td>NaN</td>\n",
       "      <td>NaN</td>\n",
       "      <td>NaN</td>\n",
       "      <td>1</td>\n",
       "      <td>1528139737957126144</td>\n",
       "      <td>NaN</td>\n",
       "      <td>NaN</td>\n",
       "      <td>NaN</td>\n",
       "      <td>...</td>\n",
       "      <td>180</td>\n",
       "      <td>899</td>\n",
       "      <td>2</td>\n",
       "      <td>NaN</td>\n",
       "      <td>Mikey</td>\n",
       "      <td>MikeyNYI</td>\n",
       "      <td>6435</td>\n",
       "      <td>NaN</td>\n",
       "      <td>NaN</td>\n",
       "      <td>False</td>\n",
       "    </tr>\n",
       "    <tr>\n",
       "      <th>3</th>\n",
       "      <td>NaN</td>\n",
       "      <td>Sat May 21 22:27:59 +0000 2022</td>\n",
       "      <td>NaN</td>\n",
       "      <td>NaN</td>\n",
       "      <td>NaN</td>\n",
       "      <td>0</td>\n",
       "      <td>1528140577320996864</td>\n",
       "      <td>PeteUK7</td>\n",
       "      <td>1.528108e+18</td>\n",
       "      <td>1.235378e+18</td>\n",
       "      <td>...</td>\n",
       "      <td>2213</td>\n",
       "      <td>3077</td>\n",
       "      <td>48</td>\n",
       "      <td>Unceded Lək̓ʷəŋən Nations Land</td>\n",
       "      <td>David D. 🟧 🪶 🟧</td>\n",
       "      <td>answerallman</td>\n",
       "      <td>334792</td>\n",
       "      <td>NaN</td>\n",
       "      <td>https://twitter.com/answerallman/status/134144...</td>\n",
       "      <td>False</td>\n",
       "    </tr>\n",
       "    <tr>\n",
       "      <th>4</th>\n",
       "      <td>NaN</td>\n",
       "      <td>Sat May 21 22:24:11 +0000 2022</td>\n",
       "      <td>NaN</td>\n",
       "      <td>NaN</td>\n",
       "      <td>NaN</td>\n",
       "      <td>2</td>\n",
       "      <td>1528139620176625664</td>\n",
       "      <td>vancemurphy</td>\n",
       "      <td>1.528060e+18</td>\n",
       "      <td>2.455673e+08</td>\n",
       "      <td>...</td>\n",
       "      <td>4193</td>\n",
       "      <td>4994</td>\n",
       "      <td>3</td>\n",
       "      <td>NaN</td>\n",
       "      <td>MAGA B</td>\n",
       "      <td>MAGAB07910508</td>\n",
       "      <td>36256</td>\n",
       "      <td>NaN</td>\n",
       "      <td>NaN</td>\n",
       "      <td>False</td>\n",
       "    </tr>\n",
       "  </tbody>\n",
       "</table>\n",
       "<p>5 rows × 35 columns</p>\n",
       "</div>"
      ],
      "text/plain": [
       "   coordinates                      created_at hashtags media  \\\n",
       "0          NaN  Sat May 21 21:51:16 +0000 2022      NaN   NaN   \n",
       "1          NaN  Sat May 21 22:25:48 +0000 2022      NaN   NaN   \n",
       "2          NaN  Sat May 21 22:24:39 +0000 2022      NaN   NaN   \n",
       "3          NaN  Sat May 21 22:27:59 +0000 2022      NaN   NaN   \n",
       "4          NaN  Sat May 21 22:24:11 +0000 2022      NaN   NaN   \n",
       "\n",
       "                                                urls  favorite_count  \\\n",
       "0  https://warroom.org/2022/05/21/episode-1874-wh...              28   \n",
       "1                                                NaN               0   \n",
       "2                                                NaN               1   \n",
       "3                                                NaN               0   \n",
       "4                                                NaN               2   \n",
       "\n",
       "                    id in_reply_to_screen_name  in_reply_to_status_id  \\\n",
       "0  1528131335742705665                     NaN                    NaN   \n",
       "1  1528140025623646208                 imispgh           1.528139e+18   \n",
       "2  1528139737957126144                     NaN                    NaN   \n",
       "3  1528140577320996864                 PeteUK7           1.528108e+18   \n",
       "4  1528139620176625664             vancemurphy           1.528060e+18   \n",
       "\n",
       "   in_reply_to_user_id  ... user_followers_count user_friends_count  \\\n",
       "0                  NaN  ...                57368                835   \n",
       "1         1.492808e+07  ...                  787               4852   \n",
       "2                  NaN  ...                  180                899   \n",
       "3         1.235378e+18  ...                 2213               3077   \n",
       "4         2.455673e+08  ...                 4193               4994   \n",
       "\n",
       "  user_listed_count                   user_location         user_name  \\\n",
       "0              1453    Global -- Currently on Earth       Michael Yon   \n",
       "1                 9   Origin🌳US + in 155 countries.  @AILovesTech®️🔑🚘   \n",
       "2                 2                             NaN             Mikey   \n",
       "3                48  Unceded Lək̓ʷəŋən Nations Land    David D. 🟧 🪶 🟧   \n",
       "4                 3                             NaN            MAGA B   \n",
       "\n",
       "   user_screen_name  user_statuses_count user_time_zone  \\\n",
       "0       Michael_Yon                59871            NaN   \n",
       "1   AILoves_Jackie9                21789            NaN   \n",
       "2          MikeyNYI                 6435            NaN   \n",
       "3      answerallman               334792            NaN   \n",
       "4     MAGAB07910508                36256            NaN   \n",
       "\n",
       "                                           user_urls user_verified  \n",
       "0                          http://www.michaelyon.com         False  \n",
       "1                https://twitter.com/@T_W_T_R_Wallet         False  \n",
       "2                                                NaN         False  \n",
       "3  https://twitter.com/answerallman/status/134144...         False  \n",
       "4                                                NaN         False  \n",
       "\n",
       "[5 rows x 35 columns]"
      ]
     },
     "execution_count": 59,
     "metadata": {},
     "output_type": "execute_result"
    }
   ],
   "source": [
    "df1 = pd.read_csv('C:/Users/86180/Desktop/IC-DS/GROUP PROJECT/cleaned_data/part1.csv')\n",
    "df1.head()"
   ]
  },
  {
   "cell_type": "code",
   "execution_count": 3,
   "id": "9822f79a",
   "metadata": {},
   "outputs": [],
   "source": [
    "df = pd.concat([df1, df2,df3,df4,df5,df6], ignore_index=True)\n"
   ]
  },
  {
   "cell_type": "code",
   "execution_count": 7,
   "id": "15055c52",
   "metadata": {},
   "outputs": [],
   "source": [
    "df.to_csv('C:/Users/86180/Desktop/IC-DS/GROUP PROJECT/cleaned_data/combine.csv')"
   ]
  },
  {
   "cell_type": "code",
   "execution_count": 3,
   "id": "b5c6b1da",
   "metadata": {},
   "outputs": [
    {
     "data": {
      "text/plain": [
       "(184138, 35)"
      ]
     },
     "execution_count": 3,
     "metadata": {},
     "output_type": "execute_result"
    }
   ],
   "source": [
    "df.shape"
   ]
  },
  {
   "cell_type": "code",
   "execution_count": 4,
   "id": "b49eaed7",
   "metadata": {},
   "outputs": [
    {
     "name": "stderr",
     "output_type": "stream",
     "text": [
      "C:\\Users\\86180\\AppData\\Local\\Temp\\ipykernel_13320\\1932849947.py:4: SettingWithCopyWarning: \n",
      "A value is trying to be set on a copy of a slice from a DataFrame.\n",
      "Try using .loc[row_indexer,col_indexer] = value instead\n",
      "\n",
      "See the caveats in the documentation: https://pandas.pydata.org/pandas-docs/stable/user_guide/indexing.html#returning-a-view-versus-a-copy\n",
      "  content['created_at']= content['created_at'].apply(lambda dtime: datetime.strftime(datetime.strptime(dtime,'%a %b %d %H:%M:%S +0000 %Y'), '%Y-%m-%d %H:%M:%S'))\n",
      "C:\\Users\\86180\\AppData\\Local\\Temp\\ipykernel_13320\\1932849947.py:5: SettingWithCopyWarning: \n",
      "A value is trying to be set on a copy of a slice from a DataFrame.\n",
      "Try using .loc[row_indexer,col_indexer] = value instead\n",
      "\n",
      "See the caveats in the documentation: https://pandas.pydata.org/pandas-docs/stable/user_guide/indexing.html#returning-a-view-versus-a-copy\n",
      "  content['created_at']= pd.to_datetime(content['created_at'])\n"
     ]
    },
    {
     "data": {
      "text/html": [
       "<div>\n",
       "<style scoped>\n",
       "    .dataframe tbody tr th:only-of-type {\n",
       "        vertical-align: middle;\n",
       "    }\n",
       "\n",
       "    .dataframe tbody tr th {\n",
       "        vertical-align: top;\n",
       "    }\n",
       "\n",
       "    .dataframe thead th {\n",
       "        text-align: right;\n",
       "    }\n",
       "</style>\n",
       "<table border=\"1\" class=\"dataframe\">\n",
       "  <thead>\n",
       "    <tr style=\"text-align: right;\">\n",
       "      <th></th>\n",
       "      <th>created_at</th>\n",
       "      <th>text</th>\n",
       "    </tr>\n",
       "  </thead>\n",
       "  <tbody>\n",
       "    <tr>\n",
       "      <th>0</th>\n",
       "      <td>2022-05-21 21:51:16</td>\n",
       "      <td>Watch the progressive monkeys run out screamin...</td>\n",
       "    </tr>\n",
       "    <tr>\n",
       "      <th>1</th>\n",
       "      <td>2022-05-21 22:25:48</td>\n",
       "      <td>When you have Bill Gates shorting Tesla for ...</td>\n",
       "    </tr>\n",
       "    <tr>\n",
       "      <th>2</th>\n",
       "      <td>2022-05-21 22:24:39</td>\n",
       "      <td>Monkey pox as reported by Reuters \\n\\n“Gay, bi...</td>\n",
       "    </tr>\n",
       "    <tr>\n",
       "      <th>3</th>\n",
       "      <td>2022-05-21 22:27:59</td>\n",
       "      <td>Hey Pete\\nPeople are crazy 'Busy'\\nWe can't ...</td>\n",
       "    </tr>\n",
       "    <tr>\n",
       "      <th>4</th>\n",
       "      <td>2022-05-21 22:24:11</td>\n",
       "      <td>_tx  _FDA Well, you know the new thing is...</td>\n",
       "    </tr>\n",
       "    <tr>\n",
       "      <th>...</th>\n",
       "      <td>...</td>\n",
       "      <td>...</td>\n",
       "    </tr>\n",
       "    <tr>\n",
       "      <th>184133</th>\n",
       "      <td>2022-07-23 00:00:07</td>\n",
       "      <td>Monkeypox: US confirms first two cases in chil...</td>\n",
       "    </tr>\n",
       "    <tr>\n",
       "      <th>184134</th>\n",
       "      <td>2022-07-23 00:00:00</td>\n",
       "      <td>With demand rising for Bavarian Nordic’s small...</td>\n",
       "    </tr>\n",
       "    <tr>\n",
       "      <th>184135</th>\n",
       "      <td>2022-07-23 00:00:18</td>\n",
       "      <td>For our local   response, starting tomorrow   ...</td>\n",
       "    </tr>\n",
       "    <tr>\n",
       "      <th>184136</th>\n",
       "      <td>2022-07-23 00:00:23</td>\n",
       "      <td>Monkeypox Be Not Proud (7-22-22)</td>\n",
       "    </tr>\n",
       "    <tr>\n",
       "      <th>184137</th>\n",
       "      <td>2022-07-23 00:00:07</td>\n",
       "      <td>2 children diagnosed with monkeypox in U.S.</td>\n",
       "    </tr>\n",
       "  </tbody>\n",
       "</table>\n",
       "<p>184138 rows × 2 columns</p>\n",
       "</div>"
      ],
      "text/plain": [
       "                created_at                                               text\n",
       "0      2022-05-21 21:51:16  Watch the progressive monkeys run out screamin...\n",
       "1      2022-05-21 22:25:48    When you have Bill Gates shorting Tesla for ...\n",
       "2      2022-05-21 22:24:39  Monkey pox as reported by Reuters \\n\\n“Gay, bi...\n",
       "3      2022-05-21 22:27:59    Hey Pete\\nPeople are crazy 'Busy'\\nWe can't ...\n",
       "4      2022-05-21 22:24:11       _tx  _FDA Well, you know the new thing is...\n",
       "...                    ...                                                ...\n",
       "184133 2022-07-23 00:00:07  Monkeypox: US confirms first two cases in chil...\n",
       "184134 2022-07-23 00:00:00  With demand rising for Bavarian Nordic’s small...\n",
       "184135 2022-07-23 00:00:18  For our local   response, starting tomorrow   ...\n",
       "184136 2022-07-23 00:00:23                  Monkeypox Be Not Proud (7-22-22) \n",
       "184137 2022-07-23 00:00:07       2 children diagnosed with monkeypox in U.S. \n",
       "\n",
       "[184138 rows x 2 columns]"
      ]
     },
     "execution_count": 4,
     "metadata": {},
     "output_type": "execute_result"
    }
   ],
   "source": [
    "from datetime import datetime\n",
    "\n",
    "content = df[['created_at','text']]\n",
    "content['created_at']= content['created_at'].apply(lambda dtime: datetime.strftime(datetime.strptime(dtime,'%a %b %d %H:%M:%S +0000 %Y'), '%Y-%m-%d %H:%M:%S'))\n",
    "content['created_at']= pd.to_datetime(content['created_at'])\n",
    "content"
   ]
  },
  {
   "cell_type": "code",
   "execution_count": 5,
   "id": "340e8e76",
   "metadata": {},
   "outputs": [],
   "source": [
    "import nltk\n",
    "from vaderSentiment.vaderSentiment import SentimentIntensityAnalyzer\n",
    "\n",
    "def sentiment(df):\n",
    "    sid_obj = SentimentIntensityAnalyzer()\n",
    "    vader =[]\n",
    "    for col in df['text']:\n",
    "        sentiment_dict = sid_obj.polarity_scores(col)\n",
    "        compound = sentiment_dict['compound']\n",
    "        vader.append(compound)\n",
    "    df.insert(df.shape[1], 'sentiment', vader)\n",
    "    return df\n",
    "\n",
    "sort_time = sentiment(content).sort_values(by=\"created_at\")"
   ]
  },
  {
   "cell_type": "code",
   "execution_count": 7,
   "id": "c00e6e31",
   "metadata": {
    "scrolled": true
   },
   "outputs": [
    {
     "data": {
      "text/html": [
       "<div>\n",
       "<style scoped>\n",
       "    .dataframe tbody tr th:only-of-type {\n",
       "        vertical-align: middle;\n",
       "    }\n",
       "\n",
       "    .dataframe tbody tr th {\n",
       "        vertical-align: top;\n",
       "    }\n",
       "\n",
       "    .dataframe thead th {\n",
       "        text-align: right;\n",
       "    }\n",
       "</style>\n",
       "<table border=\"1\" class=\"dataframe\">\n",
       "  <thead>\n",
       "    <tr style=\"text-align: right;\">\n",
       "      <th></th>\n",
       "      <th>created_at</th>\n",
       "      <th>text</th>\n",
       "      <th>sentiment</th>\n",
       "    </tr>\n",
       "  </thead>\n",
       "  <tbody>\n",
       "    <tr>\n",
       "      <th>0</th>\n",
       "      <td>2011-05-13 00:47:54</td>\n",
       "      <td>I HAVE NEVER AND WILL NEVER APOLOGISE FOR MY S...</td>\n",
       "      <td>0.7198</td>\n",
       "    </tr>\n",
       "    <tr>\n",
       "      <th>1</th>\n",
       "      <td>2012-04-27 04:16:52</td>\n",
       "      <td>Monkeypox on Delta 3163, quarantined in Chicag...</td>\n",
       "      <td>-0.6808</td>\n",
       "    </tr>\n",
       "    <tr>\n",
       "      <th>2</th>\n",
       "      <td>2018-06-22 17:24:47</td>\n",
       "      <td>If you are terrified of confined spaces and fa...</td>\n",
       "      <td>0.0000</td>\n",
       "    </tr>\n",
       "    <tr>\n",
       "      <th>3</th>\n",
       "      <td>2019-05-18 16:37:43</td>\n",
       "      <td>We have a lot of photographs in our collection...</td>\n",
       "      <td>-0.1154</td>\n",
       "    </tr>\n",
       "    <tr>\n",
       "      <th>4</th>\n",
       "      <td>2019-05-18 16:37:43</td>\n",
       "      <td>We have a lot of photographs in our collection...</td>\n",
       "      <td>-0.1154</td>\n",
       "    </tr>\n",
       "    <tr>\n",
       "      <th>...</th>\n",
       "      <td>...</td>\n",
       "      <td>...</td>\n",
       "      <td>...</td>\n",
       "    </tr>\n",
       "    <tr>\n",
       "      <th>184133</th>\n",
       "      <td>2022-07-23 23:59:47</td>\n",
       "      <td>There is no mechanism that would encourage t...</td>\n",
       "      <td>-0.1225</td>\n",
       "    </tr>\n",
       "    <tr>\n",
       "      <th>184134</th>\n",
       "      <td>2022-07-23 23:59:48</td>\n",
       "      <td>U.N. global health chief declares monkeypox a ...</td>\n",
       "      <td>-0.3818</td>\n",
       "    </tr>\n",
       "    <tr>\n",
       "      <th>184135</th>\n",
       "      <td>2022-07-23 23:59:50</td>\n",
       "      <td>WHO let the pox out ? WHO..WHO.. WHO..WHO ...</td>\n",
       "      <td>0.0000</td>\n",
       "    </tr>\n",
       "    <tr>\n",
       "      <th>184136</th>\n",
       "      <td>2022-07-23 23:59:50</td>\n",
       "      <td>_ape    but stay away  from me if yall apes h...</td>\n",
       "      <td>0.8462</td>\n",
       "    </tr>\n",
       "    <tr>\n",
       "      <th>184137</th>\n",
       "      <td>2022-07-23 23:59:56</td>\n",
       "      <td>Everyone just be talking about monkeypox and m...</td>\n",
       "      <td>-0.7835</td>\n",
       "    </tr>\n",
       "  </tbody>\n",
       "</table>\n",
       "<p>184138 rows × 3 columns</p>\n",
       "</div>"
      ],
      "text/plain": [
       "                created_at                                               text  \\\n",
       "0      2011-05-13 00:47:54  I HAVE NEVER AND WILL NEVER APOLOGISE FOR MY S...   \n",
       "1      2012-04-27 04:16:52  Monkeypox on Delta 3163, quarantined in Chicag...   \n",
       "2      2018-06-22 17:24:47  If you are terrified of confined spaces and fa...   \n",
       "3      2019-05-18 16:37:43  We have a lot of photographs in our collection...   \n",
       "4      2019-05-18 16:37:43  We have a lot of photographs in our collection...   \n",
       "...                    ...                                                ...   \n",
       "184133 2022-07-23 23:59:47    There is no mechanism that would encourage t...   \n",
       "184134 2022-07-23 23:59:48  U.N. global health chief declares monkeypox a ...   \n",
       "184135 2022-07-23 23:59:50      WHO let the pox out ? WHO..WHO.. WHO..WHO ...   \n",
       "184136 2022-07-23 23:59:50   _ape    but stay away  from me if yall apes h...   \n",
       "184137 2022-07-23 23:59:56  Everyone just be talking about monkeypox and m...   \n",
       "\n",
       "        sentiment  \n",
       "0          0.7198  \n",
       "1         -0.6808  \n",
       "2          0.0000  \n",
       "3         -0.1154  \n",
       "4         -0.1154  \n",
       "...           ...  \n",
       "184133    -0.1225  \n",
       "184134    -0.3818  \n",
       "184135     0.0000  \n",
       "184136     0.8462  \n",
       "184137    -0.7835  \n",
       "\n",
       "[184138 rows x 3 columns]"
      ]
     },
     "execution_count": 7,
     "metadata": {},
     "output_type": "execute_result"
    }
   ],
   "source": [
    "#sort_time = content.sort_values(by=\"created_at\")\n",
    "vader = sort_time.reset_index(drop=True)\n",
    "vader"
   ]
  },
  {
   "cell_type": "code",
   "execution_count": 8,
   "id": "1e3e779e",
   "metadata": {},
   "outputs": [],
   "source": [
    "vader.to_csv('C:/Users/86180/Desktop/IC-DS/GROUP PROJECT/vader.csv')"
   ]
  },
  {
   "cell_type": "markdown",
   "id": "542cea21",
   "metadata": {},
   "source": [
    "## textblob"
   ]
  },
  {
   "cell_type": "code",
   "execution_count": 9,
   "id": "0a285053",
   "metadata": {},
   "outputs": [],
   "source": [
    "from textblob import TextBlob\n",
    "import pandas as pd\n",
    "import numpy as np\n",
    "import matplotlib.pyplot as plt\n",
    "import emoji"
   ]
  },
  {
   "cell_type": "code",
   "execution_count": 10,
   "id": "6db68b0c",
   "metadata": {},
   "outputs": [
    {
     "name": "stderr",
     "output_type": "stream",
     "text": [
      "C:\\Users\\86180\\AppData\\Local\\Temp\\ipykernel_13320\\640970743.py:2: SettingWithCopyWarning: \n",
      "A value is trying to be set on a copy of a slice from a DataFrame.\n",
      "Try using .loc[row_indexer,col_indexer] = value instead\n",
      "\n",
      "See the caveats in the documentation: https://pandas.pydata.org/pandas-docs/stable/user_guide/indexing.html#returning-a-view-versus-a-copy\n",
      "  textblob['text'] = textblob['text'].astype(str).apply(lambda x: emoji.demojize(x))\n"
     ]
    }
   ],
   "source": [
    "textblob = df[['created_at','text']]\n",
    "textblob['text'] = textblob['text'].astype(str).apply(lambda x: emoji.demojize(x))"
   ]
  },
  {
   "cell_type": "code",
   "execution_count": 11,
   "id": "f6227526",
   "metadata": {},
   "outputs": [
    {
     "data": {
      "text/html": [
       "<div>\n",
       "<style scoped>\n",
       "    .dataframe tbody tr th:only-of-type {\n",
       "        vertical-align: middle;\n",
       "    }\n",
       "\n",
       "    .dataframe tbody tr th {\n",
       "        vertical-align: top;\n",
       "    }\n",
       "\n",
       "    .dataframe thead th {\n",
       "        text-align: right;\n",
       "    }\n",
       "</style>\n",
       "<table border=\"1\" class=\"dataframe\">\n",
       "  <thead>\n",
       "    <tr style=\"text-align: right;\">\n",
       "      <th></th>\n",
       "      <th>created_at</th>\n",
       "      <th>text</th>\n",
       "      <th>sentiment</th>\n",
       "      <th>Polarity</th>\n",
       "      <th>Subjectivity</th>\n",
       "    </tr>\n",
       "  </thead>\n",
       "  <tbody>\n",
       "    <tr>\n",
       "      <th>0</th>\n",
       "      <td>Sat May 21 21:51:16 +0000 2022</td>\n",
       "      <td>Watch the progressive monkeys run out screamin...</td>\n",
       "      <td>(-0.1625, 0.3875)</td>\n",
       "      <td>-0.16</td>\n",
       "      <td>0.39</td>\n",
       "    </tr>\n",
       "    <tr>\n",
       "      <th>1</th>\n",
       "      <td>Sat May 21 22:25:48 +0000 2022</td>\n",
       "      <td>When you have Bill Gates shorting Tesla for ...</td>\n",
       "      <td>(-0.04583333333333334, 0.058333333333333334)</td>\n",
       "      <td>-0.05</td>\n",
       "      <td>0.06</td>\n",
       "    </tr>\n",
       "    <tr>\n",
       "      <th>2</th>\n",
       "      <td>Sat May 21 22:24:39 +0000 2022</td>\n",
       "      <td>Monkey pox as reported by Reuters \\n\\n“Gay, bi...</td>\n",
       "      <td>(0.08166666666666667, 0.30833333333333335)</td>\n",
       "      <td>0.08</td>\n",
       "      <td>0.31</td>\n",
       "    </tr>\n",
       "    <tr>\n",
       "      <th>3</th>\n",
       "      <td>Sat May 21 22:27:59 +0000 2022</td>\n",
       "      <td>Hey Pete\\nPeople are crazy 'Busy'\\nWe can't ...</td>\n",
       "      <td>(-0.1375, 0.55)</td>\n",
       "      <td>-0.14</td>\n",
       "      <td>0.55</td>\n",
       "    </tr>\n",
       "    <tr>\n",
       "      <th>4</th>\n",
       "      <td>Sat May 21 22:24:11 +0000 2022</td>\n",
       "      <td>_tx  _FDA Well, you know the new thing is...</td>\n",
       "      <td>(0.12402597402597403, 0.33008658008658004)</td>\n",
       "      <td>0.12</td>\n",
       "      <td>0.33</td>\n",
       "    </tr>\n",
       "  </tbody>\n",
       "</table>\n",
       "</div>"
      ],
      "text/plain": [
       "                       created_at  \\\n",
       "0  Sat May 21 21:51:16 +0000 2022   \n",
       "1  Sat May 21 22:25:48 +0000 2022   \n",
       "2  Sat May 21 22:24:39 +0000 2022   \n",
       "3  Sat May 21 22:27:59 +0000 2022   \n",
       "4  Sat May 21 22:24:11 +0000 2022   \n",
       "\n",
       "                                                text  \\\n",
       "0  Watch the progressive monkeys run out screamin...   \n",
       "1    When you have Bill Gates shorting Tesla for ...   \n",
       "2  Monkey pox as reported by Reuters \\n\\n“Gay, bi...   \n",
       "3    Hey Pete\\nPeople are crazy 'Busy'\\nWe can't ...   \n",
       "4       _tx  _FDA Well, you know the new thing is...   \n",
       "\n",
       "                                      sentiment  Polarity  Subjectivity  \n",
       "0                             (-0.1625, 0.3875)     -0.16          0.39  \n",
       "1  (-0.04583333333333334, 0.058333333333333334)     -0.05          0.06  \n",
       "2    (0.08166666666666667, 0.30833333333333335)      0.08          0.31  \n",
       "3                               (-0.1375, 0.55)     -0.14          0.55  \n",
       "4    (0.12402597402597403, 0.33008658008658004)      0.12          0.33  "
      ]
     },
     "execution_count": 11,
     "metadata": {},
     "output_type": "execute_result"
    }
   ],
   "source": [
    "pd.options.mode.chained_assignment = None\n",
    "\n",
    "textblob['sentiment'] = textblob['text'].apply(lambda review: TextBlob(review).sentiment) \n",
    "textblob['Polarity'] = textblob['sentiment'].apply(lambda x: round(x[0],2)) \n",
    "textblob['Subjectivity'] = textblob['sentiment'].apply(lambda x: round(x[1],2)) \n",
    "textblob.head()"
   ]
  },
  {
   "cell_type": "code",
   "execution_count": 13,
   "id": "e4bb8a0c",
   "metadata": {
    "scrolled": true
   },
   "outputs": [
    {
     "data": {
      "text/html": [
       "<div>\n",
       "<style scoped>\n",
       "    .dataframe tbody tr th:only-of-type {\n",
       "        vertical-align: middle;\n",
       "    }\n",
       "\n",
       "    .dataframe tbody tr th {\n",
       "        vertical-align: top;\n",
       "    }\n",
       "\n",
       "    .dataframe thead th {\n",
       "        text-align: right;\n",
       "    }\n",
       "</style>\n",
       "<table border=\"1\" class=\"dataframe\">\n",
       "  <thead>\n",
       "    <tr style=\"text-align: right;\">\n",
       "      <th></th>\n",
       "      <th>created_at</th>\n",
       "      <th>text</th>\n",
       "      <th>sentiment</th>\n",
       "      <th>Polarity</th>\n",
       "      <th>Subjectivity</th>\n",
       "    </tr>\n",
       "  </thead>\n",
       "  <tbody>\n",
       "    <tr>\n",
       "      <th>0</th>\n",
       "      <td>2011-05-13 00:47:54</td>\n",
       "      <td>I HAVE NEVER AND WILL NEVER APOLOGISE FOR MY S...</td>\n",
       "      <td>(0.48333333333333334, 0.5416666666666667)</td>\n",
       "      <td>0.48</td>\n",
       "      <td>0.54</td>\n",
       "    </tr>\n",
       "    <tr>\n",
       "      <th>1</th>\n",
       "      <td>2012-04-27 04:16:52</td>\n",
       "      <td>Monkeypox on Delta 3163, quarantined in Chicag...</td>\n",
       "      <td>(0.0, 0.3333333333333333)</td>\n",
       "      <td>0.00</td>\n",
       "      <td>0.33</td>\n",
       "    </tr>\n",
       "    <tr>\n",
       "      <th>2</th>\n",
       "      <td>2018-06-22 17:24:47</td>\n",
       "      <td>If you are terrified of confined spaces and fa...</td>\n",
       "      <td>(0.7, 0.6000000000000001)</td>\n",
       "      <td>0.70</td>\n",
       "      <td>0.60</td>\n",
       "    </tr>\n",
       "    <tr>\n",
       "      <th>3</th>\n",
       "      <td>2019-05-18 16:37:43</td>\n",
       "      <td>We have a lot of photographs in our collection...</td>\n",
       "      <td>(0.22817460317460314, 0.5059523809523809)</td>\n",
       "      <td>0.23</td>\n",
       "      <td>0.51</td>\n",
       "    </tr>\n",
       "    <tr>\n",
       "      <th>4</th>\n",
       "      <td>2019-05-18 16:37:43</td>\n",
       "      <td>We have a lot of photographs in our collection...</td>\n",
       "      <td>(0.22817460317460314, 0.5059523809523809)</td>\n",
       "      <td>0.23</td>\n",
       "      <td>0.51</td>\n",
       "    </tr>\n",
       "    <tr>\n",
       "      <th>...</th>\n",
       "      <td>...</td>\n",
       "      <td>...</td>\n",
       "      <td>...</td>\n",
       "      <td>...</td>\n",
       "      <td>...</td>\n",
       "    </tr>\n",
       "    <tr>\n",
       "      <th>184133</th>\n",
       "      <td>2022-07-23 23:59:47</td>\n",
       "      <td>There is no mechanism that would encourage t...</td>\n",
       "      <td>(0.1375, 0.33333333333333337)</td>\n",
       "      <td>0.14</td>\n",
       "      <td>0.33</td>\n",
       "    </tr>\n",
       "    <tr>\n",
       "      <th>184134</th>\n",
       "      <td>2022-07-23 23:59:48</td>\n",
       "      <td>U.N. global health chief declares monkeypox a ...</td>\n",
       "      <td>(0.0, 0.0)</td>\n",
       "      <td>0.00</td>\n",
       "      <td>0.00</td>\n",
       "    </tr>\n",
       "    <tr>\n",
       "      <th>184135</th>\n",
       "      <td>2022-07-23 23:59:50</td>\n",
       "      <td>WHO let the pox out ? WHO..WHO.. WHO..WHO ...</td>\n",
       "      <td>(0.0, 0.0)</td>\n",
       "      <td>0.00</td>\n",
       "      <td>0.00</td>\n",
       "    </tr>\n",
       "    <tr>\n",
       "      <th>184136</th>\n",
       "      <td>2022-07-23 23:59:50</td>\n",
       "      <td>_ape    but stay away  from me if yall apes h...</td>\n",
       "      <td>(0.0, 0.0)</td>\n",
       "      <td>0.00</td>\n",
       "      <td>0.00</td>\n",
       "    </tr>\n",
       "    <tr>\n",
       "      <th>184137</th>\n",
       "      <td>2022-07-23 23:59:56</td>\n",
       "      <td>Everyone just be talking about monkeypox and m...</td>\n",
       "      <td>(0.78125, 0.5)</td>\n",
       "      <td>0.78</td>\n",
       "      <td>0.50</td>\n",
       "    </tr>\n",
       "  </tbody>\n",
       "</table>\n",
       "<p>184138 rows × 5 columns</p>\n",
       "</div>"
      ],
      "text/plain": [
       "                created_at                                               text  \\\n",
       "0      2011-05-13 00:47:54  I HAVE NEVER AND WILL NEVER APOLOGISE FOR MY S...   \n",
       "1      2012-04-27 04:16:52  Monkeypox on Delta 3163, quarantined in Chicag...   \n",
       "2      2018-06-22 17:24:47  If you are terrified of confined spaces and fa...   \n",
       "3      2019-05-18 16:37:43  We have a lot of photographs in our collection...   \n",
       "4      2019-05-18 16:37:43  We have a lot of photographs in our collection...   \n",
       "...                    ...                                                ...   \n",
       "184133 2022-07-23 23:59:47    There is no mechanism that would encourage t...   \n",
       "184134 2022-07-23 23:59:48  U.N. global health chief declares monkeypox a ...   \n",
       "184135 2022-07-23 23:59:50      WHO let the pox out ? WHO..WHO.. WHO..WHO ...   \n",
       "184136 2022-07-23 23:59:50   _ape    but stay away  from me if yall apes h...   \n",
       "184137 2022-07-23 23:59:56  Everyone just be talking about monkeypox and m...   \n",
       "\n",
       "                                        sentiment  Polarity  Subjectivity  \n",
       "0       (0.48333333333333334, 0.5416666666666667)      0.48          0.54  \n",
       "1                       (0.0, 0.3333333333333333)      0.00          0.33  \n",
       "2                       (0.7, 0.6000000000000001)      0.70          0.60  \n",
       "3       (0.22817460317460314, 0.5059523809523809)      0.23          0.51  \n",
       "4       (0.22817460317460314, 0.5059523809523809)      0.23          0.51  \n",
       "...                                           ...       ...           ...  \n",
       "184133              (0.1375, 0.33333333333333337)      0.14          0.33  \n",
       "184134                                 (0.0, 0.0)      0.00          0.00  \n",
       "184135                                 (0.0, 0.0)      0.00          0.00  \n",
       "184136                                 (0.0, 0.0)      0.00          0.00  \n",
       "184137                             (0.78125, 0.5)      0.78          0.50  \n",
       "\n",
       "[184138 rows x 5 columns]"
      ]
     },
     "execution_count": 13,
     "metadata": {},
     "output_type": "execute_result"
    }
   ],
   "source": [
    "textblob['created_at']= textblob['created_at'].apply(lambda dtime: datetime.strftime(datetime.strptime(dtime,'%a %b %d %H:%M:%S +0000 %Y'), '%Y-%m-%d %H:%M:%S'))\n",
    "textblob['created_at']= pd.to_datetime(textblob['created_at'])\n",
    "TB = textblob.sort_values(by=\"created_at\").reset_index(drop=True)\n",
    "TB"
   ]
  },
  {
   "cell_type": "code",
   "execution_count": 14,
   "id": "f30e09ad",
   "metadata": {},
   "outputs": [],
   "source": [
    "TB.to_csv('C:/Users/86180/Desktop/IC-DS/GROUP PROJECT/textblob.csv')"
   ]
  },
  {
   "cell_type": "code",
   "execution_count": 20,
   "id": "bb4c7cb5",
   "metadata": {},
   "outputs": [],
   "source": [
    "TB.drop(columns=['sentiment'],inplace =True)"
   ]
  },
  {
   "cell_type": "code",
   "execution_count": 22,
   "id": "1a16835e",
   "metadata": {},
   "outputs": [
    {
     "data": {
      "text/html": [
       "<div>\n",
       "<style scoped>\n",
       "    .dataframe tbody tr th:only-of-type {\n",
       "        vertical-align: middle;\n",
       "    }\n",
       "\n",
       "    .dataframe tbody tr th {\n",
       "        vertical-align: top;\n",
       "    }\n",
       "\n",
       "    .dataframe thead th {\n",
       "        text-align: right;\n",
       "    }\n",
       "</style>\n",
       "<table border=\"1\" class=\"dataframe\">\n",
       "  <thead>\n",
       "    <tr style=\"text-align: right;\">\n",
       "      <th></th>\n",
       "      <th>created_at</th>\n",
       "      <th>text</th>\n",
       "      <th>Polarity</th>\n",
       "      <th>Subjectivity</th>\n",
       "      <th>vader</th>\n",
       "    </tr>\n",
       "  </thead>\n",
       "  <tbody>\n",
       "    <tr>\n",
       "      <th>0</th>\n",
       "      <td>2011-05-13 00:47:54</td>\n",
       "      <td>I HAVE NEVER AND WILL NEVER APOLOGISE FOR MY S...</td>\n",
       "      <td>0.48</td>\n",
       "      <td>0.54</td>\n",
       "      <td>0.7198</td>\n",
       "    </tr>\n",
       "    <tr>\n",
       "      <th>1</th>\n",
       "      <td>2012-04-27 04:16:52</td>\n",
       "      <td>Monkeypox on Delta 3163, quarantined in Chicag...</td>\n",
       "      <td>0.00</td>\n",
       "      <td>0.33</td>\n",
       "      <td>-0.6808</td>\n",
       "    </tr>\n",
       "    <tr>\n",
       "      <th>2</th>\n",
       "      <td>2018-06-22 17:24:47</td>\n",
       "      <td>If you are terrified of confined spaces and fa...</td>\n",
       "      <td>0.70</td>\n",
       "      <td>0.60</td>\n",
       "      <td>0.0000</td>\n",
       "    </tr>\n",
       "    <tr>\n",
       "      <th>3</th>\n",
       "      <td>2019-05-18 16:37:43</td>\n",
       "      <td>We have a lot of photographs in our collection...</td>\n",
       "      <td>0.23</td>\n",
       "      <td>0.51</td>\n",
       "      <td>-0.1154</td>\n",
       "    </tr>\n",
       "    <tr>\n",
       "      <th>4</th>\n",
       "      <td>2019-05-18 16:37:43</td>\n",
       "      <td>We have a lot of photographs in our collection...</td>\n",
       "      <td>0.23</td>\n",
       "      <td>0.51</td>\n",
       "      <td>-0.1154</td>\n",
       "    </tr>\n",
       "    <tr>\n",
       "      <th>...</th>\n",
       "      <td>...</td>\n",
       "      <td>...</td>\n",
       "      <td>...</td>\n",
       "      <td>...</td>\n",
       "      <td>...</td>\n",
       "    </tr>\n",
       "    <tr>\n",
       "      <th>184133</th>\n",
       "      <td>2022-07-23 23:59:47</td>\n",
       "      <td>There is no mechanism that would encourage t...</td>\n",
       "      <td>0.14</td>\n",
       "      <td>0.33</td>\n",
       "      <td>-0.1225</td>\n",
       "    </tr>\n",
       "    <tr>\n",
       "      <th>184134</th>\n",
       "      <td>2022-07-23 23:59:48</td>\n",
       "      <td>U.N. global health chief declares monkeypox a ...</td>\n",
       "      <td>0.00</td>\n",
       "      <td>0.00</td>\n",
       "      <td>-0.3818</td>\n",
       "    </tr>\n",
       "    <tr>\n",
       "      <th>184135</th>\n",
       "      <td>2022-07-23 23:59:50</td>\n",
       "      <td>WHO let the pox out ? WHO..WHO.. WHO..WHO ...</td>\n",
       "      <td>0.00</td>\n",
       "      <td>0.00</td>\n",
       "      <td>0.0000</td>\n",
       "    </tr>\n",
       "    <tr>\n",
       "      <th>184136</th>\n",
       "      <td>2022-07-23 23:59:50</td>\n",
       "      <td>_ape    but stay away  from me if yall apes h...</td>\n",
       "      <td>0.00</td>\n",
       "      <td>0.00</td>\n",
       "      <td>0.8462</td>\n",
       "    </tr>\n",
       "    <tr>\n",
       "      <th>184137</th>\n",
       "      <td>2022-07-23 23:59:56</td>\n",
       "      <td>Everyone just be talking about monkeypox and m...</td>\n",
       "      <td>0.78</td>\n",
       "      <td>0.50</td>\n",
       "      <td>-0.7835</td>\n",
       "    </tr>\n",
       "  </tbody>\n",
       "</table>\n",
       "<p>184138 rows × 5 columns</p>\n",
       "</div>"
      ],
      "text/plain": [
       "                created_at                                               text  \\\n",
       "0      2011-05-13 00:47:54  I HAVE NEVER AND WILL NEVER APOLOGISE FOR MY S...   \n",
       "1      2012-04-27 04:16:52  Monkeypox on Delta 3163, quarantined in Chicag...   \n",
       "2      2018-06-22 17:24:47  If you are terrified of confined spaces and fa...   \n",
       "3      2019-05-18 16:37:43  We have a lot of photographs in our collection...   \n",
       "4      2019-05-18 16:37:43  We have a lot of photographs in our collection...   \n",
       "...                    ...                                                ...   \n",
       "184133 2022-07-23 23:59:47    There is no mechanism that would encourage t...   \n",
       "184134 2022-07-23 23:59:48  U.N. global health chief declares monkeypox a ...   \n",
       "184135 2022-07-23 23:59:50      WHO let the pox out ? WHO..WHO.. WHO..WHO ...   \n",
       "184136 2022-07-23 23:59:50   _ape    but stay away  from me if yall apes h...   \n",
       "184137 2022-07-23 23:59:56  Everyone just be talking about monkeypox and m...   \n",
       "\n",
       "        Polarity  Subjectivity   vader  \n",
       "0           0.48          0.54  0.7198  \n",
       "1           0.00          0.33 -0.6808  \n",
       "2           0.70          0.60  0.0000  \n",
       "3           0.23          0.51 -0.1154  \n",
       "4           0.23          0.51 -0.1154  \n",
       "...          ...           ...     ...  \n",
       "184133      0.14          0.33 -0.1225  \n",
       "184134      0.00          0.00 -0.3818  \n",
       "184135      0.00          0.00  0.0000  \n",
       "184136      0.00          0.00  0.8462  \n",
       "184137      0.78          0.50 -0.7835  \n",
       "\n",
       "[184138 rows x 5 columns]"
      ]
     },
     "execution_count": 22,
     "metadata": {},
     "output_type": "execute_result"
    }
   ],
   "source": [
    "TB['vader'] = vader['sentiment']\n",
    "TB"
   ]
  },
  {
   "cell_type": "code",
   "execution_count": 23,
   "id": "e30d2995",
   "metadata": {},
   "outputs": [],
   "source": [
    "TB.to_csv('C:/Users/86180/Desktop/IC-DS/GROUP PROJECT/vader_textblob.csv')"
   ]
  },
  {
   "cell_type": "code",
   "execution_count": 226,
   "id": "624b876a",
   "metadata": {
    "scrolled": true
   },
   "outputs": [
    {
     "data": {
      "text/plain": [
       "(184138, 2)"
      ]
     },
     "execution_count": 226,
     "metadata": {},
     "output_type": "execute_result"
    }
   ],
   "source": [
    "cor_time = vader[['created_at','sentiment']]\n",
    "cor_time.shape"
   ]
  },
  {
   "cell_type": "code",
   "execution_count": 237,
   "id": "54b09e8e",
   "metadata": {},
   "outputs": [
    {
     "data": {
      "text/plain": [
       "False    184021\n",
       "True        114\n",
       "Name: created_at, dtype: int64"
      ]
     },
     "execution_count": 237,
     "metadata": {},
     "output_type": "execute_result"
    }
   ],
   "source": [
    "(cor_time['created_at']<='2022-05-7 23:59:59').value_counts()"
   ]
  },
  {
   "cell_type": "markdown",
   "id": "58de6d74",
   "metadata": {},
   "source": [
    "## 手动分阶段作图"
   ]
  },
  {
   "cell_type": "markdown",
   "id": "78a37f28",
   "metadata": {},
   "source": [
    "5.7英国英格兰发现一例猴痘感染者。\n",
    "\n",
    "5.18美国发现一例猴痘感染者\n",
    "\n",
    "5.20美国有发现两例\n",
    "\n",
    "5.21日，德国首都柏林出现2例猴痘确诊病例。截至20日，法国、瑞典和荷兰各自确认了最近的一例病例，加拿大报告了2例，比利时和意大利报告了3例。英国的病例总数高达20例，葡萄牙为 23 例，西班牙为 30 例。澳大利亚和以色列21日各报告了 1 例病例，均发生在自西欧地区返回本国的旅行者身上。\n",
    "\n"
   ]
  },
  {
   "cell_type": "code",
   "execution_count": 272,
   "id": "08348a9d",
   "metadata": {},
   "outputs": [],
   "source": [
    "t1 = cor_time[:114] # 2011- 2022/05/07\n",
    "t2 = cor_time[114:126]# 2022/05/07--05/18\n",
    "t3 = cor_time[126:1715]# 2022/05/18-2022/05/20\n",
    "t4 = cor_time[1715:9378]# 2022/05/20\n",
    "\n",
    "t5 = cor_time[9378:17177]# 2022/5/25-2022/05/30\n",
    "t6 = cor_time[17177:23138]# 2022/05/30-2022/06/3\n",
    "t7 = cor_time[23138:28571]# 2022/0603-2022/06/6\n",
    "t8 = cor_time[28571:36126]# 2022/0606-2022/06/10\n",
    "\n",
    "t9 = cor_time[36126:44977]# 2022/06/10-2022/06/15\n",
    "t10 = cor_time[44977:52670]# 2022/06/15-2022/06/20\n",
    "t11 = cor_time[52670:63154]# 2022/06/20-2022/06/25\n",
    "t12 = cor_time[63154:75828]# 2022/06/25-2022/06/30\n",
    "\n",
    "t13 = cor_time[75828:82559]# 2022/06/30-2022/07/10\n",
    "t14 = cor_time[82559:113358]# 2022/07/10-2022/07/15\n",
    "t15 = cor_time[113358:128077]# 2022/07/15-2022/07/20\n",
    "t16 = cor_time[128077:]# 2022/07/20-2022/07/23"
   ]
  },
  {
   "cell_type": "code",
   "execution_count": 290,
   "id": "4209a859",
   "metadata": {},
   "outputs": [
    {
     "data": {
      "text/plain": [
       "[-0.006765789473684209,\n",
       " 0.1762166666666667,\n",
       " -0.030911516677155488,\n",
       " -0.033315137674539995,\n",
       " -0.012733093986408602,\n",
       " 0.002412598557289057,\n",
       " -0.0015561200073623991,\n",
       " 0.010700529450694874,\n",
       " -0.009202225737204868,\n",
       " -0.02842368386845175,\n",
       " -0.0009986074017550907,\n",
       " -0.006678041660091506,\n",
       " -0.0007409300252562653,\n",
       " -0.01866186239813001,\n",
       " -0.0325144982675454,\n",
       " -0.10216686824361965]"
      ]
     },
     "execution_count": 290,
     "metadata": {},
     "output_type": "execute_result"
    }
   ],
   "source": [
    "time_list = [t1,t2,t3,t4,t5,t6,t7,t8,t9,t10,t11,t12,t13,t14,t15,t16]\n",
    "label_list = ['2011- 2022/05/07','2022/05/07-2022/05/18','2022/05/18-2022/05/20','2022/05/20-2022/05/25',\n",
    "              '2022/05/25-2022/05/30','2022/05/30-2022/06/03','2022/06/03-2022/06/06','2022/06/06-2022/06/09',\n",
    "             '2022/06/10-2022/06/15','2022/06/15-2022/06/20','2022/06/20-2022/06/25','2022/06/25-2022/06/30',\n",
    "             '2022/06/30-2022/07/10','2022/07/10-2022/07/15','2022/07/15-2022/07/20','2022/07/20-2022/07/23']\n",
    "sent_mean = []\n",
    "for i in range(16):\n",
    "    sent_mean.append(time_list[i]['sentiment'].mean())\n",
    "sent_mean"
   ]
  },
  {
   "cell_type": "code",
   "execution_count": 292,
   "id": "2c72e1a0",
   "metadata": {
    "scrolled": true
   },
   "outputs": [
    {
     "data": {
      "text/plain": [
       "[<matplotlib.lines.Line2D at 0x2f6214894f0>]"
      ]
     },
     "execution_count": 292,
     "metadata": {},
     "output_type": "execute_result"
    },
    {
     "data": {
      "image/png": "[encoded data removed]",
      "text/plain": [
       "<Figure size 432x288 with 1 Axes>"
      ]
     },
     "metadata": {
      "needs_background": "light"
     },
     "output_type": "display_data"
    }
   ],
   "source": [
    "plt.plot(sent_mean)\n",
    "#plt.xlabel(label_list)\n",
    "#plt.ylabel('sentiment')"
   ]
  },
  {
   "cell_type": "code",
   "execution_count": 297,
   "id": "1a1faabc",
   "metadata": {},
   "outputs": [
    {
     "data": {
      "text/plain": [
       "[<matplotlib.lines.Line2D at 0x2f62aaf1a30>]"
      ]
     },
     "execution_count": 297,
     "metadata": {},
     "output_type": "execute_result"
    },
    {
     "data": {
      "image/png": "[encoded data removed]",
      "text/plain": [
       "<Figure size 432x288 with 1 Axes>"
      ]
     },
     "metadata": {
      "needs_background": "light"
     },
     "output_type": "display_data"
    }
   ],
   "source": [
    "# 研究从六月起的\n",
    "df_time = sent_mean[5:]\n",
    "df_list = label_list[5:]\n",
    "plt.plot(df_time)"
   ]
  },
  {
   "cell_type": "code",
   "execution_count": 312,
   "id": "3e996d83",
   "metadata": {},
   "outputs": [
    {
     "data": {
      "image/png": "[encoded data removed]",
      "text/plain": [
       "<Figure size 960x400 with 1 Axes>"
      ]
     },
     "metadata": {
      "needs_background": "light"
     },
     "output_type": "display_data"
    }
   ],
   "source": [
    "# 绘制时序图\n",
    "plt.figure(figsize=(12, 5), dpi=80)\n",
    "plt.plot(df_list, df_time)\n",
    "plt.title('sentiment trend (From 2022/06)')\n",
    "plt.xticks(rotation=60)\n",
    "plt.xlabel(\"time\")\n",
    "plt.ylabel(\"sentiment\")\n",
    "plt.grid()\n",
    "plt.savefig('C:/Users/86180/Desktop/IC-DS/GROUP PROJECT/image/sentiment trend')\n",
    "plt.show()"
   ]
  },
  {
   "cell_type": "markdown",
   "id": "e5e51b2b",
   "metadata": {},
   "source": [
    "## spearman相关系数"
   ]
  },
  {
   "cell_type": "code",
   "execution_count": 307,
   "id": "7e3247b6",
   "metadata": {
    "scrolled": true
   },
   "outputs": [
    {
     "data": {
      "text/html": [
       "<div>\n",
       "<style scoped>\n",
       "    .dataframe tbody tr th:only-of-type {\n",
       "        vertical-align: middle;\n",
       "    }\n",
       "\n",
       "    .dataframe tbody tr th {\n",
       "        vertical-align: top;\n",
       "    }\n",
       "\n",
       "    .dataframe thead th {\n",
       "        text-align: right;\n",
       "    }\n",
       "</style>\n",
       "<table border=\"1\" class=\"dataframe\">\n",
       "  <thead>\n",
       "    <tr style=\"text-align: right;\">\n",
       "      <th></th>\n",
       "      <th>stage</th>\n",
       "      <th>sentiment</th>\n",
       "    </tr>\n",
       "  </thead>\n",
       "  <tbody>\n",
       "    <tr>\n",
       "      <th>stage</th>\n",
       "      <td>1.000000</td>\n",
       "      <td>-0.681818</td>\n",
       "    </tr>\n",
       "    <tr>\n",
       "      <th>sentiment</th>\n",
       "      <td>-0.681818</td>\n",
       "      <td>1.000000</td>\n",
       "    </tr>\n",
       "  </tbody>\n",
       "</table>\n",
       "</div>"
      ],
      "text/plain": [
       "              stage  sentiment\n",
       "stage      1.000000  -0.681818\n",
       "sentiment -0.681818   1.000000"
      ]
     },
     "execution_count": 307,
     "metadata": {},
     "output_type": "execute_result"
    }
   ],
   "source": [
    "df_ = pd.DataFrame(df_time).reset_index(inplace=False)\n",
    "df_.columns = ['stage','sentiment']\n",
    "cor_ =df_.corr('spearman')\n",
    "cor_"
   ]
  },
  {
   "cell_type": "markdown",
   "id": "baf43d7e",
   "metadata": {},
   "source": [
    "### 显著负相关"
   ]
  },
  {
   "cell_type": "code",
   "execution_count": 352,
   "id": "808330b9",
   "metadata": {},
   "outputs": [
    {
     "data": {
      "text/plain": [
       "114"
      ]
     },
     "execution_count": 352,
     "metadata": {},
     "output_type": "execute_result"
    }
   ],
   "source": [
    "(cor_time['created_at']<=('2022-05-06 23:59:59')).value_counts()[1]"
   ]
  },
  {
   "cell_type": "markdown",
   "id": "13e8ea67",
   "metadata": {},
   "source": [
    "## 每日平均数据"
   ]
  },
  {
   "cell_type": "code",
   "execution_count": 34,
   "id": "ee25568d",
   "metadata": {},
   "outputs": [
    {
     "data": {
      "text/plain": [
       "24"
      ]
     },
     "execution_count": 34,
     "metadata": {},
     "output_type": "execute_result"
    }
   ],
   "source": [
    "# 5月\n",
    "pre = 114\n",
    "May_list = []\n",
    "for i in range(7,31):\n",
    "    now = (cor_time['created_at']<=('2022-05-'+str(i)+' 23:59:59')).value_counts()[1]\n",
    "    May_list.append( cor_time[pre:now].mean())\n",
    "    pre = now\n",
    "May = pd.DataFrame(May_list).dropna()\n",
    "len(May_list)"
   ]
  },
  {
   "cell_type": "code",
   "execution_count": 337,
   "id": "1f2b6a72",
   "metadata": {},
   "outputs": [
    {
     "data": {
      "text/plain": [
       "19238"
      ]
     },
     "execution_count": 337,
     "metadata": {},
     "output_type": "execute_result"
    }
   ],
   "source": [
    "## 如果从六月起，每天算一次平均\n",
    "(cor_time['created_at']<=('2022-05-31 23:59:59')).value_counts()[1]"
   ]
  },
  {
   "cell_type": "code",
   "execution_count": 362,
   "id": "3a6377f7",
   "metadata": {},
   "outputs": [
    {
     "data": {
      "text/plain": [
       "30"
      ]
     },
     "execution_count": 362,
     "metadata": {},
     "output_type": "execute_result"
    }
   ],
   "source": [
    "# 6月\n",
    "pre = 19238\n",
    "June_list = []\n",
    "for i in range(1,31):\n",
    "    now = (cor_time['created_at']<=('2022-06-'+str(i)+' 23:59:59')).value_counts()[1]\n",
    "    June_list.append( cor_time[pre:now].mean())\n",
    "    pre = now\n",
    "\n",
    "June = pd.DataFrame(June_list).dropna()\n",
    "len(June_list)"
   ]
  },
  {
   "cell_type": "code",
   "execution_count": 345,
   "id": "936ede86",
   "metadata": {},
   "outputs": [
    {
     "data": {
      "text/plain": [
       "75828"
      ]
     },
     "execution_count": 345,
     "metadata": {},
     "output_type": "execute_result"
    }
   ],
   "source": [
    "(cor_time['created_at']<=('2022-06-30 23:59:59')).value_counts()[1]"
   ]
  },
  {
   "cell_type": "code",
   "execution_count": 363,
   "id": "0db02b74",
   "metadata": {},
   "outputs": [
    {
     "data": {
      "text/plain": [
       "31"
      ]
     },
     "execution_count": 363,
     "metadata": {},
     "output_type": "execute_result"
    }
   ],
   "source": [
    "# 7月\n",
    "pre = 75828\n",
    "July_list = []\n",
    "for i in range(1,32):\n",
    "    now = (cor_time['created_at']<=('2022-07-'+str(i)+' 23:59:59')).value_counts()[1]\n",
    "    July_list.append( cor_time[pre:now].mean())\n",
    "    pre = now\n",
    "July = pd.DataFrame(July_list).dropna()\n",
    "len(July_list)\n",
    "#July_list"
   ]
  },
  {
   "cell_type": "code",
   "execution_count": 366,
   "id": "72ef00ec",
   "metadata": {},
   "outputs": [],
   "source": [
    "day = pd.concat([May,June,July], ignore_index=True)"
   ]
  },
  {
   "cell_type": "code",
   "execution_count": 369,
   "id": "b4e78af2",
   "metadata": {},
   "outputs": [],
   "source": [
    "day.to_csv('C:/Users/86180/Desktop/IC-DS/GROUP PROJECT/day_score.csv')"
   ]
  },
  {
   "cell_type": "code",
   "execution_count": 368,
   "id": "0c88b451",
   "metadata": {
    "scrolled": false
   },
   "outputs": [
    {
     "data": {
      "text/plain": [
       "[<matplotlib.lines.Line2D at 0x2f63455ed00>]"
      ]
     },
     "execution_count": 368,
     "metadata": {},
     "output_type": "execute_result"
    },
    {
     "data": {
      "image/png": "[encoded data removed]",
      "text/plain": [
       "<Figure size 432x288 with 1 Axes>"
      ]
     },
     "metadata": {
      "needs_background": "light"
     },
     "output_type": "display_data"
    }
   ],
   "source": [
    "plt.plot(day)"
   ]
  },
  {
   "cell_type": "code",
   "execution_count": 37,
   "id": "60bafe80",
   "metadata": {
    "scrolled": true
   },
   "outputs": [
    {
     "data": {
      "text/plain": [
       "[<matplotlib.lines.Line2D at 0x1e2631f5af0>]"
      ]
     },
     "execution_count": 37,
     "metadata": {},
     "output_type": "execute_result"
    },
    {
     "data": {
      "image/png": "[encoded data removed]",
      "text/plain": [
       "<Figure size 432x288 with 1 Axes>"
      ]
     },
     "metadata": {
      "needs_background": "light"
     },
     "output_type": "display_data"
    }
   ],
   "source": [
    "plt.plot(day['sentiment'][24:])"
   ]
  },
  {
   "cell_type": "code",
   "execution_count": 3,
   "id": "4fbdb28d",
   "metadata": {},
   "outputs": [],
   "source": [
    "day = pd.read_csv('C:/Users/86180/Desktop/IC-DS/GROUP PROJECT/day_score.csv')\n",
    "cor_time =pd.read_csv('C:/Users/86180/Desktop/IC-DS/GROUP PROJECT/combine.csv') "
   ]
  },
  {
   "cell_type": "code",
   "execution_count": 28,
   "id": "a456389d",
   "metadata": {},
   "outputs": [
    {
     "data": {
      "text/plain": [
       "16"
      ]
     },
     "execution_count": 28,
     "metadata": {},
     "output_type": "execute_result"
    }
   ],
   "source": [
    "# 5月\n",
    "pre = 114\n",
    "May_list = []\n",
    "for i in range(7,31):\n",
    "    now = (cor_time['created_at']<=('2022-05-'+str(i)+' 23:59:59')).value_counts()[1]\n",
    "    May_list.append( cor_time['sentiment'][pre:now].var())\n",
    "    pre = now\n",
    "May = pd.DataFrame(May_list).dropna()\n",
    "len(May)"
   ]
  },
  {
   "cell_type": "code",
   "execution_count": 29,
   "id": "c8cb2d0f",
   "metadata": {},
   "outputs": [
    {
     "data": {
      "text/plain": [
       "24"
      ]
     },
     "execution_count": 29,
     "metadata": {},
     "output_type": "execute_result"
    }
   ],
   "source": [
    "# 6月\n",
    "pre = 19238\n",
    "June_list = []\n",
    "for i in range(1,31):\n",
    "    now = (cor_time['created_at']<=('2022-06-'+str(i)+' 23:59:59')).value_counts()[1]\n",
    "    June_list.append( cor_time['sentiment'][pre:now].var())\n",
    "    pre = now\n",
    "\n",
    "June = pd.DataFrame(June_list).dropna()\n",
    "len(June)"
   ]
  },
  {
   "cell_type": "code",
   "execution_count": 30,
   "id": "4de89c39",
   "metadata": {},
   "outputs": [
    {
     "data": {
      "text/plain": [
       "16"
      ]
     },
     "execution_count": 30,
     "metadata": {},
     "output_type": "execute_result"
    }
   ],
   "source": [
    "# 7月\n",
    "pre = 75828\n",
    "July_list = []\n",
    "for i in range(1,32):\n",
    "    now = (cor_time['created_at']<=('2022-07-'+str(i)+' 23:59:59')).value_counts()[1]\n",
    "    July_list.append( cor_time['sentiment'][pre:now].var())\n",
    "    pre = now\n",
    "July = pd.DataFrame(July_list).dropna()\n",
    "len(July)\n",
    "#July_list"
   ]
  },
  {
   "cell_type": "code",
   "execution_count": 26,
   "id": "869a1fb6",
   "metadata": {},
   "outputs": [
    {
     "data": {
      "text/plain": [
       "(56, 1)"
      ]
     },
     "execution_count": 26,
     "metadata": {},
     "output_type": "execute_result"
    }
   ],
   "source": [
    "var_ = pd.concat([May,June,July], ignore_index=True)\n",
    "var_.shape"
   ]
  },
  {
   "cell_type": "code",
   "execution_count": 27,
   "id": "2395bc4c",
   "metadata": {},
   "outputs": [
    {
     "data": {
      "text/plain": [
       "[<matplotlib.lines.Line2D at 0x1e2630b34c0>]"
      ]
     },
     "execution_count": 27,
     "metadata": {},
     "output_type": "execute_result"
    },
    {
     "data": {
      "image/png": "[encoded data removed]",
      "text/plain": [
       "<Figure size 432x288 with 1 Axes>"
      ]
     },
     "metadata": {
      "needs_background": "light"
     },
     "output_type": "display_data"
    }
   ],
   "source": [
    "plt.plot(var_)"
   ]
  },
  {
   "cell_type": "code",
   "execution_count": 33,
   "id": "40ec5348",
   "metadata": {},
   "outputs": [
    {
     "data": {
      "text/plain": [
       "[<matplotlib.lines.Line2D at 0x1e2631108b0>]"
      ]
     },
     "execution_count": 33,
     "metadata": {},
     "output_type": "execute_result"
    },
    {
     "data": {
      "image/png": "[encoded data removed]",
      "text/plain": [
       "<Figure size 432x288 with 1 Axes>"
      ]
     },
     "metadata": {
      "needs_background": "light"
     },
     "output_type": "display_data"
    }
   ],
   "source": [
    "# 6月起\n",
    "plt.plot(var_[16:])"
   ]
  },
  {
   "cell_type": "code",
   "execution_count": null,
   "id": "ff04a941",
   "metadata": {},
   "outputs": [],
   "source": [
    "# 时间序列分析--灰色预测（到时候让队友用那个模型进行预测？)\n"
   ]
  },
  {
   "cell_type": "markdown",
   "id": "1336a4f7",
   "metadata": {},
   "source": [
    "### 对平均值对六月后数据图像拟合"
   ]
  },
  {
   "cell_type": "code",
   "execution_count": 44,
   "id": "84fa48cb",
   "metadata": {},
   "outputs": [
    {
     "name": "stdout",
     "output_type": "stream",
     "text": [
      "            5             4             3             2\n",
      "-7.379e-09 x + 8.648e-07 x - 3.855e-05 x + 0.0008071 x - 0.008027 x + 0.0208\n"
     ]
    }
   ],
   "source": [
    "# 使用polyfit方法\n",
    "x1 = np.arange(1,day['sentiment'][24:].shape[0]+1,1)\n",
    "y1 = day['sentiment'][24:]\n",
    "z1 = np.polyfit(x1, y1, 5)\n",
    "# 使用poly1d方法获得多项式系数,按照阶数由高到低排列\n",
    "p1 = np.poly1d(z1)\n",
    "# 打印拟合多项式\n",
    "print(p1)\n",
    "# 求对应x的各项拟合函数值\n",
    "fx1 = p1(x1)"
   ]
  },
  {
   "cell_type": "code",
   "execution_count": 45,
   "id": "ab306fc0",
   "metadata": {},
   "outputs": [
    {
     "data": {
      "text/plain": [
       "[<matplotlib.lines.Line2D at 0x1e263887d90>]"
      ]
     },
     "execution_count": 45,
     "metadata": {},
     "output_type": "execute_result"
    },
    {
     "data": {
      "image/png": "[encoded data removed]",
      "text/plain": [
       "<Figure size 432x288 with 1 Axes>"
      ]
     },
     "metadata": {
      "needs_background": "light"
     },
     "output_type": "display_data"
    }
   ],
   "source": [
    "plt.plot(fx1)"
   ]
  },
  {
   "cell_type": "code",
   "execution_count": 55,
   "id": "8f88772d",
   "metadata": {},
   "outputs": [
    {
     "name": "stdout",
     "output_type": "stream",
     "text": [
      "            5             4             3            2\n",
      "-7.776e-08 x + 7.316e-06 x - 0.0002339 x + 0.002892 x - 0.01143 x + 0.2011\n"
     ]
    }
   ],
   "source": [
    "# 使用polyfit方法\n",
    "x1 = np.arange(1,var_[16:].shape[0]+1,1)\n",
    "y1 = var_[16:][0]\n",
    "z1 = np.polyfit(x1, y1, 5)\n",
    "# 使用poly1d方法获得多项式系数,按照阶数由高到低排列\n",
    "p1 = np.poly1d(z1)\n",
    "# 打印拟合多项式\n",
    "print(p1)\n",
    "# 求对应x的各项拟合函数值\n",
    "fx1 = p1(x1)"
   ]
  },
  {
   "cell_type": "code",
   "execution_count": 56,
   "id": "a71d26de",
   "metadata": {},
   "outputs": [
    {
     "data": {
      "text/plain": [
       "[<matplotlib.lines.Line2D at 0x1e2666cc940>]"
      ]
     },
     "execution_count": 56,
     "metadata": {},
     "output_type": "execute_result"
    },
    {
     "data": {
      "image/png": "[encoded data removed]",
      "text/plain": [
       "<Figure size 432x288 with 1 Axes>"
      ]
     },
     "metadata": {
      "needs_background": "light"
     },
     "output_type": "display_data"
    }
   ],
   "source": [
    "plt.plot(fx1)"
   ]
  },
  {
   "cell_type": "markdown",
   "id": "f635b38e",
   "metadata": {},
   "source": [
    "### 拟合优度计算"
   ]
  },
  {
   "cell_type": "code",
   "execution_count": 57,
   "id": "5bbb0012",
   "metadata": {},
   "outputs": [],
   "source": [
    "def __sst(y_no_fitting):\n",
    "    \"\"\"\n",
    "    计算SST(total sum of squares) 总平方和\n",
    "    :param y_no_predicted: List[int] or array[int] 待拟合的y\n",
    "    :return: 总平方和SST\n",
    "    \"\"\"\n",
    "    y_mean = sum(y_no_fitting) / len(y_no_fitting)\n",
    "    s_list =[(y - y_mean)**2 for y in y_no_fitting]\n",
    "    sst = sum(s_list)\n",
    "    return sst\n",
    "\n",
    "\n",
    "def __ssr(y_fitting, y_no_fitting):\n",
    "    \"\"\"\n",
    "    计算SSR(regression sum of squares) 回归平方和\n",
    "    :param y_fitting: List[int] or array[int]  拟合好的y值\n",
    "    :param y_no_fitting: List[int] or array[int] 待拟合y值\n",
    "    :return: 回归平方和SSR\n",
    "    \"\"\"\n",
    "    y_mean = sum(y_no_fitting) / len(y_no_fitting)\n",
    "    s_list =[(y - y_mean)**2 for y in y_fitting]\n",
    "    ssr = sum(s_list)\n",
    "    return ssr\n",
    "\n",
    "\n",
    "def __sse(y_fitting, y_no_fitting):\n",
    "    \"\"\"\n",
    "    计算SSE(error sum of squares) 残差平方和\n",
    "    :param y_fitting: List[int] or array[int] 拟合好的y值\n",
    "    :param y_no_fitting: List[int] or array[int] 待拟合y值\n",
    "    :return: 残差平方和SSE\n",
    "    \"\"\"\n",
    "    s_list = [(y_fitting[i] - y_no_fitting[i])**2 for i in range(len(y_fitting))]\n",
    "    sse = sum(s_list)\n",
    "    return sse\n",
    "\n",
    "\n",
    "def goodness_of_fit(y_fitting, y_no_fitting):\n",
    "    \"\"\"\n",
    "    计算拟合优度R^2\n",
    "    :param y_fitting: List[int] or array[int] 拟合好的y值\n",
    "    :param y_no_fitting: List[int] or array[int] 待拟合y值\n",
    "    :return: 拟合优度R^2\n",
    "    \"\"\"\n",
    "    SSR = __ssr(y_fitting, y_no_fitting)\n",
    "    SST = __sst(y_no_fitting)\n",
    "    rr = SSR /SST\n",
    "    return rr\n"
   ]
  },
  {
   "cell_type": "code",
   "execution_count": null,
   "id": "4f2dfe85",
   "metadata": {},
   "outputs": [],
   "source": [
    "# polyfit的优度(data1-5次拟合)\n",
    "RR_mean=goodness_of_fit(fx1,y1)\n",
    "RR_mean"
   ]
  },
  {
   "cell_type": "code",
   "execution_count": 58,
   "id": "0fb37434",
   "metadata": {},
   "outputs": [
    {
     "data": {
      "text/plain": [
       "0.5893832925949681"
      ]
     },
     "execution_count": 58,
     "metadata": {},
     "output_type": "execute_result"
    }
   ],
   "source": [
    "# polyfit的优度(data1-5次拟合)\n",
    "RR_var=goodness_of_fit(fx1,y1)\n",
    "RR_var"
   ]
  }
 ],
 "metadata": {
  "kernelspec": {
   "display_name": "Python 3 (ipykernel)",
   "language": "python",
   "name": "python3"
  },
  "language_info": {
   "codemirror_mode": {
    "name": "ipython",
    "version": 3
   },
   "file_extension": ".py",
   "mimetype": "text/x-python",
   "name": "python",
   "nbconvert_exporter": "python",
   "pygments_lexer": "ipython3",
   "version": "3.9.7"
  }
 },
 "nbformat": 4,
 "nbformat_minor": 5
}
