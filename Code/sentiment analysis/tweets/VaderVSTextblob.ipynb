{
 "cells": [
  {
   "cell_type": "markdown",
   "metadata": {},
   "source": [
    "# Different Tools for Sentiment\n",
    "## Vader\n",
    "https://github.com/cjhutto/vaderSentiment\n",
    "- lexicon and rule-based\n",
    "- attuned to sentiments expressed in social media\n",
    "- open-sourced\n",
    "### Demo\n",
    "#### Importing Necesseties"
   ]
  },
  {
   "cell_type": "markdown",
   "metadata": {},
   "source": [
    "- Make sure you install nltk before use vaderSentiment\n",
    "- Use pip to install vaderSentiment \"**pip install vaderSentiment**\"\n",
    "- If you use source code download, may need to import like \"**from vaderSentiment import SentimentIntensityAnalyzer**\""
   ]
  },
  {
   "cell_type": "code",
   "execution_count": 98,
   "metadata": {},
   "outputs": [],
   "source": [
    "import nltk\n",
    "from vaderSentiment.vaderSentiment import SentimentIntensityAnalyzer"
   ]
  },
  {
   "cell_type": "markdown",
   "metadata": {},
   "source": [
    "- If it can't work, please try \"**python -m pip install vaderSentiment --no-cache-dir**\""
   ]
  },
  {
   "cell_type": "markdown",
   "metadata": {},
   "source": [
    "#### An Example"
   ]
  },
  {
   "cell_type": "code",
   "execution_count": 99,
   "metadata": {},
   "outputs": [
    {
     "name": "stdout",
     "output_type": "stream",
     "text": [
      "neg: 0.0 neu: 0.308 pos: 0.692 compound 0.6696\n"
     ]
    }
   ],
   "source": [
    "sentence = \"I love summer!\"\n",
    "sid_obj = SentimentIntensityAnalyzer()\n",
    "sentiment_dict = sid_obj.polarity_scores(sentence)\n",
    "neg = sentiment_dict['neg']\n",
    "neu = sentiment_dict['neu']\n",
    "pos = sentiment_dict['pos']\n",
    "compound = sentiment_dict['compound']\n",
    "print('neg:', neg, 'neu:', neu, 'pos:', pos, 'compound', compound)\n"
   ]
  },
  {
   "cell_type": "markdown",
   "metadata": {},
   "source": [
    "- Compound is a single unidimensional measure of sentiment\n",
    "- It is normalized to be between -1 (most extreme negative) and +1 (most extreme positive)\n",
    "- In vader, use **0.05** as the standardized threshold"
   ]
  },
  {
   "cell_type": "markdown",
   "metadata": {},
   "source": [
    "### Use vader in our dataset\n",
    "#### Importing Necesseties"
   ]
  },
  {
   "cell_type": "markdown",
   "metadata": {},
   "source": [
    "### Use vader in our dataset\n",
    "#### Importing Necesseties"
   ]
  },
  {
   "cell_type": "code",
   "execution_count": 100,
   "metadata": {},
   "outputs": [],
   "source": [
    "import nltk\n",
    "from vaderSentiment.vaderSentiment import SentimentIntensityAnalyzer\n",
    "import pandas as pd\n",
    "import numpy as np\n",
    "import matplotlib.pyplot as plt\n",
    "import re"
   ]
  },
  {
   "cell_type": "markdown",
   "metadata": {},
   "source": [
    "- if \"**module 'matplotlib' has no attribute 'get_data_path'**\"\n",
    "- try to restart the ide\n",
    "- or **pip uninstall matplotlib** then **pip install matplotlib --user**"
   ]
  },
  {
   "cell_type": "markdown",
   "metadata": {},
   "source": [
    "#### Read Data"
   ]
  },
  {
   "cell_type": "code",
   "execution_count": 101,
   "metadata": {},
   "outputs": [
    {
     "name": "stdout",
     "output_type": "stream",
     "text": [
      "<class 'pandas.core.frame.DataFrame'>\n",
      "RangeIndex: 6838 entries, 0 to 6837\n",
      "Data columns (total 35 columns):\n",
      " #   Column                      Non-Null Count  Dtype  \n",
      "---  ------                      --------------  -----  \n",
      " 0   coordinates                 0 non-null      float64\n",
      " 1   created_at                  6838 non-null   object \n",
      " 2   hashtags                    526 non-null    object \n",
      " 3   media                       927 non-null    object \n",
      " 4   urls                        1195 non-null   object \n",
      " 5   favorite_count              6838 non-null   int64  \n",
      " 6   id                          6838 non-null   int64  \n",
      " 7   in_reply_to_screen_name     2716 non-null   object \n",
      " 8   in_reply_to_status_id       2620 non-null   float64\n",
      " 9   in_reply_to_user_id         2716 non-null   float64\n",
      " 10  lang                        6838 non-null   object \n",
      " 11  place                       129 non-null    object \n",
      " 12  possibly_sensitive          2006 non-null   object \n",
      " 13  quote_id                    658 non-null    float64\n",
      " 14  retweet_count               6838 non-null   int64  \n",
      " 15  retweet_id                  0 non-null      float64\n",
      " 16  retweet_screen_name         0 non-null      float64\n",
      " 17  source                      6838 non-null   object \n",
      " 18  text                        6838 non-null   object \n",
      " 19  tweet_url                   6838 non-null   object \n",
      " 20  user_created_at             6838 non-null   object \n",
      " 21  user_id                     6838 non-null   int64  \n",
      " 22  user_default_profile_image  6838 non-null   bool   \n",
      " 23  user_description            5973 non-null   object \n",
      " 24  user_favourites_count       6838 non-null   int64  \n",
      " 25  user_followers_count        6838 non-null   int64  \n",
      " 26  user_friends_count          6838 non-null   int64  \n",
      " 27  user_listed_count           6838 non-null   int64  \n",
      " 28  user_location               4364 non-null   object \n",
      " 29  user_name                   6838 non-null   object \n",
      " 30  user_screen_name            6838 non-null   object \n",
      " 31  user_statuses_count         6838 non-null   int64  \n",
      " 32  user_time_zone              0 non-null      float64\n",
      " 33  user_urls                   1552 non-null   object \n",
      " 34  user_verified               6838 non-null   bool   \n",
      "dtypes: bool(2), float64(7), int64(9), object(17)\n",
      "memory usage: 1.7+ MB\n"
     ]
    }
   ],
   "source": [
    "df = pd.read_csv('C:/Users/y/Desktop/TweetIDs_Part1.csv')\n",
    "df.info()"
   ]
  },
  {
   "cell_type": "markdown",
   "metadata": {},
   "source": [
    "- This dataset is cleaned before, the \"text\" is without @Username/Hashtag/URL\n",
    "- Reserve emoji because vader can catch utf-8 emoji and deal with it"
   ]
  },
  {
   "cell_type": "code",
   "execution_count": 102,
   "metadata": {},
   "outputs": [],
   "source": [
    "def basic_cleaning(text):\n",
    "    # clear url\n",
    "    text = re.sub(\"(http|https|ftp)://[a-zA-Z0-9\\\\./]+\", '', text)\n",
    "    # remove tags\n",
    "    text = re.sub(\"#(\\w+)\", \" \", text)\n",
    "    # remove @xxx \n",
    "    text = re.sub(\"(@[A-Za-z0-9]+)|(\\w+:\\/\\/\\S+)\", \" \", text)\n",
    "#     # clear not alpha\n",
    "#     text = re.sub(r'[^a-zA-Z|\\s]', '', text)\n",
    "    return text\n",
    "\n",
    "def remove_html(text):\n",
    "    html = re.compile(r'<.*?>')\n",
    "    return html.sub(r'',text)\n",
    "\n",
    "def clean(df):\n",
    "    for col in ['text']:\n",
    "        df[col] = df[col].astype(str).apply(lambda x:basic_cleaning(x))\n",
    "        df[col] = df[col].astype(str).apply(lambda x:remove_html(x))\n",
    "    return df"
   ]
  },
  {
   "cell_type": "code",
   "execution_count": 103,
   "metadata": {},
   "outputs": [],
   "source": [
    "clean_df = clean(df)\n",
    "text = clean_df['text']"
   ]
  },
  {
   "cell_type": "markdown",
   "metadata": {},
   "source": [
    "- For vader, \"text\" is used as the input"
   ]
  },
  {
   "cell_type": "markdown",
   "metadata": {},
   "source": [
    "#### Explore Data"
   ]
  },
  {
   "cell_type": "code",
   "execution_count": 104,
   "metadata": {},
   "outputs": [],
   "source": [
    "def sentiment_scores(text):\n",
    "    sid_obj = SentimentIntensityAnalyzer()\n",
    "\n",
    "    score = []\n",
    "\n",
    "    for sentence in text:\n",
    "        sentiment_dict = sid_obj.polarity_scores(str(sentence))\n",
    "        score_now = []\n",
    "        score_now.append(sentiment_dict['neg'])\n",
    "        score_now.append(sentiment_dict['neu'])\n",
    "        score_now.append(sentiment_dict['pos'])\n",
    "        score_now.append(sentiment_dict['compound'])\n",
    "        score.append(score_now)\n",
    "    return score"
   ]
  },
  {
   "cell_type": "markdown",
   "metadata": {},
   "source": [
    "- function to get the score"
   ]
  },
  {
   "cell_type": "code",
   "execution_count": 105,
   "metadata": {},
   "outputs": [
    {
     "data": {
      "text/plain": [
       "[[0.0, 1.0, 0.0, 0.0],\n",
       " [0.0, 1.0, 0.0, 0.0],\n",
       " [0.0, 1.0, 0.0, 0.0],\n",
       " [0.0, 1.0, 0.0, 0.0]]"
      ]
     },
     "execution_count": 105,
     "metadata": {},
     "output_type": "execute_result"
    }
   ],
   "source": [
    "sentiment_scores([\"monkeypox\",\"monkey pox\",\"Monkeypox\",\"Monkey pox\"])"
   ]
  },
  {
   "cell_type": "markdown",
   "metadata": {},
   "source": [
    "- according the above test, the words of monkeypox means 100% neural for vader"
   ]
  },
  {
   "cell_type": "code",
   "execution_count": 106,
   "metadata": {},
   "outputs": [
    {
     "name": "stdout",
     "output_type": "stream",
     "text": [
      "[[ 0.286   0.714   0.     -0.886 ]\n",
      " [ 0.1     0.9     0.     -0.4767]\n",
      " [ 0.055   0.945   0.     -0.4095]\n",
      " ...\n",
      " [ 0.235   0.765   0.     -0.8478]\n",
      " [ 0.128   0.872   0.     -0.5719]\n",
      " [ 0.      0.73    0.27    0.9042]]\n"
     ]
    }
   ],
   "source": [
    "sentiment = np.array(sentiment_scores(text))\n",
    "print(sentiment)"
   ]
  },
  {
   "cell_type": "markdown",
   "metadata": {},
   "source": [
    "- get the sentiment score array"
   ]
  },
  {
   "cell_type": "code",
   "execution_count": 107,
   "metadata": {},
   "outputs": [
    {
     "name": "stdout",
     "output_type": "stream",
     "text": [
      "[[ 0.546   0.454   0.     -0.9925]\n",
      " [ 0.556   0.444   0.     -0.989 ]\n",
      " [ 0.422   0.515   0.063  -0.9814]\n",
      " ...\n",
      " [ 0.064   0.563   0.372   0.9823]\n",
      " [ 0.042   0.523   0.436   0.9824]\n",
      " [ 0.196   0.412   0.392   0.992 ]]\n"
     ]
    }
   ],
   "source": [
    "sentiment_sort = sentiment[sentiment[:, 3].argsort()]\n",
    "print(sentiment_sort)"
   ]
  },
  {
   "cell_type": "markdown",
   "metadata": {},
   "source": [
    "- sort it by the last column"
   ]
  },
  {
   "cell_type": "markdown",
   "metadata": {},
   "source": [
    "#### Visualization"
   ]
  },
  {
   "cell_type": "code",
   "execution_count": 108,
   "metadata": {},
   "outputs": [
    {
     "data": {
      "image/png": "[encoded data removed]",
      "text/plain": [
       "<Figure size 432x288 with 1 Axes>"
      ]
     },
     "metadata": {
      "needs_background": "light"
     },
     "output_type": "display_data"
    }
   ],
   "source": [
    "plt.hist(sentiment_sort[:,0:3],bins=30,label=[\"neg\",\"neu\",\"pos\"])\n",
    "plt.legend()\n",
    "plt.show()"
   ]
  },
  {
   "cell_type": "markdown",
   "metadata": {},
   "source": [
    "- the sore of neu is obviously higher"
   ]
  },
  {
   "cell_type": "code",
   "execution_count": 109,
   "metadata": {},
   "outputs": [
    {
     "data": {
      "image/png": "[encoded data removed]",
      "text/plain": [
       "<Figure size 432x288 with 1 Axes>"
      ]
     },
     "metadata": {
      "needs_background": "light"
     },
     "output_type": "display_data"
    }
   ],
   "source": [
    "plt.hist(sentiment_sort[:,3],bins=100,label=['compound'])\n",
    "plt.show()"
   ]
  },
  {
   "cell_type": "code",
   "execution_count": 110,
   "metadata": {},
   "outputs": [],
   "source": [
    "def piechart(sentiment):\n",
    "    pos_number = sum(sentiment>=0.05)\n",
    "    neg_number = sum(sentiment<=-0.05)\n",
    "    neu_number = len(sentiment)-pos_number-neg_number\n",
    "    pie = [pos_number,neg_number,neu_number]\n",
    "    return pie"
   ]
  },
  {
   "cell_type": "code",
   "execution_count": 111,
   "metadata": {},
   "outputs": [
    {
     "name": "stdout",
     "output_type": "stream",
     "text": [
      "[0.28911963 0.32918982 0.38169055]\n"
     ]
    },
    {
     "data": {
      "image/png": "[encoded data removed]",
      "text/plain": [
       "<Figure size 432x288 with 1 Axes>"
      ]
     },
     "metadata": {},
     "output_type": "display_data"
    }
   ],
   "source": [
    "pie = piechart(sentiment[:,3])\n",
    "print(pie/sum(pie))\n",
    "plt.pie(pie,labels=[\"neg\",\"neu\",\"pos\"])\n",
    "plt.legend()\n",
    "plt.show()"
   ]
  },
  {
   "cell_type": "markdown",
   "metadata": {},
   "source": [
    "- the above pie chart shows the sentiment\n",
    "- quite strange to find that the percentage of pos is the highest whitch means more people are positive facing monkeypox"
   ]
  },
  {
   "cell_type": "code",
   "execution_count": 112,
   "metadata": {},
   "outputs": [
    {
     "data": {
      "image/png": "[encoded data removed]",
      "text/plain": [
       "<Figure size 432x288 with 1 Axes>"
      ]
     },
     "metadata": {
      "needs_background": "light"
     },
     "output_type": "display_data"
    }
   ],
   "source": [
    "plt.scatter(np.arange(len(sentiment[:,3])),sentiment[:,3],s=0.1)\n",
    "plt.show()"
   ]
  },
  {
   "cell_type": "markdown",
   "metadata": {},
   "source": [
    "## Textblob\n",
    "https://github.com/sloria/TextBlob\n",
    "- a Python library for processing textual data(including sentiment analysis)\n",
    "### Demo\n",
    "#### Importing Necesseties"
   ]
  },
  {
   "cell_type": "code",
   "execution_count": 113,
   "metadata": {},
   "outputs": [],
   "source": [
    "from textblob import TextBlob"
   ]
  },
  {
   "cell_type": "markdown",
   "metadata": {},
   "source": [
    "**pip install -U textblob** && **python -m textblob.download_corpora**\n",
    "- use the above commands to install textblob"
   ]
  },
  {
   "cell_type": "markdown",
   "metadata": {},
   "source": [
    "#### An Example"
   ]
  },
  {
   "cell_type": "code",
   "execution_count": 114,
   "metadata": {},
   "outputs": [
    {
     "name": "stdout",
     "output_type": "stream",
     "text": [
      "0.6000000000000001\n",
      "0.7\n",
      "0.5\n",
      "0.5\n"
     ]
    }
   ],
   "source": [
    "test1 = TextBlob(\"good\")\n",
    "print(test1.sentiment.subjectivity)\n",
    "print(test1.sentiment.polarity)\n",
    "test2 = TextBlob(\"better\")\n",
    "print(test2.sentiment.subjectivity)\n",
    "print(test2.sentiment.polarity)"
   ]
  },
  {
   "cell_type": "markdown",
   "metadata": {},
   "source": [
    "- the subjectivity is a float within the range[0.0,1] where 0.0 is very objective and 1.0 is very subjective\n",
    "- the polarity score is a float within the range[-1.0,1.0]"
   ]
  },
  {
   "cell_type": "markdown",
   "metadata": {},
   "source": [
    "### Use textblob in our dataset\n",
    "#### Importing Necesseties"
   ]
  },
  {
   "cell_type": "code",
   "execution_count": 115,
   "metadata": {},
   "outputs": [],
   "source": [
    "from textblob import TextBlob\n",
    "import pandas as pd\n",
    "import numpy as np\n",
    "import matplotlib.pyplot as plt\n",
    "import emoji"
   ]
  },
  {
   "cell_type": "markdown",
   "metadata": {},
   "source": [
    "- Textblob can't deal with emoji, so transfer it before using the emoji library"
   ]
  },
  {
   "cell_type": "markdown",
   "metadata": {},
   "source": [
    "#### Explore Data"
   ]
  },
  {
   "cell_type": "code",
   "execution_count": 116,
   "metadata": {},
   "outputs": [
    {
     "name": "stdout",
     "output_type": "stream",
     "text": [
      "<class 'pandas.core.frame.DataFrame'>\n",
      "RangeIndex: 6838 entries, 0 to 6837\n",
      "Data columns (total 2 columns):\n",
      " #   Column      Non-Null Count  Dtype \n",
      "---  ------      --------------  ----- \n",
      " 0   created_at  6838 non-null   object\n",
      " 1   text        6838 non-null   object\n",
      "dtypes: object(2)\n",
      "memory usage: 107.0+ KB\n"
     ]
    },
    {
     "data": {
      "text/html": [
       "<div>\n",
       "<style scoped>\n",
       "    .dataframe tbody tr th:only-of-type {\n",
       "        vertical-align: middle;\n",
       "    }\n",
       "\n",
       "    .dataframe tbody tr th {\n",
       "        vertical-align: top;\n",
       "    }\n",
       "\n",
       "    .dataframe thead th {\n",
       "        text-align: right;\n",
       "    }\n",
       "</style>\n",
       "<table border=\"1\" class=\"dataframe\">\n",
       "  <thead>\n",
       "    <tr style=\"text-align: right;\">\n",
       "      <th></th>\n",
       "      <th>created_at</th>\n",
       "      <th>text</th>\n",
       "    </tr>\n",
       "  </thead>\n",
       "  <tbody>\n",
       "    <tr>\n",
       "      <th>0</th>\n",
       "      <td>Sat May 21 21:51:16 +0000 2022</td>\n",
       "      <td>Watch the progressive monkeys run out screamin...</td>\n",
       "    </tr>\n",
       "    <tr>\n",
       "      <th>1</th>\n",
       "      <td>Sat May 21 22:25:48 +0000 2022</td>\n",
       "      <td>When you have Bill Gates shorting Tesla for ...</td>\n",
       "    </tr>\n",
       "    <tr>\n",
       "      <th>2</th>\n",
       "      <td>Sat May 21 22:24:39 +0000 2022</td>\n",
       "      <td>Monkey pox as reported by Reuters \\n\\n“Gay, bi...</td>\n",
       "    </tr>\n",
       "    <tr>\n",
       "      <th>3</th>\n",
       "      <td>Sat May 21 22:27:59 +0000 2022</td>\n",
       "      <td>Hey Pete\\nPeople are crazy 'Busy'\\nWe can't ...</td>\n",
       "    </tr>\n",
       "    <tr>\n",
       "      <th>4</th>\n",
       "      <td>Sat May 21 22:24:11 +0000 2022</td>\n",
       "      <td>_tx  _FDA Well, you know the new thing is...</td>\n",
       "    </tr>\n",
       "  </tbody>\n",
       "</table>\n",
       "</div>"
      ],
      "text/plain": [
       "                       created_at  \\\n",
       "0  Sat May 21 21:51:16 +0000 2022   \n",
       "1  Sat May 21 22:25:48 +0000 2022   \n",
       "2  Sat May 21 22:24:39 +0000 2022   \n",
       "3  Sat May 21 22:27:59 +0000 2022   \n",
       "4  Sat May 21 22:24:11 +0000 2022   \n",
       "\n",
       "                                                text  \n",
       "0  Watch the progressive monkeys run out screamin...  \n",
       "1    When you have Bill Gates shorting Tesla for ...  \n",
       "2  Monkey pox as reported by Reuters \\n\\n“Gay, bi...  \n",
       "3    Hey Pete\\nPeople are crazy 'Busy'\\nWe can't ...  \n",
       "4       _tx  _FDA Well, you know the new thing is...  "
      ]
     },
     "execution_count": 116,
     "metadata": {},
     "output_type": "execute_result"
    }
   ],
   "source": [
    "textblob = df[['created_at','text']]\n",
    "textblob['text'] = textblob['text'].astype(str).apply(lambda x: emoji.demojize(x))\n",
    "textblob.info()\n",
    "textblob.head()"
   ]
  },
  {
   "cell_type": "code",
   "execution_count": 117,
   "metadata": {},
   "outputs": [
    {
     "data": {
      "text/html": [
       "<div>\n",
       "<style scoped>\n",
       "    .dataframe tbody tr th:only-of-type {\n",
       "        vertical-align: middle;\n",
       "    }\n",
       "\n",
       "    .dataframe tbody tr th {\n",
       "        vertical-align: top;\n",
       "    }\n",
       "\n",
       "    .dataframe thead th {\n",
       "        text-align: right;\n",
       "    }\n",
       "</style>\n",
       "<table border=\"1\" class=\"dataframe\">\n",
       "  <thead>\n",
       "    <tr style=\"text-align: right;\">\n",
       "      <th></th>\n",
       "      <th>created_at</th>\n",
       "      <th>text</th>\n",
       "      <th>sentiment</th>\n",
       "      <th>Polarity</th>\n",
       "      <th>Subjectivity</th>\n",
       "    </tr>\n",
       "  </thead>\n",
       "  <tbody>\n",
       "    <tr>\n",
       "      <th>0</th>\n",
       "      <td>Sat May 21 21:51:16 +0000 2022</td>\n",
       "      <td>Watch the progressive monkeys run out screamin...</td>\n",
       "      <td>(-0.1625, 0.3875)</td>\n",
       "      <td>-0.16</td>\n",
       "      <td>0.39</td>\n",
       "    </tr>\n",
       "    <tr>\n",
       "      <th>1</th>\n",
       "      <td>Sat May 21 22:25:48 +0000 2022</td>\n",
       "      <td>When you have Bill Gates shorting Tesla for ...</td>\n",
       "      <td>(-0.04583333333333334, 0.058333333333333334)</td>\n",
       "      <td>-0.05</td>\n",
       "      <td>0.06</td>\n",
       "    </tr>\n",
       "    <tr>\n",
       "      <th>2</th>\n",
       "      <td>Sat May 21 22:24:39 +0000 2022</td>\n",
       "      <td>Monkey pox as reported by Reuters \\n\\n“Gay, bi...</td>\n",
       "      <td>(0.08166666666666667, 0.30833333333333335)</td>\n",
       "      <td>0.08</td>\n",
       "      <td>0.31</td>\n",
       "    </tr>\n",
       "    <tr>\n",
       "      <th>3</th>\n",
       "      <td>Sat May 21 22:27:59 +0000 2022</td>\n",
       "      <td>Hey Pete\\nPeople are crazy 'Busy'\\nWe can't ...</td>\n",
       "      <td>(-0.1375, 0.55)</td>\n",
       "      <td>-0.14</td>\n",
       "      <td>0.55</td>\n",
       "    </tr>\n",
       "    <tr>\n",
       "      <th>4</th>\n",
       "      <td>Sat May 21 22:24:11 +0000 2022</td>\n",
       "      <td>_tx  _FDA Well, you know the new thing is...</td>\n",
       "      <td>(0.12402597402597403, 0.33008658008658004)</td>\n",
       "      <td>0.12</td>\n",
       "      <td>0.33</td>\n",
       "    </tr>\n",
       "  </tbody>\n",
       "</table>\n",
       "</div>"
      ],
      "text/plain": [
       "                       created_at  \\\n",
       "0  Sat May 21 21:51:16 +0000 2022   \n",
       "1  Sat May 21 22:25:48 +0000 2022   \n",
       "2  Sat May 21 22:24:39 +0000 2022   \n",
       "3  Sat May 21 22:27:59 +0000 2022   \n",
       "4  Sat May 21 22:24:11 +0000 2022   \n",
       "\n",
       "                                                text  \\\n",
       "0  Watch the progressive monkeys run out screamin...   \n",
       "1    When you have Bill Gates shorting Tesla for ...   \n",
       "2  Monkey pox as reported by Reuters \\n\\n“Gay, bi...   \n",
       "3    Hey Pete\\nPeople are crazy 'Busy'\\nWe can't ...   \n",
       "4       _tx  _FDA Well, you know the new thing is...   \n",
       "\n",
       "                                      sentiment  Polarity  Subjectivity  \n",
       "0                             (-0.1625, 0.3875)     -0.16          0.39  \n",
       "1  (-0.04583333333333334, 0.058333333333333334)     -0.05          0.06  \n",
       "2    (0.08166666666666667, 0.30833333333333335)      0.08          0.31  \n",
       "3                               (-0.1375, 0.55)     -0.14          0.55  \n",
       "4    (0.12402597402597403, 0.33008658008658004)      0.12          0.33  "
      ]
     },
     "execution_count": 117,
     "metadata": {},
     "output_type": "execute_result"
    }
   ],
   "source": [
    "pd.options.mode.chained_assignment = None\n",
    "textblob['sentiment'] = textblob['text'].apply(lambda review: TextBlob(review).sentiment) \n",
    "textblob['Polarity'] = textblob['sentiment'].apply(lambda x: round(x[0],2)) \n",
    "textblob['Subjectivity'] = textblob['sentiment'].apply(lambda x: round(x[1],2)) \n",
    "textblob.head()"
   ]
  },
  {
   "cell_type": "markdown",
   "metadata": {},
   "source": [
    "#### Visualization"
   ]
  },
  {
   "cell_type": "code",
   "execution_count": 118,
   "metadata": {},
   "outputs": [
    {
     "name": "stdout",
     "output_type": "stream",
     "text": [
      "[0.25226674 0.53041825 0.217315  ]\n"
     ]
    },
    {
     "data": {
      "image/png": "[encoded data removed]",
      "text/plain": [
       "<Figure size 432x288 with 1 Axes>"
      ]
     },
     "metadata": {},
     "output_type": "display_data"
    }
   ],
   "source": [
    "p=piechart(textblob['Polarity'])\n",
    "print(p/np.sum(p))\n",
    "plt.pie(p,labels=[\"neg\",\"neu\",\"pos\"])\n",
    "plt.legend()\n",
    "plt.show()"
   ]
  },
  {
   "cell_type": "code",
   "execution_count": 119,
   "metadata": {},
   "outputs": [
    {
     "data": {
      "image/png": "[encoded data removed]",
      "text/plain": [
       "<Figure size 432x288 with 1 Axes>"
      ]
     },
     "metadata": {
      "needs_background": "light"
     },
     "output_type": "display_data"
    },
    {
     "name": "stdout",
     "output_type": "stream",
     "text": [
      "mean: -0.03146007604562738\n",
      "var: 0.18195339776846453\n",
      "std: 0.42655995799941715\n"
     ]
    }
   ],
   "source": [
    "plt.scatter(np.arange(len(textblob['Polarity'])),textblob['Polarity'],s=0.1)\n",
    "plt.show()\n",
    "print(\"mean:\",np.mean(sentiment[:,3]))\n",
    "print(\"var:\",np.var(sentiment[:,3]))\n",
    "print(\"std:\",np.std(sentiment[:,3]))"
   ]
  },
  {
   "cell_type": "code",
   "execution_count": 120,
   "metadata": {},
   "outputs": [
    {
     "data": {
      "image/png": "[encoded data removed]",
      "text/plain": [
       "<Figure size 432x288 with 1 Axes>"
      ]
     },
     "metadata": {
      "needs_background": "light"
     },
     "output_type": "display_data"
    }
   ],
   "source": [
    "plt.scatter(np.arange(len(textblob['Subjectivity'])),textblob['Subjectivity'],s=0.1)\n",
    "plt.show()"
   ]
  },
  {
   "cell_type": "markdown",
   "metadata": {},
   "source": [
    "### Going from twitter date to Python datetime date"
   ]
  },
  {
   "cell_type": "code",
   "execution_count": 72,
   "metadata": {},
   "outputs": [],
   "source": [
    "from datetime import datetime\n",
    "textblob['created_at']= textblob['created_at'].apply(lambda dtime: datetime.strftime(datetime.strptime(dtime,'%a %b %d %H:%M:%S +0000 %Y'), '%Y-%m-%d %H:%M:%S'))\n",
    "textblob['created_at']= pd.to_datetime(textblob['created_at'])"
   ]
  },
  {
   "cell_type": "code",
   "execution_count": 158,
   "metadata": {},
   "outputs": [
    {
     "data": {
      "text/html": [
       "<div>\n",
       "<style scoped>\n",
       "    .dataframe tbody tr th:only-of-type {\n",
       "        vertical-align: middle;\n",
       "    }\n",
       "\n",
       "    .dataframe tbody tr th {\n",
       "        vertical-align: top;\n",
       "    }\n",
       "\n",
       "    .dataframe thead th {\n",
       "        text-align: right;\n",
       "    }\n",
       "</style>\n",
       "<table border=\"1\" class=\"dataframe\">\n",
       "  <thead>\n",
       "    <tr style=\"text-align: right;\">\n",
       "      <th></th>\n",
       "      <th>created_at</th>\n",
       "      <th>text</th>\n",
       "      <th>sentiment</th>\n",
       "      <th>Polarity</th>\n",
       "      <th>Subjectivity</th>\n",
       "    </tr>\n",
       "  </thead>\n",
       "  <tbody>\n",
       "    <tr>\n",
       "      <th>0</th>\n",
       "      <td>2022-05-21 21:51:16</td>\n",
       "      <td>Watch the progressive monkeys run out screamin...</td>\n",
       "      <td>(-0.1625, 0.3875)</td>\n",
       "      <td>-0.16</td>\n",
       "      <td>0.39</td>\n",
       "    </tr>\n",
       "    <tr>\n",
       "      <th>1</th>\n",
       "      <td>2022-05-21 22:25:48</td>\n",
       "      <td>When you have Bill Gates shorting Tesla for ...</td>\n",
       "      <td>(-0.04583333333333334, 0.058333333333333334)</td>\n",
       "      <td>-0.05</td>\n",
       "      <td>0.06</td>\n",
       "    </tr>\n",
       "    <tr>\n",
       "      <th>2</th>\n",
       "      <td>2022-05-21 22:24:39</td>\n",
       "      <td>Monkey pox as reported by Reuters \\n\\n“Gay, bi...</td>\n",
       "      <td>(0.08166666666666667, 0.30833333333333335)</td>\n",
       "      <td>0.08</td>\n",
       "      <td>0.31</td>\n",
       "    </tr>\n",
       "    <tr>\n",
       "      <th>3</th>\n",
       "      <td>2022-05-21 22:27:59</td>\n",
       "      <td>Hey Pete\\nPeople are crazy 'Busy'\\nWe can't ...</td>\n",
       "      <td>(-0.1375, 0.55)</td>\n",
       "      <td>-0.14</td>\n",
       "      <td>0.55</td>\n",
       "    </tr>\n",
       "    <tr>\n",
       "      <th>4</th>\n",
       "      <td>2022-05-21 22:24:11</td>\n",
       "      <td>_tx  _FDA Well, you know the new thing is...</td>\n",
       "      <td>(0.12402597402597403, 0.33008658008658004)</td>\n",
       "      <td>0.12</td>\n",
       "      <td>0.33</td>\n",
       "    </tr>\n",
       "  </tbody>\n",
       "</table>\n",
       "</div>"
      ],
      "text/plain": [
       "            created_at                                               text  \\\n",
       "0  2022-05-21 21:51:16  Watch the progressive monkeys run out screamin...   \n",
       "1  2022-05-21 22:25:48    When you have Bill Gates shorting Tesla for ...   \n",
       "2  2022-05-21 22:24:39  Monkey pox as reported by Reuters \\n\\n“Gay, bi...   \n",
       "3  2022-05-21 22:27:59    Hey Pete\\nPeople are crazy 'Busy'\\nWe can't ...   \n",
       "4  2022-05-21 22:24:11       _tx  _FDA Well, you know the new thing is...   \n",
       "\n",
       "                                      sentiment  Polarity  Subjectivity  \n",
       "0                             (-0.1625, 0.3875)     -0.16          0.39  \n",
       "1  (-0.04583333333333334, 0.058333333333333334)     -0.05          0.06  \n",
       "2    (0.08166666666666667, 0.30833333333333335)      0.08          0.31  \n",
       "3                               (-0.1375, 0.55)     -0.14          0.55  \n",
       "4    (0.12402597402597403, 0.33008658008658004)      0.12          0.33  "
      ]
     },
     "execution_count": 158,
     "metadata": {},
     "output_type": "execute_result"
    }
   ],
   "source": [
    "textblob.head()"
   ]
  }
 ],
 "metadata": {
  "kernelspec": {
   "display_name": "Python 3.10.6 64-bit",
   "language": "python",
   "name": "python3"
  },
  "language_info": {
   "codemirror_mode": {
    "name": "ipython",
    "version": 3
   },
   "file_extension": ".py",
   "mimetype": "text/x-python",
   "name": "python",
   "nbconvert_exporter": "python",
   "pygments_lexer": "ipython3",
   "version": "3.10.6"
  },
  "orig_nbformat": 4,
  "vscode": {
   "interpreter": {
    "hash": "eebb6a8040ced26c3912d1ebfa34b02a5f174f4a5bf99dee8a8f8392b94169a9"
   }
  }
 },
 "nbformat": 4,
 "nbformat_minor": 2
}
