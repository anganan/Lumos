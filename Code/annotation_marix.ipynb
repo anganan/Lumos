{
 "cells": [
  {
   "cell_type": "code",
   "execution_count": 2,
   "id": "d6deab8c",
   "metadata": {},
   "outputs": [],
   "source": [
    "import pandas as pd\n",
    "from sklearn.metrics import confusion_matrix, recall_score, precision_score, f1_score, accuracy_score, cohen_kappa_score"
   ]
  },
  {
   "cell_type": "code",
   "execution_count": 2,
   "id": "b424c651",
   "metadata": {},
   "outputs": [],
   "source": [
    "ratio=[0.5,0.25,0.25] # expert&annot1&annot2\n",
    "# neutral->[thres,+thres]\n",
    "thres_annot = 0.25 # for annotation labels\n",
    "thres = 0.05 # for model "
   ]
  },
  {
   "cell_type": "markdown",
   "id": "437d9d94",
   "metadata": {},
   "source": [
    "## read_exel"
   ]
  },
  {
   "cell_type": "code",
   "execution_count": 25,
   "id": "6841d94d",
   "metadata": {},
   "outputs": [
    {
     "data": {
      "text/html": [
       "<div>\n",
       "<style scoped>\n",
       "    .dataframe tbody tr th:only-of-type {\n",
       "        vertical-align: middle;\n",
       "    }\n",
       "\n",
       "    .dataframe tbody tr th {\n",
       "        vertical-align: top;\n",
       "    }\n",
       "\n",
       "    .dataframe thead th {\n",
       "        text-align: right;\n",
       "    }\n",
       "</style>\n",
       "<table border=\"1\" class=\"dataframe\">\n",
       "  <thead>\n",
       "    <tr style=\"text-align: right;\">\n",
       "      <th></th>\n",
       "      <th>0</th>\n",
       "      <th>1</th>\n",
       "      <th>2</th>\n",
       "      <th>3</th>\n",
       "      <th>4</th>\n",
       "      <th>5</th>\n",
       "    </tr>\n",
       "  </thead>\n",
       "  <tbody>\n",
       "    <tr>\n",
       "      <th>0</th>\n",
       "      <td>0</td>\n",
       "      <td>0</td>\n",
       "      <td>0</td>\n",
       "      <td>0</td>\n",
       "      <td>0</td>\n",
       "      <td>0</td>\n",
       "    </tr>\n",
       "    <tr>\n",
       "      <th>1</th>\n",
       "      <td>1</td>\n",
       "      <td>-1</td>\n",
       "      <td>-1</td>\n",
       "      <td>-1</td>\n",
       "      <td>-1</td>\n",
       "      <td>-1</td>\n",
       "    </tr>\n",
       "    <tr>\n",
       "      <th>2</th>\n",
       "      <td>2</td>\n",
       "      <td>-1</td>\n",
       "      <td>-1</td>\n",
       "      <td>-1</td>\n",
       "      <td>-1</td>\n",
       "      <td>-1</td>\n",
       "    </tr>\n",
       "    <tr>\n",
       "      <th>3</th>\n",
       "      <td>3</td>\n",
       "      <td>-1</td>\n",
       "      <td>-1</td>\n",
       "      <td>-1</td>\n",
       "      <td>-1</td>\n",
       "      <td>-1</td>\n",
       "    </tr>\n",
       "    <tr>\n",
       "      <th>4</th>\n",
       "      <td>4</td>\n",
       "      <td>-1</td>\n",
       "      <td>-1</td>\n",
       "      <td>0</td>\n",
       "      <td>-1</td>\n",
       "      <td>-1</td>\n",
       "    </tr>\n",
       "  </tbody>\n",
       "</table>\n",
       "</div>"
      ],
      "text/plain": [
       "   0  1  2  3  4  5\n",
       "0  0  0  0  0  0  0\n",
       "1  1 -1 -1 -1 -1 -1\n",
       "2  2 -1 -1 -1 -1 -1\n",
       "3  3 -1 -1 -1 -1 -1\n",
       "4  4 -1 -1  0 -1 -1"
      ]
     },
     "execution_count": 25,
     "metadata": {},
     "output_type": "execute_result"
    }
   ],
   "source": [
    "import openpyxl\n",
    "xlsx = pd.read_excel(r'C:\\Users\\86180\\Desktop\\IC-DS\\GROUP PROJECT\\annotation.xlsx',header = None)\n",
    "#df= pd.DataFrame(xlsx)\n",
    "xlsx.head()\n"
   ]
  },
  {
   "cell_type": "code",
   "execution_count": 26,
   "id": "9e4c1548",
   "metadata": {},
   "outputs": [],
   "source": [
    "xlsx.columns = ['index','expert','annot1','annot2','textblob','vader']"
   ]
  },
  {
   "cell_type": "markdown",
   "id": "111f85b6",
   "metadata": {},
   "source": [
    "## setting the labels"
   ]
  },
  {
   "cell_type": "code",
   "execution_count": 5,
   "id": "dca0301f",
   "metadata": {},
   "outputs": [],
   "source": [
    "all_labels = [-1,0,1]\n",
    "def compute_vote_agreement(row): \n",
    "    result = 0\n",
    "    score = row[1]*ratio[0]+row[2]*ratio[1]+row[3]*ratio[2]\n",
    "    if(score<-thres_annot):\n",
    "        result = -1\n",
    "    elif(score>thres_annot):  \n",
    "        result = 1\n",
    "    else:\n",
    "        result = 0\n",
    "    return result\n",
    " \n",
    "# compute the agreed label via average score\n",
    "xlsx[\"label\"] = xlsx.apply(compute_vote_agreement, axis=1)"
   ]
  },
  {
   "cell_type": "code",
   "execution_count": 6,
   "id": "790c0fdd",
   "metadata": {},
   "outputs": [
    {
     "data": {
      "text/html": [
       "<div>\n",
       "<style scoped>\n",
       "    .dataframe tbody tr th:only-of-type {\n",
       "        vertical-align: middle;\n",
       "    }\n",
       "\n",
       "    .dataframe tbody tr th {\n",
       "        vertical-align: top;\n",
       "    }\n",
       "\n",
       "    .dataframe thead th {\n",
       "        text-align: right;\n",
       "    }\n",
       "</style>\n",
       "<table border=\"1\" class=\"dataframe\">\n",
       "  <thead>\n",
       "    <tr style=\"text-align: right;\">\n",
       "      <th></th>\n",
       "      <th>index</th>\n",
       "      <th>expert</th>\n",
       "      <th>annot1</th>\n",
       "      <th>annot2</th>\n",
       "      <th>textblob</th>\n",
       "      <th>vader</th>\n",
       "      <th>label</th>\n",
       "    </tr>\n",
       "  </thead>\n",
       "  <tbody>\n",
       "    <tr>\n",
       "      <th>0</th>\n",
       "      <td>0</td>\n",
       "      <td>0</td>\n",
       "      <td>0</td>\n",
       "      <td>0</td>\n",
       "      <td>0</td>\n",
       "      <td>0</td>\n",
       "      <td>0</td>\n",
       "    </tr>\n",
       "    <tr>\n",
       "      <th>1</th>\n",
       "      <td>1</td>\n",
       "      <td>-1</td>\n",
       "      <td>-1</td>\n",
       "      <td>-1</td>\n",
       "      <td>-1</td>\n",
       "      <td>-1</td>\n",
       "      <td>-1</td>\n",
       "    </tr>\n",
       "    <tr>\n",
       "      <th>2</th>\n",
       "      <td>2</td>\n",
       "      <td>-1</td>\n",
       "      <td>-1</td>\n",
       "      <td>-1</td>\n",
       "      <td>-1</td>\n",
       "      <td>-1</td>\n",
       "      <td>-1</td>\n",
       "    </tr>\n",
       "    <tr>\n",
       "      <th>3</th>\n",
       "      <td>3</td>\n",
       "      <td>-1</td>\n",
       "      <td>-1</td>\n",
       "      <td>-1</td>\n",
       "      <td>-1</td>\n",
       "      <td>-1</td>\n",
       "      <td>-1</td>\n",
       "    </tr>\n",
       "    <tr>\n",
       "      <th>4</th>\n",
       "      <td>4</td>\n",
       "      <td>-1</td>\n",
       "      <td>-1</td>\n",
       "      <td>0</td>\n",
       "      <td>-1</td>\n",
       "      <td>-1</td>\n",
       "      <td>-1</td>\n",
       "    </tr>\n",
       "  </tbody>\n",
       "</table>\n",
       "</div>"
      ],
      "text/plain": [
       "   index  expert  annot1  annot2  textblob  vader  label\n",
       "0      0       0       0       0         0      0      0\n",
       "1      1      -1      -1      -1        -1     -1     -1\n",
       "2      2      -1      -1      -1        -1     -1     -1\n",
       "3      3      -1      -1      -1        -1     -1     -1\n",
       "4      4      -1      -1       0        -1     -1     -1"
      ]
     },
     "execution_count": 6,
     "metadata": {},
     "output_type": "execute_result"
    }
   ],
   "source": [
    "xlsx.head()"
   ]
  },
  {
   "cell_type": "markdown",
   "id": "957c097c",
   "metadata": {},
   "source": [
    "## Inter-Annotator Agreement metrics"
   ]
  },
  {
   "cell_type": "code",
   "execution_count": 7,
   "id": "5c2a42d4",
   "metadata": {},
   "outputs": [],
   "source": [
    "import numpy as np\n",
    "import pandas as pd\n",
    "N = 300\n",
    "# write an computation yourself without using the packages and function sklearn provide\n",
    "def compute_confusion_matrix(y, yp):\n",
    "    global all_labels\n",
    "    result = np.zeros((len(all_labels),len(all_labels)))\n",
    "    for i in range(N):\n",
    "        result[all_labels.index(y[i])][all_labels.index(yp[i])]+=1\n",
    "        #result[all_labels.index(y[i])][all_labels.index(yp[i])]+1 \n",
    "    return result\n",
    "\n",
    "\n",
    "def display_confusion_matrix(m):\n",
    "    print(m)\n",
    "    pass\n"
   ]
  },
  {
   "cell_type": "markdown",
   "id": "79ff4ce0",
   "metadata": {},
   "source": [
    "### y is the ground truth labels, yp are the ones we compare with\n",
    "### 以-1为正类"
   ]
  },
  {
   "cell_type": "code",
   "execution_count": 8,
   "id": "edada5d0",
   "metadata": {},
   "outputs": [],
   "source": [
    "def compute_recall_score(y, yp):\n",
    "    m = compute_confusion_matrix(y,yp)\n",
    "    sum_=np.sum(m,axis=1) # 按行求和\n",
    "   \n",
    "    return m[0][0]/sum_[0]\n",
    "\n",
    "\n",
    "def compute_precision_score(y, yp):\n",
    "    m = compute_confusion_matrix(y,yp)\n",
    "    sum_=np.sum(m,axis=0) # 按列求和\n",
    "   \n",
    "    return m[0][0]/sum_[0]\n",
    "\n",
    "\n",
    "def compute_f1_score(y, yp):\n",
    "    precision = compute_precision_score(y,yp)\n",
    "    recall = compute_recall_score(y,yp)\n",
    "    \n",
    "    return 2*precision*recall/(precision+recall)\n",
    "\n",
    "\n",
    "def compute_accuracy_score(y, yp):\n",
    "    global N\n",
    "    m = compute_confusion_matrix(y,yp)\n",
    "    sum_1=0\n",
    "    sum_2= N \n",
    "    for i in range(m.shape[0]):\n",
    "        sum_1=sum_1+m[i][i]\n",
    "        \n",
    "    return sum_1/sum_2\n",
    " \n",
    "def compute_cohen_kappa_score(y, yp):\n",
    "    m = compute_confusion_matrix(y,yp)\n",
    "    p0=0\n",
    "    pe=0\n",
    "    sum_1=np.sum(m,axis=1) # 按行求和\n",
    "    sum_2=np.sum(m,axis=0) # 按列求和\n",
    "    for i in range(len(all_labels)):\n",
    "        p0+=m[i][i]\n",
    "        pe+=sum_1[i]*sum_2[i]\n",
    "    pe/=N\n",
    "    return (p0-pe)/(N-pe)  # 分子分母同乘N\n",
    "\n",
    "       \n",
    "def compute_metrics(y, yp):\n",
    "    m = compute_confusion_matrix(y, yp)\n",
    "    display_confusion_matrix(m)\n",
    "\n",
    "    print(f\"   Recall: {compute_recall_score(y, yp):.4}\")\n",
    "    print(f\"Precision: {compute_precision_score(y, yp):.4}\")\n",
    "    print(f\"       F1: {compute_f1_score(y, yp):.4}\")\n",
    "    print(f\" Accuracy: {compute_accuracy_score(y, yp):.4}\")\n",
    "    print(f\"        K: {compute_cohen_kappa_score(y, yp):.4}\")\n"
   ]
  },
  {
   "cell_type": "code",
   "execution_count": 9,
   "id": "4c621785",
   "metadata": {},
   "outputs": [],
   "source": [
    "def get_agreement_matrix(y_list):\n",
    "    m=np.zeros((N,len(all_labels)))\n",
    "    for i in range(len(y_list)):\n",
    "        for j in range(N):\n",
    "            m[j][all_labels.index(y_list[i][j])]+=1\n",
    "    return m\n",
    "\n",
    "\n",
    "\n",
    "def fleiss_kappa(testData, N, k, n): #testData表示要计算的数据，（N,k）表示矩阵的形状，说明数据是N行j列的，一共有n个标注人员\n",
    "    dataMat = np.mat(testData, float)\n",
    "    oneMat = np.ones((k, 1))\n",
    "    sum = 0.0\n",
    "    P0 = 0.0\n",
    "    for i in range(N):\n",
    "        temp = 0.0\n",
    "        for j in range(k):\n",
    "            sum += dataMat[i, j]\n",
    "            temp += 1.0*dataMat[i, j]**2\n",
    "        temp -= n\n",
    "        temp /= (n-1)*n\n",
    "        P0 += temp\n",
    "    P0 = 1.0*P0/N\n",
    "    ysum = np.sum(dataMat, axis=0)\n",
    "    for i in range(k):\n",
    "        ysum[0, i] = (ysum[0, i]/sum)**2\n",
    "    Pe = ysum*oneMat*1.0\n",
    "    ans = (P0-Pe)/(1-Pe)\n",
    "    return ans[0, 0]\n",
    "\n",
    "def compute_fleiss_kappa_score(y_list):\n",
    "    # groundtruth_index denote the index of groundtruth value in y_list\n",
    "    # Fleiss' Kappa score is an extension of Cohen's Kappa for more than 2 annotators\n",
    "    matrix = get_agreement_matrix(y_list)\n",
    "    return fleiss_kappa(matrix, N, len(all_labels), len(y_list))\n",
    "    \n"
   ]
  },
  {
   "cell_type": "markdown",
   "id": "6488386e",
   "metadata": {},
   "source": [
    "## inner annotater agreement metrix "
   ]
  },
  {
   "cell_type": "code",
   "execution_count": 10,
   "id": "08e6bed9",
   "metadata": {},
   "outputs": [
    {
     "name": "stdout",
     "output_type": "stream",
     "text": [
      " Fleiss Kappa: 0.9343\n"
     ]
    }
   ],
   "source": [
    "# 3 annotators\n",
    "print(f\" Fleiss Kappa: {compute_fleiss_kappa_score([xlsx.expert.values,xlsx.annot1.values, xlsx.annot2.values]):.4}\")"
   ]
  },
  {
   "cell_type": "code",
   "execution_count": 11,
   "id": "340243a5",
   "metadata": {},
   "outputs": [
    {
     "name": "stdout",
     "output_type": "stream",
     "text": [
      " Fleiss Kappa: 0.9407\n"
     ]
    }
   ],
   "source": [
    "# label & 3 annotators\n",
    "print(f\" Fleiss Kappa: {compute_fleiss_kappa_score([xlsx.label.values,xlsx.expert.values,xlsx.annot1.values, xlsx.annot2.values]):.4}\")"
   ]
  },
  {
   "cell_type": "markdown",
   "id": "3fe94ffb",
   "metadata": {},
   "source": [
    "## calculate the two model:"
   ]
  },
  {
   "cell_type": "code",
   "execution_count": 12,
   "id": "1fdfa105",
   "metadata": {},
   "outputs": [
    {
     "name": "stdout",
     "output_type": "stream",
     "text": [
      "--- Comparing vader vs groundtruth\n",
      "[[ 94.   7.   1.]\n",
      " [  3. 185.   0.]\n",
      " [  0.   2.   8.]]\n",
      "   Recall: 0.9216\n",
      "Precision: 0.9691\n",
      "       F1: 0.9447\n",
      " Accuracy: 0.9567\n",
      "        K: 0.9104\n"
     ]
    }
   ],
   "source": [
    "print(\"--- Comparing vader vs groundtruth\")\n",
    "compute_metrics(xlsx.label.values, xlsx.vader.values)"
   ]
  },
  {
   "cell_type": "code",
   "execution_count": 13,
   "id": "b7e92fc4",
   "metadata": {},
   "outputs": [
    {
     "name": "stdout",
     "output_type": "stream",
     "text": [
      "--- Comparing textblob vs groundtruth\n",
      "[[ 94.   8.   0.]\n",
      " [  0. 188.   0.]\n",
      " [  0.   2.   8.]]\n",
      "   Recall: 0.9216\n",
      "Precision: 1.0\n",
      "       F1: 0.9592\n",
      " Accuracy: 0.9667\n",
      "        K: 0.9304\n"
     ]
    }
   ],
   "source": [
    "print(\"--- Comparing textblob vs groundtruth\")\n",
    "compute_metrics(xlsx.label.values, xlsx.textblob.values)"
   ]
  },
  {
   "cell_type": "markdown",
   "id": "00703ee5",
   "metadata": {},
   "source": [
    "## determin the best model by weighted average method"
   ]
  },
  {
   "cell_type": "code",
   "execution_count": 22,
   "id": "78d43e39",
   "metadata": {},
   "outputs": [],
   "source": [
    "\n",
    "def weight_average(row,weight):\n",
    "    global ratio\n",
    "    global thres\n",
    "    score = row[4]*weight+row[5]*(1-weight)\n",
    "    result = 0\n",
    "    if(score<-thres):\n",
    "        result = -1\n",
    "    elif(score>thres):  \n",
    "        result = 1\n",
    "    else:\n",
    "        result = 0\n",
    "    return result\n"
   ]
  },
  {
   "cell_type": "code",
   "execution_count": 23,
   "id": "0b68a3de",
   "metadata": {},
   "outputs": [
    {
     "data": {
      "text/plain": [
       "0      0\n",
       "1     -1\n",
       "2     -1\n",
       "3     -1\n",
       "4     -1\n",
       "      ..\n",
       "295    0\n",
       "296   -1\n",
       "297   -1\n",
       "298    0\n",
       "299    0\n",
       "Name: w_a, Length: 300, dtype: int64"
      ]
     },
     "execution_count": 23,
     "metadata": {},
     "output_type": "execute_result"
    }
   ],
   "source": [
    "xlsx[\"w_a\"] = xlsx.apply(lambda row: weight_average(row,weight=0.1), axis=1)\n",
    "xlsx[\"w_a\"]"
   ]
  },
  {
   "cell_type": "code",
   "execution_count": 28,
   "id": "f6848d13",
   "metadata": {
    "scrolled": true
   },
   "outputs": [
    {
     "name": "stdout",
     "output_type": "stream",
     "text": [
      "acc_max\n",
      "1.0 0.75\n",
      "prec_max\n",
      "1.0 0.63\n"
     ]
    },
    {
     "data": {
      "image/png": "[encoded data removed]",
      "text/plain": [
       "<Figure size 1440x360 with 1 Axes>"
      ]
     },
     "metadata": {
      "needs_background": "light"
     },
     "output_type": "display_data"
    },
    {
     "data": {
      "image/png": "[encoded data removed]",
      "text/plain": [
       "<Figure size 1440x360 with 1 Axes>"
      ]
     },
     "metadata": {
      "needs_background": "light"
     },
     "output_type": "display_data"
    }
   ],
   "source": [
    "import matplotlib.pyplot as plt\n",
    "weights = np.arange(0.01,1.01,0.01) # weight for textblob\n",
    "acc_list = []\n",
    "prec_list =[] \n",
    "for weight in weights:\n",
    "    xlsx[\"w_a\"] = xlsx.apply(lambda row: weight_average(row,weight), axis=1)\n",
    "    acc = compute_accuracy_score(xlsx.w_a.values, xlsx.textblob.values)\n",
    "    prec = compute_precision_score(xlsx.w_a.values, xlsx.textblob.values)\n",
    "    acc_list.append(acc)\n",
    "    prec_list.append(prec)\n",
    "print('acc_max')   \n",
    "print(max(acc_list),(acc_list.index(max(acc_list))+1)/100)  \n",
    "print('prec_max')   \n",
    "print(max(prec_list),(prec_list.index(max(prec_list))+1)/100)  \n",
    "\n",
    "plt.figure(figsize=[20,5])\n",
    "plt.title('accuracy')\n",
    "plt.xlabel('weight')\n",
    "plt.ylabel('accuracy')\n",
    "plt.plot(weights,acc_list)\n",
    "plt.show()\n",
    "\n",
    "plt.figure(figsize=[20,5])\n",
    "plt.title('precision')\n",
    "plt.xlabel('weight')\n",
    "plt.ylabel('precision')\n",
    "plt.plot(weights,acc_list)\n",
    "plt.show()"
   ]
  },
  {
   "cell_type": "markdown",
   "id": "77b73b26",
   "metadata": {},
   "source": [
    "## get the score of vader and textblob"
   ]
  },
  {
   "cell_type": "code",
   "execution_count": 13,
   "id": "a0d217aa",
   "metadata": {
    "scrolled": true
   },
   "outputs": [
    {
     "data": {
      "text/html": [
       "<div>\n",
       "<style scoped>\n",
       "    .dataframe tbody tr th:only-of-type {\n",
       "        vertical-align: middle;\n",
       "    }\n",
       "\n",
       "    .dataframe tbody tr th {\n",
       "        vertical-align: top;\n",
       "    }\n",
       "\n",
       "    .dataframe thead th {\n",
       "        text-align: right;\n",
       "    }\n",
       "</style>\n",
       "<table border=\"1\" class=\"dataframe\">\n",
       "  <thead>\n",
       "    <tr style=\"text-align: right;\">\n",
       "      <th></th>\n",
       "      <th>index</th>\n",
       "      <th>text</th>\n",
       "    </tr>\n",
       "  </thead>\n",
       "  <tbody>\n",
       "    <tr>\n",
       "      <th>0</th>\n",
       "      <td>25443</td>\n",
       "      <td>finds monkey pox hilarious!</td>\n",
       "    </tr>\n",
       "    <tr>\n",
       "      <th>1</th>\n",
       "      <td>35595</td>\n",
       "      <td>That monkey pox shit is nasty</td>\n",
       "    </tr>\n",
       "    <tr>\n",
       "      <th>2</th>\n",
       "      <td>139333</td>\n",
       "      <td>HEY You liberals want a zillion immigrants i...</td>\n",
       "    </tr>\n",
       "    <tr>\n",
       "      <th>3</th>\n",
       "      <td>51580</td>\n",
       "      <td>Too late and too little. It is the fault of ...</td>\n",
       "    </tr>\n",
       "    <tr>\n",
       "      <th>4</th>\n",
       "      <td>140788</td>\n",
       "      <td>Admittedly, the combination of monkey pox be...</td>\n",
       "    </tr>\n",
       "  </tbody>\n",
       "</table>\n",
       "</div>"
      ],
      "text/plain": [
       "    index                                               text\n",
       "0   25443                       finds monkey pox hilarious! \n",
       "1   35595                      That monkey pox shit is nasty\n",
       "2  139333    HEY You liberals want a zillion immigrants i...\n",
       "3   51580    Too late and too little. It is the fault of ...\n",
       "4  140788    Admittedly, the combination of monkey pox be..."
      ]
     },
     "execution_count": 13,
     "metadata": {},
     "output_type": "execute_result"
    }
   ],
   "source": [
    "df=pd.read_csv('C:/Users/86180/Desktop/IC-DS/GROUP PROJECT/text_cleaned_to_lable.csv')\n",
    "df.columns = ['index','text']\n",
    "df.head()"
   ]
  },
  {
   "cell_type": "markdown",
   "id": "3369eb7a",
   "metadata": {},
   "source": [
    "## vader"
   ]
  },
  {
   "cell_type": "code",
   "execution_count": 17,
   "id": "0fe88056",
   "metadata": {
    "scrolled": true
   },
   "outputs": [
    {
     "data": {
      "text/html": [
       "<div>\n",
       "<style scoped>\n",
       "    .dataframe tbody tr th:only-of-type {\n",
       "        vertical-align: middle;\n",
       "    }\n",
       "\n",
       "    .dataframe tbody tr th {\n",
       "        vertical-align: top;\n",
       "    }\n",
       "\n",
       "    .dataframe thead th {\n",
       "        text-align: right;\n",
       "    }\n",
       "</style>\n",
       "<table border=\"1\" class=\"dataframe\">\n",
       "  <thead>\n",
       "    <tr style=\"text-align: right;\">\n",
       "      <th></th>\n",
       "      <th>index</th>\n",
       "      <th>text</th>\n",
       "      <th>sentiment</th>\n",
       "      <th>vader</th>\n",
       "    </tr>\n",
       "  </thead>\n",
       "  <tbody>\n",
       "    <tr>\n",
       "      <th>0</th>\n",
       "      <td>25443</td>\n",
       "      <td>finds monkey pox hilarious!</td>\n",
       "      <td>0.4574</td>\n",
       "      <td>1</td>\n",
       "    </tr>\n",
       "    <tr>\n",
       "      <th>1</th>\n",
       "      <td>35595</td>\n",
       "      <td>That monkey pox shit is nasty</td>\n",
       "      <td>-0.8020</td>\n",
       "      <td>-1</td>\n",
       "    </tr>\n",
       "    <tr>\n",
       "      <th>2</th>\n",
       "      <td>139333</td>\n",
       "      <td>HEY You liberals want a zillion immigrants i...</td>\n",
       "      <td>0.9130</td>\n",
       "      <td>1</td>\n",
       "    </tr>\n",
       "    <tr>\n",
       "      <th>3</th>\n",
       "      <td>51580</td>\n",
       "      <td>Too late and too little. It is the fault of ...</td>\n",
       "      <td>-0.4019</td>\n",
       "      <td>-1</td>\n",
       "    </tr>\n",
       "    <tr>\n",
       "      <th>4</th>\n",
       "      <td>140788</td>\n",
       "      <td>Admittedly, the combination of monkey pox be...</td>\n",
       "      <td>-0.3612</td>\n",
       "      <td>-1</td>\n",
       "    </tr>\n",
       "  </tbody>\n",
       "</table>\n",
       "</div>"
      ],
      "text/plain": [
       "    index                                               text  sentiment  vader\n",
       "0   25443                       finds monkey pox hilarious!      0.4574      1\n",
       "1   35595                      That monkey pox shit is nasty    -0.8020     -1\n",
       "2  139333    HEY You liberals want a zillion immigrants i...     0.9130      1\n",
       "3   51580    Too late and too little. It is the fault of ...    -0.4019     -1\n",
       "4  140788    Admittedly, the combination of monkey pox be...    -0.3612     -1"
      ]
     },
     "execution_count": 17,
     "metadata": {},
     "output_type": "execute_result"
    }
   ],
   "source": [
    "import nltk\n",
    "from vaderSentiment.vaderSentiment import SentimentIntensityAnalyzer\n",
    "\n",
    "def sentiment(df):\n",
    "    sid_obj = SentimentIntensityAnalyzer()\n",
    "    vader =[]\n",
    "    for col in df['text']:\n",
    "        sentiment_dict = sid_obj.polarity_scores(col)\n",
    "        compound = sentiment_dict['compound']\n",
    "        vader.append(compound)\n",
    "    df.insert(df.shape[1], 'sentiment', vader)\n",
    "    return df\n",
    "\n",
    "df = sentiment(df)\n",
    "df['vader'] = df['sentiment'].apply(lambda x: -1 if x<-thres else( 0 if x<thres else 1 ))\n",
    "df.head()"
   ]
  },
  {
   "cell_type": "markdown",
   "id": "77f91095",
   "metadata": {},
   "source": [
    "## textblob"
   ]
  },
  {
   "cell_type": "code",
   "execution_count": 18,
   "id": "341d1d1b",
   "metadata": {},
   "outputs": [],
   "source": [
    "from textblob import TextBlob\n",
    "import pandas as pd\n",
    "import numpy as np\n",
    "import matplotlib.pyplot as plt\n",
    "import emoji"
   ]
  },
  {
   "cell_type": "code",
   "execution_count": 19,
   "id": "d55f8d06",
   "metadata": {},
   "outputs": [],
   "source": [
    "df['text_deal_emoji'] = df['text'].astype(str).apply(lambda x: emoji.demojize(x))"
   ]
  },
  {
   "cell_type": "code",
   "execution_count": 20,
   "id": "6525b996",
   "metadata": {},
   "outputs": [
    {
     "data": {
      "text/html": [
       "<div>\n",
       "<style scoped>\n",
       "    .dataframe tbody tr th:only-of-type {\n",
       "        vertical-align: middle;\n",
       "    }\n",
       "\n",
       "    .dataframe tbody tr th {\n",
       "        vertical-align: top;\n",
       "    }\n",
       "\n",
       "    .dataframe thead th {\n",
       "        text-align: right;\n",
       "    }\n",
       "</style>\n",
       "<table border=\"1\" class=\"dataframe\">\n",
       "  <thead>\n",
       "    <tr style=\"text-align: right;\">\n",
       "      <th></th>\n",
       "      <th>index</th>\n",
       "      <th>text</th>\n",
       "      <th>sentiment</th>\n",
       "      <th>vader</th>\n",
       "      <th>text_deal_emoji</th>\n",
       "      <th>Polarity</th>\n",
       "      <th>Subjectivity</th>\n",
       "    </tr>\n",
       "  </thead>\n",
       "  <tbody>\n",
       "    <tr>\n",
       "      <th>0</th>\n",
       "      <td>25443</td>\n",
       "      <td>finds monkey pox hilarious!</td>\n",
       "      <td>(0.2875, 0.5)</td>\n",
       "      <td>1</td>\n",
       "      <td>finds monkey pox hilarious!</td>\n",
       "      <td>0.29</td>\n",
       "      <td>0.50</td>\n",
       "    </tr>\n",
       "    <tr>\n",
       "      <th>1</th>\n",
       "      <td>35595</td>\n",
       "      <td>That monkey pox shit is nasty</td>\n",
       "      <td>(-0.4166666666666667, 0.6)</td>\n",
       "      <td>-1</td>\n",
       "      <td>That monkey pox shit is nasty</td>\n",
       "      <td>-0.42</td>\n",
       "      <td>0.60</td>\n",
       "    </tr>\n",
       "    <tr>\n",
       "      <th>2</th>\n",
       "      <td>139333</td>\n",
       "      <td>HEY You liberals want a zillion immigrants i...</td>\n",
       "      <td>(0.27499999999999997, 0.35)</td>\n",
       "      <td>1</td>\n",
       "      <td>HEY You liberals want a zillion immigrants i...</td>\n",
       "      <td>0.27</td>\n",
       "      <td>0.35</td>\n",
       "    </tr>\n",
       "    <tr>\n",
       "      <th>3</th>\n",
       "      <td>51580</td>\n",
       "      <td>Too late and too little. It is the fault of ...</td>\n",
       "      <td>(-0.17916666666666667, 0.3666666666666667)</td>\n",
       "      <td>-1</td>\n",
       "      <td>Too late and too little. It is the fault of ...</td>\n",
       "      <td>-0.18</td>\n",
       "      <td>0.37</td>\n",
       "    </tr>\n",
       "    <tr>\n",
       "      <th>4</th>\n",
       "      <td>140788</td>\n",
       "      <td>Admittedly, the combination of monkey pox be...</td>\n",
       "      <td>(0.05000000000000001, 0.4666666666666666)</td>\n",
       "      <td>-1</td>\n",
       "      <td>Admittedly, the combination of monkey pox be...</td>\n",
       "      <td>0.05</td>\n",
       "      <td>0.47</td>\n",
       "    </tr>\n",
       "  </tbody>\n",
       "</table>\n",
       "</div>"
      ],
      "text/plain": [
       "    index                                               text  \\\n",
       "0   25443                       finds monkey pox hilarious!    \n",
       "1   35595                      That monkey pox shit is nasty   \n",
       "2  139333    HEY You liberals want a zillion immigrants i...   \n",
       "3   51580    Too late and too little. It is the fault of ...   \n",
       "4  140788    Admittedly, the combination of monkey pox be...   \n",
       "\n",
       "                                    sentiment  vader  \\\n",
       "0                               (0.2875, 0.5)      1   \n",
       "1                  (-0.4166666666666667, 0.6)     -1   \n",
       "2                 (0.27499999999999997, 0.35)      1   \n",
       "3  (-0.17916666666666667, 0.3666666666666667)     -1   \n",
       "4   (0.05000000000000001, 0.4666666666666666)     -1   \n",
       "\n",
       "                                     text_deal_emoji  Polarity  Subjectivity  \n",
       "0                       finds monkey pox hilarious!       0.29          0.50  \n",
       "1                      That monkey pox shit is nasty     -0.42          0.60  \n",
       "2    HEY You liberals want a zillion immigrants i...      0.27          0.35  \n",
       "3    Too late and too little. It is the fault of ...     -0.18          0.37  \n",
       "4    Admittedly, the combination of monkey pox be...      0.05          0.47  "
      ]
     },
     "execution_count": 20,
     "metadata": {},
     "output_type": "execute_result"
    }
   ],
   "source": [
    "pd.options.mode.chained_assignment = None\n",
    "\n",
    "df['sentiment'] = df['text'].apply(lambda review: TextBlob(review).sentiment) \n",
    "df['Polarity'] = df['sentiment'].apply(lambda x: round(x[0],2)) \n",
    "df['Subjectivity'] = df['sentiment'].apply(lambda x: round(x[1],2)) \n",
    "df.head()"
   ]
  },
  {
   "cell_type": "code",
   "execution_count": 21,
   "id": "6c73d7c9",
   "metadata": {},
   "outputs": [],
   "source": [
    "df.drop(columns=['sentiment'],inplace =True)"
   ]
  },
  {
   "cell_type": "code",
   "execution_count": 22,
   "id": "8f669f0a",
   "metadata": {},
   "outputs": [],
   "source": [
    "df['textblob'] = df['Polarity'].apply(lambda x: -1 if x<-thres else( 0 if x<thres else 1 ))"
   ]
  },
  {
   "cell_type": "code",
   "execution_count": 23,
   "id": "87e1796c",
   "metadata": {},
   "outputs": [
    {
     "data": {
      "text/html": [
       "<div>\n",
       "<style scoped>\n",
       "    .dataframe tbody tr th:only-of-type {\n",
       "        vertical-align: middle;\n",
       "    }\n",
       "\n",
       "    .dataframe tbody tr th {\n",
       "        vertical-align: top;\n",
       "    }\n",
       "\n",
       "    .dataframe thead th {\n",
       "        text-align: right;\n",
       "    }\n",
       "</style>\n",
       "<table border=\"1\" class=\"dataframe\">\n",
       "  <thead>\n",
       "    <tr style=\"text-align: right;\">\n",
       "      <th></th>\n",
       "      <th>index</th>\n",
       "      <th>text</th>\n",
       "      <th>vader</th>\n",
       "      <th>text_deal_emoji</th>\n",
       "      <th>Polarity</th>\n",
       "      <th>Subjectivity</th>\n",
       "      <th>textblob</th>\n",
       "    </tr>\n",
       "  </thead>\n",
       "  <tbody>\n",
       "    <tr>\n",
       "      <th>0</th>\n",
       "      <td>25443</td>\n",
       "      <td>finds monkey pox hilarious!</td>\n",
       "      <td>1</td>\n",
       "      <td>finds monkey pox hilarious!</td>\n",
       "      <td>0.29</td>\n",
       "      <td>0.50</td>\n",
       "      <td>1</td>\n",
       "    </tr>\n",
       "    <tr>\n",
       "      <th>1</th>\n",
       "      <td>35595</td>\n",
       "      <td>That monkey pox shit is nasty</td>\n",
       "      <td>-1</td>\n",
       "      <td>That monkey pox shit is nasty</td>\n",
       "      <td>-0.42</td>\n",
       "      <td>0.60</td>\n",
       "      <td>-1</td>\n",
       "    </tr>\n",
       "    <tr>\n",
       "      <th>2</th>\n",
       "      <td>139333</td>\n",
       "      <td>HEY You liberals want a zillion immigrants i...</td>\n",
       "      <td>1</td>\n",
       "      <td>HEY You liberals want a zillion immigrants i...</td>\n",
       "      <td>0.27</td>\n",
       "      <td>0.35</td>\n",
       "      <td>1</td>\n",
       "    </tr>\n",
       "    <tr>\n",
       "      <th>3</th>\n",
       "      <td>51580</td>\n",
       "      <td>Too late and too little. It is the fault of ...</td>\n",
       "      <td>-1</td>\n",
       "      <td>Too late and too little. It is the fault of ...</td>\n",
       "      <td>-0.18</td>\n",
       "      <td>0.37</td>\n",
       "      <td>-1</td>\n",
       "    </tr>\n",
       "    <tr>\n",
       "      <th>4</th>\n",
       "      <td>140788</td>\n",
       "      <td>Admittedly, the combination of monkey pox be...</td>\n",
       "      <td>-1</td>\n",
       "      <td>Admittedly, the combination of monkey pox be...</td>\n",
       "      <td>0.05</td>\n",
       "      <td>0.47</td>\n",
       "      <td>1</td>\n",
       "    </tr>\n",
       "  </tbody>\n",
       "</table>\n",
       "</div>"
      ],
      "text/plain": [
       "    index                                               text  vader  \\\n",
       "0   25443                       finds monkey pox hilarious!       1   \n",
       "1   35595                      That monkey pox shit is nasty     -1   \n",
       "2  139333    HEY You liberals want a zillion immigrants i...      1   \n",
       "3   51580    Too late and too little. It is the fault of ...     -1   \n",
       "4  140788    Admittedly, the combination of monkey pox be...     -1   \n",
       "\n",
       "                                     text_deal_emoji  Polarity  Subjectivity  \\\n",
       "0                       finds monkey pox hilarious!       0.29          0.50   \n",
       "1                      That monkey pox shit is nasty     -0.42          0.60   \n",
       "2    HEY You liberals want a zillion immigrants i...      0.27          0.35   \n",
       "3    Too late and too little. It is the fault of ...     -0.18          0.37   \n",
       "4    Admittedly, the combination of monkey pox be...      0.05          0.47   \n",
       "\n",
       "   textblob  \n",
       "0         1  \n",
       "1        -1  \n",
       "2         1  \n",
       "3        -1  \n",
       "4         1  "
      ]
     },
     "execution_count": 23,
     "metadata": {},
     "output_type": "execute_result"
    }
   ],
   "source": [
    "df.head()"
   ]
  },
  {
   "cell_type": "code",
   "execution_count": 28,
   "id": "11e5ceec",
   "metadata": {},
   "outputs": [],
   "source": [
    "xlsx['vader'] = df['vader']\n",
    "xlsx['textblob'] = df['textblob']\n",
    "xlsx['index'] = df['index']"
   ]
  },
  {
   "cell_type": "code",
   "execution_count": 32,
   "id": "2fb5b17b",
   "metadata": {},
   "outputs": [],
   "source": [
    "xlsx.to_csv('C:/Users/86180/Desktop/IC-DS/GROUP PROJECT/annotation.csv')\n",
    "df.to_csv('C:/Users/86180/Desktop/IC-DS/GROUP PROJECT/300.csv')"
   ]
  },
  {
   "cell_type": "code",
   "execution_count": 31,
   "id": "3e9532c7",
   "metadata": {},
   "outputs": [
    {
     "data": {
      "text/html": [
       "<div>\n",
       "<style scoped>\n",
       "    .dataframe tbody tr th:only-of-type {\n",
       "        vertical-align: middle;\n",
       "    }\n",
       "\n",
       "    .dataframe tbody tr th {\n",
       "        vertical-align: top;\n",
       "    }\n",
       "\n",
       "    .dataframe thead th {\n",
       "        text-align: right;\n",
       "    }\n",
       "</style>\n",
       "<table border=\"1\" class=\"dataframe\">\n",
       "  <thead>\n",
       "    <tr style=\"text-align: right;\">\n",
       "      <th></th>\n",
       "      <th>index</th>\n",
       "      <th>expert</th>\n",
       "      <th>annot1</th>\n",
       "      <th>annot2</th>\n",
       "      <th>textblob</th>\n",
       "      <th>vader</th>\n",
       "    </tr>\n",
       "  </thead>\n",
       "  <tbody>\n",
       "    <tr>\n",
       "      <th>0</th>\n",
       "      <td>25443</td>\n",
       "      <td>0</td>\n",
       "      <td>0</td>\n",
       "      <td>0</td>\n",
       "      <td>1</td>\n",
       "      <td>1</td>\n",
       "    </tr>\n",
       "    <tr>\n",
       "      <th>1</th>\n",
       "      <td>35595</td>\n",
       "      <td>-1</td>\n",
       "      <td>-1</td>\n",
       "      <td>-1</td>\n",
       "      <td>-1</td>\n",
       "      <td>-1</td>\n",
       "    </tr>\n",
       "    <tr>\n",
       "      <th>2</th>\n",
       "      <td>139333</td>\n",
       "      <td>-1</td>\n",
       "      <td>-1</td>\n",
       "      <td>-1</td>\n",
       "      <td>1</td>\n",
       "      <td>1</td>\n",
       "    </tr>\n",
       "    <tr>\n",
       "      <th>3</th>\n",
       "      <td>51580</td>\n",
       "      <td>-1</td>\n",
       "      <td>-1</td>\n",
       "      <td>-1</td>\n",
       "      <td>-1</td>\n",
       "      <td>-1</td>\n",
       "    </tr>\n",
       "    <tr>\n",
       "      <th>4</th>\n",
       "      <td>140788</td>\n",
       "      <td>-1</td>\n",
       "      <td>-1</td>\n",
       "      <td>0</td>\n",
       "      <td>1</td>\n",
       "      <td>-1</td>\n",
       "    </tr>\n",
       "  </tbody>\n",
       "</table>\n",
       "</div>"
      ],
      "text/plain": [
       "    index  expert  annot1  annot2  textblob  vader\n",
       "0   25443       0       0       0         1      1\n",
       "1   35595      -1      -1      -1        -1     -1\n",
       "2  139333      -1      -1      -1         1      1\n",
       "3   51580      -1      -1      -1        -1     -1\n",
       "4  140788      -1      -1       0         1     -1"
      ]
     },
     "execution_count": 31,
     "metadata": {},
     "output_type": "execute_result"
    }
   ],
   "source": [
    "xlsx.head()"
   ]
  },
  {
   "cell_type": "code",
   "execution_count": null,
   "id": "823ff890",
   "metadata": {},
   "outputs": [],
   "source": []
  },
  {
   "cell_type": "code",
   "execution_count": null,
   "id": "05581eed",
   "metadata": {},
   "outputs": [],
   "source": []
  }
 ],
 "metadata": {
  "kernelspec": {
   "display_name": "Python 3 (ipykernel)",
   "language": "python",
   "name": "python3"
  },
  "language_info": {
   "codemirror_mode": {
    "name": "ipython",
    "version": 3
   },
   "file_extension": ".py",
   "mimetype": "text/x-python",
   "name": "python",
   "nbconvert_exporter": "python",
   "pygments_lexer": "ipython3",
   "version": "3.9.7"
  }
 },
 "nbformat": 4,
 "nbformat_minor": 5
}
